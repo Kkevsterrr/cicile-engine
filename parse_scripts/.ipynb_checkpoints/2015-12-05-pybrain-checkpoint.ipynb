{
 "cells": [
  {
   "cell_type": "code",
   "execution_count": 8,
   "metadata": {
    "collapsed": false
   },
   "outputs": [],
   "source": [
    "%matplotlib inline\n",
    "from fenparse import *\n",
    "from pybrain.datasets import ClassificationDataSet\n",
    "from pybrain.supervised.trainers import BackpropTrainer\n",
    "from pybrain.tools.shortcuts import buildNetwork\n",
    "from pybrain.structure.modules import TanhLayer\n",
    "import numpy as np\n",
    "import random\n",
    "from sklearn.metrics import confusion_matrix"
   ]
  },
  {
   "cell_type": "code",
   "execution_count": 9,
   "metadata": {
    "collapsed": true
   },
   "outputs": [],
   "source": [
    "\n",
    "NUM_LEGAL = 5\n",
    "NUM_ILLEGAL = 5\n",
    "with open(\"../data/2015-12-01-fen_sample\") as f:\n",
    "    content = [\" \".join(line.split(\" \")[:2]) for line in f.readlines()]"
   ]
  },
  {
   "cell_type": "code",
   "execution_count": 10,
   "metadata": {
    "collapsed": false
   },
   "outputs": [],
   "source": [
    "legal = []\n",
    "illegal = []\n",
    "for fen in content[:5000]:\n",
    "    iboard, to_move = fen2iboard(fen)\n",
    "    #rotate if necessary\n",
    "    iboard = rotate_iboard(iboard) if to_move == 'b' else iboard\n",
    "    #generate n legal moves\n",
    "    try :\n",
    "        legal += [move2keras(iboard, get_legal_move_generator(iboard).next()) for i in range(0, NUM_LEGAL)]\n",
    "    except StopIteration:\n",
    "        pass\n",
    "    #generate m illegal moves\n",
    "    for i in range(0, NUM_ILLEGAL):\n",
    "        next_move = gen_illegal_moves(iboard, get_legal_move_generator(iboard)).next()\n",
    "        if (type(next_move) == tuple):\n",
    "            illegal.append(move2keras(iboard, next_move))\n",
    "\n",
    "#prettify_keras(illegal[4])\n"
   ]
  },
  {
   "cell_type": "code",
   "execution_count": 11,
   "metadata": {
    "collapsed": true
   },
   "outputs": [],
   "source": [
    "legal_train_sample = random.sample(legal, 1000)\n",
    "legal_test_sample = random.sample(legal, 1000)\n",
    "illegal_train_sample = random.sample(illegal, 1000)\n",
    "illegal_test_sample = random.sample(illegal, 1000)\n",
    "X_train = (legal_train_sample + illegal_train_sample)\n",
    "y_train = [[1] for i in range(0,len(legal_train_sample))] + [[0] for i in range(0,len(illegal_train_sample))]\n",
    "X_test = legal_test_sample + illegal_test_sample\n",
    "y_test = [[1] for i in range(0,len(legal_test_sample))] + [[0] for i in range(0,len(illegal_test_sample))]\n",
    "assert len(X_train) == len(X_test)"
   ]
  },
  {
   "cell_type": "code",
   "execution_count": 57,
   "metadata": {
    "collapsed": true
   },
   "outputs": [],
   "source": [
    "def shuffle_in_unison(a, b):\n",
    "    rng_state = np.random.get_state()\n",
    "    np.random.shuffle(a)\n",
    "    np.random.set_state(rng_state)\n",
    "    np.random.shuffle(b)"
   ]
  },
  {
   "cell_type": "code",
   "execution_count": 61,
   "metadata": {
    "collapsed": false
   },
   "outputs": [
    {
     "name": "stdout",
     "output_type": "stream",
     "text": [
      "[3, 4, 2, 1, 5]\n",
      "[3, 4, 2, 1, 5]\n"
     ]
    }
   ],
   "source": [
    "X_train = np.array(X_train)\n",
    "y_train = np.array(y_train)\n",
    "X_test = np.array(X_train)\n",
    "y_test = np.array(y_test)\n",
    "\n",
    "shuffle_in_unison(X_train, y_train)\n",
    "shuffle_in_unison(X_test, y_test)"
   ]
  },
  {
   "cell_type": "code",
   "execution_count": 62,
   "metadata": {
    "collapsed": false
   },
   "outputs": [
    {
     "data": {
      "text/plain": [
       "array([1000])"
      ]
     },
     "execution_count": 62,
     "metadata": {},
     "output_type": "execute_result"
    }
   ],
   "source": [
    "sum(y_test)"
   ]
  },
  {
   "cell_type": "code",
   "execution_count": 65,
   "metadata": {
    "collapsed": false,
    "scrolled": true
   },
   "outputs": [
    {
     "name": "stdout",
     "output_type": "stream",
     "text": [
      "Starting\n",
      "Building dataset\n",
      "Converted\n",
      "Built network\n",
      "Total error: 2.49544411399\n",
      "[[310 690]\n",
      " [302 698]]\n"
     ]
    }
   ],
   "source": [
    "#train a simple neural network on 2000 instances\n",
    "print \"Starting\"\n",
    "# build dataset\n",
    "train_ds = ClassificationDataSet(1536, nb_classes=2, class_labels=[\"Illegal\", \"Legal\"])\n",
    "for i in range(0,2000):\n",
    "    #j = random.randint(0,2000)\n",
    "    train_ds.addSample(X_train[i], y_train[i])\n",
    "    \n",
    "test_ds = ClassificationDataSet(1536, nb_classes=2, class_labels=[\"Illegal\", \"Legal\"])\n",
    "for i in range(0,2000):\n",
    "    test_ds.addSample(X_test[i], y_test[i])\n",
    "print \"Building dataset\"\n",
    "#print(train_ds.getField('target'))\n",
    "train_ds._convertToOneOfMany(bounds=[0, 1])\n",
    "test_ds._convertToOneOfMany(bounds=[0, 1])\n",
    "#print(train_ds.getField('target'))\n",
    "print \"Converted\"\n",
    "net     = buildNetwork(1536, 100, 2, bias=True, hiddenclass=TanhLayer)\n",
    "trainer = BackpropTrainer(net,  train_ds, verbose=True)\n",
    "print \"Built network\"\n",
    "for i in range(1):\n",
    "    trainer.trainEpochs( 1 )\n",
    "    prob_out = net.activateOnDataset(test_ds)\n",
    "    out_max_prob = prob_out.argmax(axis=1)  # the highest output activation gives the class\n",
    "    #out = out.reshape(X_train.shape)\n",
    "    #print(out_max_prob)\n",
    "    #print(prob_out)\n",
    "    print(confusion_matrix(y_test, out_max_prob))\n",
    "#    print(confusion_matrix(y_train, out))"
   ]
  },
  {
   "cell_type": "code",
   "execution_count": null,
   "metadata": {
    "collapsed": false
   },
   "outputs": [],
   "source": []
  },
  {
   "cell_type": "code",
   "execution_count": null,
   "metadata": {
    "collapsed": true
   },
   "outputs": [],
   "source": []
  }
 ],
 "metadata": {
  "kernelspec": {
   "display_name": "Python 2",
   "language": "python",
   "name": "python2"
  },
  "language_info": {
   "codemirror_mode": {
    "name": "ipython",
    "version": 2
   },
   "file_extension": ".py",
   "mimetype": "text/x-python",
   "name": "python",
   "nbconvert_exporter": "python",
   "pygments_lexer": "ipython2",
   "version": "2.7.10"
  }
 },
 "nbformat": 4,
 "nbformat_minor": 0
}
