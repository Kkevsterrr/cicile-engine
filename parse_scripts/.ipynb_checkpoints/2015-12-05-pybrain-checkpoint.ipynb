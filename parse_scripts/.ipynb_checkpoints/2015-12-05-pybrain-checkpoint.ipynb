{
 "cells": [
  {
   "cell_type": "code",
   "execution_count": 8,
   "metadata": {
    "collapsed": false
   },
   "outputs": [
    {
     "name": "stdout",
     "output_type": "stream",
     "text": [
      "Position(board='         \\n         \\n rnbqkbnr\\n pppp.ppp\\n ........\\n ....p...\\n ....P...\\n .....N..\\n PPPP.PPP\\n RNBQKB.R\\n         \\n         ', score=0, wc=(True, True), bc=(True, True), ep=0, kp=0)\n",
      "(81, 44)\n",
      "(32, 33)\n",
      "(76, 55), N->p\n"
     ]
    }
   ],
   "source": [
    "%matplotlib inline\n",
    "from fenparsev4 import *\n",
    "from pybrain.datasets import ClassificationDataSet\n",
    "from pybrain.supervised.trainers import BackpropTrainer\n",
    "from pybrain.tools.shortcuts import buildNetwork\n",
    "from pybrain.structure.modules import TanhLayer\n",
    "import numpy as np\n",
    "import random\n",
    "from sklearn.metrics import confusion_matrix\n",
    "import pickle"
   ]
  },
  {
   "cell_type": "code",
   "execution_count": 9,
   "metadata": {
    "collapsed": false
   },
   "outputs": [],
   "source": [
    "with open(\"../data/2015-12-01-fen_sample\") as f:\n",
    "    content = [\" \".join(line.split(\" \")[:2]) for line in f.readlines()]"
   ]
  },
  {
   "cell_type": "code",
   "execution_count": 10,
   "metadata": {
    "collapsed": false
   },
   "outputs": [],
   "source": [
    "df = fen2mlinput(content[:1000])"
   ]
  },
  {
   "cell_type": "code",
   "execution_count": 11,
   "metadata": {
    "collapsed": false
   },
   "outputs": [],
   "source": [
    "length = df.shape[0]\n",
    "df = df.set_index([range(0,length)])\n",
    "#shuffle\n",
    "df = df.reindex(np.random.permutation(df.index))"
   ]
  },
  {
   "cell_type": "code",
   "execution_count": 12,
   "metadata": {
    "collapsed": false
   },
   "outputs": [
    {
     "data": {
      "text/plain": [
       "[4]"
      ]
     },
     "execution_count": 12,
     "metadata": {},
     "output_type": "execute_result"
    }
   ],
   "source": [
    "a = [1,2,3,4]\n",
    "a[-1:]"
   ]
  },
  {
   "cell_type": "code",
   "execution_count": 13,
   "metadata": {
    "collapsed": false
   },
   "outputs": [],
   "source": [
    "all_train = df.iloc[:9000, :]\n",
    "# all_train = all_train[[s.piece_moved.islower() for s in all_train['move_info']]]\n",
    "# all_train = all_train[[s.piece_moved.isupper() for s in all_train['move_info']]]\n",
    "all_test = df.iloc[-1000:, :]\n",
    "# all_test = all_test[[s.piece_moved.islower() for s in all_test['move_info']]]\n",
    "#all_test = all_test[[s.piece_moved.isupper() for s in all_test['move_info']]]\n",
    "X_train = list(all_train['x'])\n",
    "X_test = list(all_test['x'])\n",
    "y_train = [[1] if y == 1 else [0] for y in all_train['y']]\n",
    "y_test = [1 if y == 1 else 0 for y in all_test['y']]"
   ]
  },
  {
   "cell_type": "code",
   "execution_count": null,
   "metadata": {
    "collapsed": false
   },
   "outputs": [],
   "source": [
    "y_train"
   ]
  },
  {
   "cell_type": "code",
   "execution_count": 14,
   "metadata": {
    "collapsed": false
   },
   "outputs": [],
   "source": [
    "class Experiment:\n",
    "    def __init__(self, net, train_df, test_df, num_epochs, verbose=True):\n",
    "        self.net = net\n",
    "        self.train_df = train_df\n",
    "        self.test_df = test_df\n",
    "        self.train_ds = self.build_dataset(train_df)\n",
    "        self.test_ds = self.build_dataset(test_df)\n",
    "        self.num_epochs = num_epochs\n",
    "        self.verbose = verbose\n",
    "        \n",
    "    #takes in full dataframe and converts to pybrain dataset\n",
    "    def build_dataset(self, df):\n",
    "        ds = ClassificationDataSet(1536, nb_classes=2, class_labels=[\"Illegal\", \"Legal\"])\n",
    "        for i in df.index:\n",
    "            ds.addSample(df.loc[i,'x'], df.loc[i,'y'])\n",
    "        ds._convertToOneOfMany(bounds=[0, 1])\n",
    "        return ds\n",
    "\n",
    "    #adds specific piece confusion matrices to results dict d\n",
    "    def add_piece_specifics(d):\n",
    "        pass\n",
    "        \n",
    "    \n",
    "    def run_experiment(self):\n",
    "        if self.verbose:\n",
    "            print \"Training network\"\n",
    "        trainer = BackpropTrainer(self.net,  self.train_ds, self.verbose)\n",
    "        print \"Built network\"\n",
    "        y_pred = []\n",
    "\n",
    "        trainer.trainEpochs(self.num_epochs)\n",
    "        prob_out = net.activateOnDataset(self.test_ds)\n",
    "        y_pred = prob_out.argmax(axis=1)  # the highest output activation gives the class\n",
    "        #out = out.reshape(X_train.shape)\n",
    "        #print(y_pred)\n",
    "        #print(prob_out)\n",
    "        cm = confusion_matrix(y_test, y_pred)\n",
    "        print(cm)\n",
    "    #    print(confusion_matrix(y_train, out))\n",
    "        return pd.DataFrame({\"train_size\": self.train_df.shape[0], \n",
    "                            \"train_white_count\" : sum([1 if a.isupper() else 0 for a in self.train_df['piece_moved']]),\n",
    "                            \"confusion_matrix\" : [cm],\n",
    "                            \"accuracy\": [(cm[0][0] + cm[1][1]) * 1.0 / (sum([sum(c) for c in cm]))]})"
   ]
  },
  {
   "cell_type": "code",
   "execution_count": 17,
   "metadata": {
    "collapsed": true
   },
   "outputs": [],
   "source": [
    "from pybrain.structure import FeedForwardNetwork, RecurrentNetwork\n",
    "from pybrain.structure import LinearLayer, SigmoidLayer\n",
    "from pybrain.structure import FullConnection\n",
    "\n",
    "def buildSimpleNet(hidden_layers, output_layers, bias, hidden_class):\n",
    "    return buildNetwork(1536, hidden_layers, output_layers, bias, hiddenclass=hidden_class)\n",
    "\n",
    "def buildFeedForward():\n",
    "    n = FeedForwardNetwork()\n",
    "    \n",
    "    inLayer = LinearLayer(1536)\n",
    "    hiddenLayer = SigmoidLayer(3)\n",
    "    outLayer = LinearLayer(2)\n",
    "    \n",
    "    n.addInputModule(inLayer)\n",
    "    n.addModule(hiddenLayer)\n",
    "    n.addOutputModule(outLayer)\n",
    "    \n",
    "    in_to_hidden = FullConnection(inLayer, hiddenLayer)\n",
    "    hidden_to_out = FullConnection(hiddenLayer, outLayer)\n",
    "    \n",
    "    n.addConnection(in_to_hidden)\n",
    "    n.addConnection(hidden_to_out)\n",
    "    \n",
    "    n.sortModules()\n",
    "    return n\n",
    "def buildBigFeedForward():\n",
    "    n = FeedForwardNetwork()\n",
    "    \n",
    "    inLayer = LinearLayer(1536)\n",
    "    hiddenLayer = SigmoidLayer(100)\n",
    "    hiddenLayer2 = LinearLayer(50)\n",
    "    hiddenLayer3 = SigmoidLayer(10)\n",
    "    outLayer = LinearLayer(2)\n",
    "    \n",
    "    n.addInputModule(inLayer)\n",
    "    n.addModule(hiddenLayer)\n",
    "    n.addModule(hiddenLayer2)\n",
    "    n.addModule(hiddenLayer3)\n",
    "    n.addOutputModule(outLayer)\n",
    "    \n",
    "    in_to_hidden = FullConnection(inLayer, hiddenLayer)\n",
    "    hidden_to_hidden2 = FullConnection(hiddenLayer, hiddenLayer2)\n",
    "    hidden2_to_hidden3 = FullConnection(hiddenLayer, hiddenLayer3)\n",
    "\n",
    "    hidden_to_out = FullConnection(hiddenLayer3, outLayer)\n",
    "    \n",
    "    n.addConnection(in_to_hidden)\n",
    "    n.addConnection(hidden_to_hidden2)\n",
    "    n.addConnection(hidden2_to_hidden3)\n",
    "\n",
    "    n.addConnection(hidden_to_out)\n",
    "    \n",
    "    n.sortModules()\n",
    "    return n\n",
    "def buildRNN():\n",
    "    n = RecurrentNetwork()\n",
    "    \n",
    "    n.addInputModule(LinearLayer(1536, name='in'))\n",
    "    n.addModule(SigmoidLayer(3, name='hidden'))\n",
    "    n.addOutputModule(LinearLayer(2, name='out'))\n",
    "    \n",
    "    n.addConnection(FullConnection(n['in'], n['hidden'], name='c1'))\n",
    "    n.addConnection(FullConnection(n['hidden'], n['out'], name='c2'))\n",
    "    \n",
    "    n.addRecurrentConnection(FullConnection(n['hidden'], n['hidden'], name='c3'))\n",
    "   \n",
    "    n.sortModules()\n",
    "    \n",
    "    return n"
   ]
  },
  {
   "cell_type": "code",
   "execution_count": 21,
   "metadata": {
    "collapsed": false
   },
   "outputs": [
    {
     "name": "stdout",
     "output_type": "stream",
     "text": [
      "Training network\n",
      "Built network\n",
      "[[481   0]\n",
      " [519   0]]\n"
     ]
    }
   ],
   "source": [
    "# results_df = pd.DataFrame()\n",
    "# for train_instances in [10, 500, 1000, 2000, 3000, 4000, 5000]:\n",
    "#     e = Experiment()\n",
    "#     results_df = results_df.append(e.run_experiment(all_train[:train_instances], all_test, 1))\n",
    "net = buildNetwork(1536, 50, 2, bias=True, hiddenclass=TanhLayer)\n",
    "#net = buildSimpleNet(2, 2, True, TanhLayer)\n",
    "#net = buildFeedForward()\n",
    "#net = buildRNN()\n",
    "#net = buildBigFeedForward()\n",
    "e = Experiment(net, all_train, all_test, 1)\n",
    "results_df = e.run_experiment()"
   ]
  },
  {
   "cell_type": "code",
   "execution_count": 19,
   "metadata": {
    "collapsed": false
   },
   "outputs": [
    {
     "data": {
      "text/html": [
       "<div>\n",
       "<table border=\"1\" class=\"dataframe\">\n",
       "  <thead>\n",
       "    <tr style=\"text-align: right;\">\n",
       "      <th></th>\n",
       "      <th>accuracy</th>\n",
       "      <th>confusion_matrix</th>\n",
       "      <th>train_size</th>\n",
       "      <th>train_white_count</th>\n",
       "    </tr>\n",
       "  </thead>\n",
       "  <tbody>\n",
       "    <tr>\n",
       "      <th>0</th>\n",
       "      <td>0.481</td>\n",
       "      <td>[[481, 0], [519, 0]]</td>\n",
       "      <td>9000</td>\n",
       "      <td>4344</td>\n",
       "    </tr>\n",
       "  </tbody>\n",
       "</table>\n",
       "</div>"
      ],
      "text/plain": [
       "   accuracy      confusion_matrix  train_size  train_white_count\n",
       "0     0.481  [[481, 0], [519, 0]]        9000               4344"
      ]
     },
     "execution_count": 19,
     "metadata": {},
     "output_type": "execute_result"
    }
   ],
   "source": [
    "results_df"
   ]
  },
  {
   "cell_type": "code",
   "execution_count": 30,
   "metadata": {
    "collapsed": false
   },
   "outputs": [
    {
     "data": {
      "text/html": [
       "<div>\n",
       "<table border=\"1\" class=\"dataframe\">\n",
       "  <thead>\n",
       "    <tr style=\"text-align: right;\">\n",
       "      <th></th>\n",
       "      <th>move</th>\n",
       "      <th>piece_moved</th>\n",
       "      <th>piece_captured</th>\n",
       "      <th>preboard</th>\n",
       "      <th>postboard</th>\n",
       "      <th>x</th>\n",
       "      <th>y</th>\n",
       "    </tr>\n",
       "  </thead>\n",
       "  <tbody>\n",
       "    <tr>\n",
       "      <th>9690</th>\n",
       "      <td>(88, 68)</td>\n",
       "      <td>p</td>\n",
       "      <td>.</td>\n",
       "      <td>[ RNBKQBNR\\n,  PPP.PPPP\\n,  ........\\n,  ...P....</td>\n",
       "      <td>([ RNBKQBNR\\n,  PPP.PPPP\\n,  ........\\n,  ...P...</td>\n",
       "      <td>[0, 0, 0, 0, 0, 0, 0, 0, 0, 0, 0, 1, 0, 0, 0, ...</td>\n",
       "      <td>0</td>\n",
       "    </tr>\n",
       "    <tr>\n",
       "      <th>402</th>\n",
       "      <td>(71, 81)</td>\n",
       "      <td>R</td>\n",
       "      <td>.</td>\n",
       "      <td>[ r.....k.\\n,  pprn.p.q\\n,  ..p.bBp.\\n,  .PPpP...</td>\n",
       "      <td>([ r.....k.\\n,  pp.n.prq\\n,  ..p.bBp.\\n,  .PPp...</td>\n",
       "      <td>[0, 0, 0, 0, 0, 1, 0, 0, 0, 0, 0, 0, 0, 0, 0, ...</td>\n",
       "      <td>0</td>\n",
       "    </tr>\n",
       "    <tr>\n",
       "      <th>6565</th>\n",
       "      <td>(86, 85)</td>\n",
       "      <td>q</td>\n",
       "      <td>.</td>\n",
       "      <td>[ .K.R.BNR\\n,  PPP.P.PP\\n,  ........\\n,  ........</td>\n",
       "      <td>([ .K.R.BNR\\n,  PPP.P.PP\\n,  ........\\n,  .......</td>\n",
       "      <td>[0, 0, 0, 0, 0, 0, 0, 0, 0, 0, 0, 0, 0, 0, 0, ...</td>\n",
       "      <td>0</td>\n",
       "    </tr>\n",
       "    <tr>\n",
       "      <th>915</th>\n",
       "      <td>(94, 95)</td>\n",
       "      <td>R</td>\n",
       "      <td>.</td>\n",
       "      <td>[ .....rk.\\n,  .....pp.\\n,  ..p.q.np\\n,  .pQ.P...</td>\n",
       "      <td>([ .....rk.\\n,  .....pp.\\n,  ..p.q.np\\n,  .pQ....</td>\n",
       "      <td>[0, 0, 0, 0, 0, 0, 0, 0, 0, 0, 0, 0, 0, 0, 0, ...</td>\n",
       "      <td>1</td>\n",
       "    </tr>\n",
       "    <tr>\n",
       "      <th>2743</th>\n",
       "      <td>(75, 76)</td>\n",
       "      <td>R</td>\n",
       "      <td>.</td>\n",
       "      <td>[ ..r...k.\\n,  .p.R..bp\\n,  r...p.p.\\n,  p...P...</td>\n",
       "      <td>([ ......k.\\n,  .p.R..bp\\n,  r...p.p.\\n,  p......</td>\n",
       "      <td>[0, 0, 0, 0, 0, 0, 0, 0, 0, 0, 0, 0, 0, 0, 0, ...</td>\n",
       "      <td>0</td>\n",
       "    </tr>\n",
       "  </tbody>\n",
       "</table>\n",
       "</div>"
      ],
      "text/plain": [
       "          move piece_moved piece_captured  \\\n",
       "9690  (88, 68)           p              .   \n",
       "402   (71, 81)           R              .   \n",
       "6565  (86, 85)           q              .   \n",
       "915   (94, 95)           R              .   \n",
       "2743  (75, 76)           R              .   \n",
       "\n",
       "                                               preboard  \\\n",
       "9690  [ RNBKQBNR\\n,  PPP.PPPP\\n,  ........\\n,  ...P....   \n",
       "402   [ r.....k.\\n,  pprn.p.q\\n,  ..p.bBp.\\n,  .PPpP...   \n",
       "6565  [ .K.R.BNR\\n,  PPP.P.PP\\n,  ........\\n,  ........   \n",
       "915   [ .....rk.\\n,  .....pp.\\n,  ..p.q.np\\n,  .pQ.P...   \n",
       "2743  [ ..r...k.\\n,  .p.R..bp\\n,  r...p.p.\\n,  p...P...   \n",
       "\n",
       "                                              postboard  \\\n",
       "9690  ([ RNBKQBNR\\n,  PPP.PPPP\\n,  ........\\n,  ...P...   \n",
       "402   ([ r.....k.\\n,  pp.n.prq\\n,  ..p.bBp.\\n,  .PPp...   \n",
       "6565  ([ .K.R.BNR\\n,  PPP.P.PP\\n,  ........\\n,  .......   \n",
       "915   ([ .....rk.\\n,  .....pp.\\n,  ..p.q.np\\n,  .pQ....   \n",
       "2743  ([ ......k.\\n,  .p.R..bp\\n,  r...p.p.\\n,  p......   \n",
       "\n",
       "                                                      x  y  \n",
       "9690  [0, 0, 0, 0, 0, 0, 0, 0, 0, 0, 0, 1, 0, 0, 0, ...  0  \n",
       "402   [0, 0, 0, 0, 0, 1, 0, 0, 0, 0, 0, 0, 0, 0, 0, ...  0  \n",
       "6565  [0, 0, 0, 0, 0, 0, 0, 0, 0, 0, 0, 0, 0, 0, 0, ...  0  \n",
       "915   [0, 0, 0, 0, 0, 0, 0, 0, 0, 0, 0, 0, 0, 0, 0, ...  1  \n",
       "2743  [0, 0, 0, 0, 0, 0, 0, 0, 0, 0, 0, 0, 0, 0, 0, ...  0  "
      ]
     },
     "execution_count": 30,
     "metadata": {},
     "output_type": "execute_result"
    }
   ],
   "source": [
    "#[1 if a.isupper() else 0 for a in all_train['piece_moved']]\n",
    "df.head()"
   ]
  },
  {
   "cell_type": "code",
   "execution_count": 9,
   "metadata": {
    "collapsed": false,
    "scrolled": true
   },
   "outputs": [
    {
     "name": "stdout",
     "output_type": "stream",
     "text": [
      "Starting\n",
      "Building dataset\n",
      "Converted\n",
      "Built network\n",
      "Total error: 8.2274069558\n",
      "[1 1 0 0 1 0 1 0 0 0 0 0 0 0 0 1 0 0 1 0 0 0 0 1 1 0 1 1 1 1 1 1 0 1 0 0 1\n",
      " 0 0 1 0 0 1 1 1 1 0 0 0 1 0 1 1 1 1 0 1 0 1 0 1 0 1 0 0 0 1 0 0 0 1 0 0 1\n",
      " 0 0 1 1 1 1 0 1 0 0 0 0 0 0 1 0 1 1 0 1 1 0 0 1 0 1 1 1 1 0 1 0 1 0 0 1 1\n",
      " 1 1 0 0 1 1 1 0 1 0 1 1 1 0 0 0 1 0 1 0 0 1 1 1 1 1 1 1 0 1 1 1 1 0 0 0 1\n",
      " 0 1 0 1 0 1 0 1 1 1 1 1 0 1 1 0 0 1 1 0 1 1 0 0 0 1 1 0 0 1 0 1 1 0 1 1 0\n",
      " 1 1 1 0 0 1 0 0 1 1 1 1 0 0 0 0 0 0 0 0 0 0 1 0 0 1 0 1 1 0 0 0 0 1 0 1 0\n",
      " 1 0 1 1 0 0 1 1 0 0 1 0 0 1 0 1 1 0 0 0 1 0 0 0 1 0 1 0 1 1 0 0 0 1 1 0 0\n",
      " 1 1 1 1 1 1 0 1 1 0 1 0 1 1 0 0 0 0 0 0 0 1 0 0 1 1 1 0 0 1 1 1 1 1 0 0 0\n",
      " 1 0 1 1 0 1 1 0 1 1 1 1 1 0 0 0 1 1 0 0 0 1 0 0 0 0 1 1 0 1 1 1 0 1 1 1 1\n",
      " 0 0 1 0 1 0 0 0 1 1 0 1 1 1 1 0 0 0 1 1 1 1 0 0 1 0 0 1 1 1 1 1 1 1 0 1 1\n",
      " 0 0 0 1 0 1 1 1 1 0 1 0 1 1 1 0 0 1 1 0 0 0 1 1 0 1 1 0 1 0 1 1 0 1 1 0 1\n",
      " 0 1 0 1 1 0 1 0 0 0 1 0 0 0 0 0 0 0 0 1 0 1 0 1 0 1 1 0 0 1 0 0 1 1 1 0 0\n",
      " 0 0 1 0 0 1 1 1 0 0 1 1 0 0 1 1 0 1 0 1 0 1 0 0 1 1 0 1 1 1 1 1 0 1 0 1 0\n",
      " 1 1 0 1 0 1 1 1 0 1 0 0 1 1 0 0 1 1 0]\n",
      "[[125 119]\n",
      " [119 137]]\n"
     ]
    }
   ],
   "source": [
    "#train a simple neural network on 2000 instances\n",
    "print \"Starting\"\n",
    "# build dataset\n",
    "train_ds = ClassificationDataSet(1536, nb_classes=2, class_labels=[\"Illegal\", \"Legal\"])\n",
    "for i in range(0,500):\n",
    "    #j = random.randint(0,2000)\n",
    "    train_ds.addSample(X_train[i], y_train[i])\n",
    "    \n",
    "test_ds = ClassificationDataSet(1536, nb_classes=2, class_labels=[\"Illegal\", \"Legal\"])\n",
    "for i in range(0,500):\n",
    "    test_ds.addSample(X_test[i], y_test[i])\n",
    "print \"Building dataset\"\n",
    "#print(train_ds.getField('target'))\n",
    "train_ds._convertToOneOfMany(bounds=[0, 1])\n",
    "test_ds._convertToOneOfMany(bounds=[0, 1])\n",
    "#print(train_ds.getField('target'))\n",
    "print \"Converted\"\n",
    "net     = buildNetwork(1536, 100, 2, bias=True, hiddenclass=TanhLayer)\n",
    "trainer = BackpropTrainer(net,  train_ds, verbose=True)\n",
    "print \"Built network\"\n",
    "y_pred = []\n",
    "for i in range(1):\n",
    "    trainer.trainEpochs( 1 )\n",
    "    prob_out = net.activateOnDataset(test_ds)\n",
    "    y_pred = prob_out.argmax(axis=1)  # the highest output activation gives the class\n",
    "    #out = out.reshape(X_train.shape)\n",
    "    print(y_pred)\n",
    "    #print(prob_out)\n",
    "    print(confusion_matrix(y_test, y_pred))\n",
    "#    print(confusion_matrix(y_train, out))\n"
   ]
  },
  {
   "cell_type": "code",
   "execution_count": 10,
   "metadata": {
    "collapsed": false
   },
   "outputs": [
    {
     "data": {
      "text/html": [
       "<div>\n",
       "<table border=\"1\" class=\"dataframe\">\n",
       "  <thead>\n",
       "    <tr style=\"text-align: right;\">\n",
       "      <th>Predicted</th>\n",
       "      <th>0</th>\n",
       "      <th>1</th>\n",
       "      <th>All</th>\n",
       "    </tr>\n",
       "    <tr>\n",
       "      <th>True</th>\n",
       "      <th></th>\n",
       "      <th></th>\n",
       "      <th></th>\n",
       "    </tr>\n",
       "  </thead>\n",
       "  <tbody>\n",
       "    <tr>\n",
       "      <th>0</th>\n",
       "      <td>125</td>\n",
       "      <td>119</td>\n",
       "      <td>244</td>\n",
       "    </tr>\n",
       "    <tr>\n",
       "      <th>1</th>\n",
       "      <td>119</td>\n",
       "      <td>137</td>\n",
       "      <td>256</td>\n",
       "    </tr>\n",
       "    <tr>\n",
       "      <th>All</th>\n",
       "      <td>244</td>\n",
       "      <td>256</td>\n",
       "      <td>500</td>\n",
       "    </tr>\n",
       "  </tbody>\n",
       "</table>\n",
       "</div>"
      ],
      "text/plain": [
       "Predicted    0    1  All\n",
       "True                    \n",
       "0          125  119  244\n",
       "1          119  137  256\n",
       "All        244  256  500"
      ]
     },
     "execution_count": 10,
     "metadata": {},
     "output_type": "execute_result"
    }
   ],
   "source": [
    "y_true = pd.Series(y_test)\n",
    "y_pred = pd.Series(y_pred)\n",
    "pd.crosstab(y_true, y_pred, rownames=['True'], colnames=['Predicted'], margins=True)"
   ]
  },
  {
   "cell_type": "code",
   "execution_count": 11,
   "metadata": {
    "collapsed": false
   },
   "outputs": [],
   "source": [
    "y_pred = pd.Series(y_pred)\n",
    "length = all_test.shape[0]\n",
    "all_test = all_test.set_index([range(0,length)])\n",
    "all_test.loc[:,'predicted'] = y_pred"
   ]
  },
  {
   "cell_type": "code",
   "execution_count": 12,
   "metadata": {
    "collapsed": false
   },
   "outputs": [
    {
     "data": {
      "text/plain": [
       "0    1\n",
       "1    1\n",
       "2    0\n",
       "3    0\n",
       "4    1\n",
       "dtype: int64"
      ]
     },
     "execution_count": 12,
     "metadata": {},
     "output_type": "execute_result"
    }
   ],
   "source": [
    "y_pred.head()"
   ]
  },
  {
   "cell_type": "code",
   "execution_count": 13,
   "metadata": {
    "collapsed": false
   },
   "outputs": [],
   "source": [
    "all_test = all_test.iloc[:500,:]"
   ]
  },
  {
   "cell_type": "code",
   "execution_count": 15,
   "metadata": {
    "collapsed": false
   },
   "outputs": [
    {
     "name": "stdout",
     "output_type": "stream",
     "text": [
      "p\n",
      "[[36 20]\n",
      " [29 16]]\n",
      "0.356435643564\n",
      "P\n",
      "[[13 23]\n",
      " [16 23]]\n",
      "0.173333333333\n",
      "r\n",
      "[[ 5  7]\n",
      " [ 8 10]]\n",
      "0.166666666667\n",
      "R\n",
      "[[14  6]\n",
      " [12 12]]\n",
      "0.318181818182\n",
      "n\n",
      "[[17  4]\n",
      " [11  6]]\n",
      "0.447368421053\n",
      "N\n",
      "[[ 4 11]\n",
      " [ 4 12]]\n",
      "0.129032258065\n",
      "b\n",
      "[[6 3]\n",
      " [8 8]]\n",
      "0.24\n",
      "B\n",
      "[[ 5 11]\n",
      " [ 2 16]]\n",
      "0.147058823529\n",
      "q\n",
      "[[11 10]\n",
      " [ 6 11]]\n",
      "0.289473684211\n",
      "Q\n",
      "[[ 9  8]\n",
      " [ 7 10]]\n",
      "0.264705882353\n",
      "k\n",
      "[[2 9]\n",
      " [8 6]]\n",
      "0.08\n",
      "K\n",
      "[[3 7]\n",
      " [8 7]]\n",
      "0.12\n"
     ]
    }
   ],
   "source": [
    "def collect_results(test_df, predicted_y)\n",
    "    result_df = pd.DataFrame(columns=['training_instances', 'testingpct_white_moves',])\n",
    "    \n",
    "    #add predicted\n",
    "    length = all_test.shape[0]\n",
    "    test_df = all_test.set_index([range(0,length)])\n",
    "    test_df.loc[:,'predicted'] = y_pred\n",
    "    \n",
    "    #calculate overall confusion matrix\n",
    "    cm = confusion_matrx(test_df['y'], predicted_y)\n",
    "    \n",
    "    #calculate each piece confusion matrix\n",
    "    for p in \"pPrRnNbBqQkK\":\n",
    "        specific_piece = all_test[all_test['piece_moved'] == p]\n",
    "#         print(p)\n",
    "        cm = confusion_matrix(specific_piece['y'], specific_piece['predicted'])\n",
    "        test_df.loc[:, p + '_perf'] = cm\n",
    "#         print(cm)\n",
    "#         print(1.0 * cm[0][0] / (sum([sum(a) for a in cm])))"
   ]
  },
  {
   "cell_type": "code",
   "execution_count": null,
   "metadata": {
    "collapsed": true
   },
   "outputs": [],
   "source": []
  }
 ],
 "metadata": {
  "kernelspec": {
   "display_name": "Python 2",
   "language": "python",
   "name": "python2"
  },
  "language_info": {
   "codemirror_mode": {
    "name": "ipython",
    "version": 2
   },
   "file_extension": ".py",
   "mimetype": "text/x-python",
   "name": "python",
   "nbconvert_exporter": "python",
   "pygments_lexer": "ipython2",
   "version": "2.7.10"
  }
 },
 "nbformat": 4,
 "nbformat_minor": 0
}
