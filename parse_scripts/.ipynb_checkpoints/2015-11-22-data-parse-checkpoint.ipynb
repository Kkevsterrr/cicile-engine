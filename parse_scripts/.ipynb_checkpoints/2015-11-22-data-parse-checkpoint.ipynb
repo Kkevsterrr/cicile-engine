{
 "cells": [
  {
   "cell_type": "code",
   "execution_count": 3,
   "metadata": {
    "collapsed": false
   },
   "outputs": [],
   "source": [
    "from keras.datasets import cifar10"
   ]
  },
  {
   "cell_type": "code",
   "execution_count": 4,
   "metadata": {
    "collapsed": false
   },
   "outputs": [
    {
     "name": "stdout",
     "output_type": "stream",
     "text": [
      "Downloading data from http://www.cs.toronto.edu/~kriz/cifar-10-python.tar.gz\n",
      "170500096/170498071 [==============================] - 49s    \n",
      "Untaring file...\n"
     ]
    }
   ],
   "source": [
    "(X_train, y_train), (X_test, y_test) = cifar10.load_data()"
   ]
  },
  {
   "cell_type": "code",
   "execution_count": 10,
   "metadata": {
    "collapsed": false,
    "scrolled": true
   },
   "outputs": [
    {
     "data": {
      "text/plain": [
       "array([[[[ 59,  43,  50, ..., 158, 152, 148],\n",
       "         [ 16,   0,  18, ..., 123, 119, 122],\n",
       "         [ 25,  16,  49, ..., 118, 120, 109],\n",
       "         ..., \n",
       "         [208, 201, 198, ..., 160,  56,  53],\n",
       "         [180, 173, 186, ..., 184,  97,  83],\n",
       "         [177, 168, 179, ..., 216, 151, 123]],\n",
       "\n",
       "        [[ 62,  46,  48, ..., 132, 125, 124],\n",
       "         [ 20,   0,   8, ...,  88,  83,  87],\n",
       "         [ 24,   7,  27, ...,  84,  84,  73],\n",
       "         ..., \n",
       "         [170, 153, 161, ..., 133,  31,  34],\n",
       "         [139, 123, 144, ..., 148,  62,  53],\n",
       "         [144, 129, 142, ..., 184, 118,  92]],\n",
       "\n",
       "        [[ 63,  45,  43, ..., 108, 102, 103],\n",
       "         [ 20,   0,   0, ...,  55,  50,  57],\n",
       "         [ 21,   0,   8, ...,  50,  50,  42],\n",
       "         ..., \n",
       "         [ 96,  34,  26, ...,  70,   7,  20],\n",
       "         [ 96,  42,  30, ...,  94,  34,  34],\n",
       "         [116,  94,  87, ..., 140,  84,  72]]],\n",
       "\n",
       "\n",
       "       [[[154, 126, 105, ...,  91,  87,  79],\n",
       "         [140, 145, 125, ...,  96,  77,  71],\n",
       "         [140, 139, 115, ...,  79,  68,  67],\n",
       "         ..., \n",
       "         [175, 156, 154, ...,  42,  61,  93],\n",
       "         [165, 156, 159, ..., 103, 123, 131],\n",
       "         [163, 158, 163, ..., 143, 143, 143]],\n",
       "\n",
       "        [[177, 137, 104, ...,  95,  90,  81],\n",
       "         [160, 153, 125, ...,  99,  80,  73],\n",
       "         [155, 146, 115, ...,  82,  70,  69],\n",
       "         ..., \n",
       "         [167, 154, 160, ...,  34,  53,  83],\n",
       "         [154, 152, 161, ...,  93, 114, 121],\n",
       "         [148, 148, 156, ..., 133, 134, 133]],\n",
       "\n",
       "        [[187, 136,  95, ...,  71,  71,  70],\n",
       "         [169, 154, 118, ...,  78,  62,  61],\n",
       "         [164, 149, 112, ...,  64,  55,  55],\n",
       "         ..., \n",
       "         [166, 160, 170, ...,  36,  57,  91],\n",
       "         [128, 130, 142, ...,  96, 120, 131],\n",
       "         [120, 122, 133, ..., 139, 142, 144]]],\n",
       "\n",
       "\n",
       "       [[[255, 253, 253, ..., 253, 253, 253],\n",
       "         [255, 255, 255, ..., 255, 255, 255],\n",
       "         [255, 254, 254, ..., 254, 254, 254],\n",
       "         ..., \n",
       "         [113, 111, 105, ...,  72,  72,  72],\n",
       "         [111, 104,  99, ...,  68,  70,  78],\n",
       "         [106,  99,  95, ...,  78,  79,  80]],\n",
       "\n",
       "        [[255, 253, 253, ..., 253, 253, 253],\n",
       "         [255, 255, 255, ..., 255, 255, 255],\n",
       "         [255, 254, 254, ..., 254, 254, 254],\n",
       "         ..., \n",
       "         [120, 118, 112, ...,  81,  80,  80],\n",
       "         [118, 111, 106, ...,  75,  76,  84],\n",
       "         [113, 106, 102, ...,  85,  85,  86]],\n",
       "\n",
       "        [[255, 253, 253, ..., 253, 253, 253],\n",
       "         [255, 255, 255, ..., 255, 255, 255],\n",
       "         [255, 254, 254, ..., 254, 254, 254],\n",
       "         ..., \n",
       "         [112, 111, 106, ...,  80,  79,  79],\n",
       "         [110, 104,  98, ...,  73,  75,  82],\n",
       "         [105,  98,  94, ...,  83,  83,  84]]],\n",
       "\n",
       "\n",
       "       [[[ 28,  37,  38, ...,  76,  81,  85],\n",
       "         [ 33,  34,  32, ...,  95,  96,  85],\n",
       "         [ 39,  40,  57, ...,  93, 107,  95],\n",
       "         ..., \n",
       "         [ 83,  87,  84, ...,  99,  90,  81],\n",
       "         [ 88,  90,  93, ...,  80,  76,  82],\n",
       "         [ 97,  94,  93, ...,  54,  63,  72]],\n",
       "\n",
       "        [[ 25,  34,  35, ...,  67,  72,  76],\n",
       "         [ 28,  30,  27, ...,  82,  82,  72],\n",
       "         [ 32,  33,  50, ...,  76,  89,  77],\n",
       "         ..., \n",
       "         [ 73,  77,  74, ...,  93,  84,  75],\n",
       "         [ 72,  74,  77, ...,  74,  70,  76],\n",
       "         [ 78,  75,  75, ...,  47,  56,  65]],\n",
       "\n",
       "        [[ 10,  19,  20, ...,  39,  43,  47],\n",
       "         [ 13,  14,  12, ...,  55,  56,  45],\n",
       "         [ 15,  17,  33, ...,  52,  66,  54],\n",
       "         ..., \n",
       "         [ 52,  56,  52, ...,  70,  61,  52],\n",
       "         [ 51,  52,  56, ...,  53,  49,  55],\n",
       "         [ 56,  53,  53, ...,  28,  37,  46]]],\n",
       "\n",
       "\n",
       "       [[[170, 168, 177, ..., 162, 158, 157],\n",
       "         [168, 172, 171, ..., 159, 156, 154],\n",
       "         [154, 149, 129, ..., 161, 157, 154],\n",
       "         ..., \n",
       "         [ 74,  76,  78, ...,  71,  68,  61],\n",
       "         [ 68,  69,  72, ...,  76,  71,  71],\n",
       "         [ 67,  68,  69, ...,  75,  71,  73]],\n",
       "\n",
       "        [[180, 178, 185, ..., 179, 178, 177],\n",
       "         [181, 185, 183, ..., 177, 176, 174],\n",
       "         [170, 165, 144, ..., 178, 177, 174],\n",
       "         ..., \n",
       "         [ 84,  85,  85, ...,  75,  72,  65],\n",
       "         [ 76,  77,  79, ...,  80,  75,  75],\n",
       "         [ 75,  76,  75, ...,  79,  75,  77]],\n",
       "\n",
       "        [[198, 196, 203, ..., 215, 214, 212],\n",
       "         [198, 201, 200, ..., 212, 211, 209],\n",
       "         [186, 181, 162, ..., 214, 212, 209],\n",
       "         ..., \n",
       "         [ 80,  81,  82, ...,  78,  75,  68],\n",
       "         [ 77,  78,  78, ...,  83,  78,  78],\n",
       "         [ 78,  79,  76, ...,  82,  78,  80]]]], dtype=uint8)"
      ]
     },
     "execution_count": 10,
     "metadata": {},
     "output_type": "execute_result"
    }
   ],
   "source": []
  },
  {
   "cell_type": "code",
   "execution_count": 4,
   "metadata": {
    "collapsed": false
   },
   "outputs": [],
   "source": [
    "f = open('../data/clean_tactics', 'r')\n",
    "lines = f.readlines()\n",
    "f.close()"
   ]
  },
  {
   "cell_type": "code",
   "execution_count": 110,
   "metadata": {
    "collapsed": false
   },
   "outputs": [
    {
     "data": {
      "text/plain": [
       "([' ......k.\\n',\n",
       "  ' p....p..\\n',\n",
       "  ' .pp...pQ\\n',\n",
       "  ' ...P....\\n',\n",
       "  ' P..P..KP\\n',\n",
       "  ' .BP...P.\\n',\n",
       "  ' ........\\n',\n",
       "  ' .....q..\\n'],\n",
       " '         \\n         \\n ......k.\\n p....p..\\n .pp...pQ\\n ...P....\\n P..P..KP\\n .BP...P.\\n ........\\n .....q..\\n         \\n         ',\n",
       " 'b')"
      ]
     },
     "execution_count": 110,
     "metadata": {},
     "output_type": "execute_result"
    }
   ],
   "source": [
    "#param: line from tactics csv\n",
    "#output: tuple containing sunfish formatted string and to move as either w or b\n",
    "def csvline2sunfish(line):\n",
    "    (uglyFEN,toMove) = tuple(line.split(',')[2].split(' '))\n",
    "    #parse uglyFEN to sunfish format\n",
    "    board = [\" \" + uglyFEN[r:r+8].replace('x','.') + '\\n' for r in range(0,64,8)]\n",
    "    edge_buffer = \"         \\n\"\n",
    "    return (board, ''.join([edge_buffer, edge_buffer, \"\".join(board), edge_buffer, edge_buffer[:-1]]), toMove)\n",
    "csvline2sunfish(lines[0])"
   ]
  },
  {
   "cell_type": "code",
   "execution_count": null,
   "metadata": {
    "collapsed": false
   },
   "outputs": [],
   "source": []
  },
  {
   "cell_type": "code",
   "execution_count": 111,
   "metadata": {
    "collapsed": false
   },
   "outputs": [],
   "source": [
    "from sunfish import *"
   ]
  },
  {
   "cell_type": "code",
   "execution_count": null,
   "metadata": {
    "collapsed": false
   },
   "outputs": [
    {
     "name": "stdout",
     "output_type": "stream",
     "text": [
      "Position(board='         \\n         \\n ......k.\\n p....p..\\n .pp...pQ\\n ...P....\\n P..P..KP\\n .BP...P.\\n ........\\n .....q..\\n         \\n         ', score=0, wc=(True, True), bc=(True, True), ep=0, kp=0)\n",
      "(48, 38)\n",
      "(48, 28)\n",
      "(48, 58)\n",
      "(48, 47)\n",
      "(48, 57)\n",
      "(48, 66)\n",
      "(48, 75)\n",
      "(48, 84)\n",
      "(48, 93)\n",
      "(48, 37)\n",
      "(48, 26)\n",
      "(54, 44)\n",
      "(54, 43)\n",
      "(61, 51)\n",
      "(67, 57)\n",
      "(67, 66)\n",
      "(67, 58)\n",
      "(67, 78)\n",
      "(67, 76)\n",
      "(67, 56)\n",
      "(68, 58)\n",
      "(72, 63)\n",
      "(72, 83)\n",
      "(72, 94)\n",
      "(72, 81)\n",
      "(73, 63)\n",
      "\n",
      "  8 · · · · · · ♔ ·\n",
      "  7 ♙ · · · · ♙ · ·\n",
      "  6 · ♙ ♙ · · · ♙ ♛\n",
      "  5 · · · ♟ · · · ·\n",
      "  4 ♟ · · ♟ · · ♚ ♟\n",
      "  3 · ♝ ♟ · · · ♟ ·\n",
      "  2 · · · · · · · ·\n",
      "  1 · · · · · ♕ · ·\n",
      "    a b c d e f g h \n",
      "\n",
      "\n"
     ]
    }
   ],
   "source": [
    "board, test_pos, to_move = csvline2sunfish(lines[0]) \n",
    "pos = Position(test_pos, 0, (True,True), (True,True), 0, 0)\n",
    "#if to_move == 'b' : pos = pos.rotate()\n",
    "print(pos)\n",
    "\n",
    "for move in pos.gen_moves():\n",
    "    print(move)\n",
    "\n",
    "\n",
    "while True:\n",
    "    print_pos(pos)\n",
    "\n",
    "    # We query the user until she enters a legal move.\n",
    "    move = None\n",
    "    while move not in pos.gen_moves():\n",
    "        match = re.match('([a-h][1-8])'*2, input('Your move: ')) \n",
    "        if match:\n",
    "            move = parse(match.group(1)), parse(match.group(2))\n",
    "        else:\n",
    "            # Inform the user when invalid input (e.g. \"help\") is entered\n",
    "            print(\"Please enter a move like g8f6\")\n",
    "    pos = pos.move(move)\n",
    "\n",
    "    # After our move we rotate the board and print it again.\n",
    "    # This allows us to see the effect of our move.\n",
    "    print_pos(pos.rotate())\n",
    "\n",
    "    # Fire up the engine to look for a move.\n",
    "    move, score = search(pos)\n",
    "    if score <= -MATE_VALUE:\n",
    "        print(\"You won\")\n",
    "        break\n",
    "    if score >= MATE_VALUE:\n",
    "        print(\"You lost\")\n",
    "        break\n",
    "\n",
    "    # The black player moves from a rotated position, so we have to\n",
    "    # 'back rotate' the move before printing it.\n",
    "    print(\"My move:\", render(119-move[0]) + render(119-move[1]))\n",
    "    pos = pos.move(move)"
   ]
  },
  {
   "cell_type": "code",
   "execution_count": 113,
   "metadata": {
    "collapsed": false
   },
   "outputs": [
    {
     "data": {
      "text/plain": [
       "[' ......k.\\n',\n",
       " ' p....p..\\n',\n",
       " ' .pp...pQ\\n',\n",
       " ' ...P....\\n',\n",
       " ' P..P..KP\\n',\n",
       " ' .BP...P.\\n',\n",
       " ' ........\\n',\n",
       " ' .....q..\\n']"
      ]
     },
     "execution_count": 113,
     "metadata": {},
     "output_type": "execute_result"
    }
   ],
   "source": [
    "board"
   ]
  },
  {
   "cell_type": "code",
   "execution_count": 99,
   "metadata": {
    "collapsed": false
   },
   "outputs": [
    {
     "name": "stdout",
     "output_type": "stream",
     "text": [
      "(2, 8)\n",
      "(5, 5)\n"
     ]
    },
    {
     "data": {
      "text/plain": [
       "[' ......k.\\n',\n",
       " ' p....p..\\n',\n",
       " ' .pp...p.\\n',\n",
       " ' ...P....\\n',\n",
       " ' P..P..KP\\n',\n",
       " ' .BP.Q.P.\\n',\n",
       " ' ........\\n',\n",
       " ' .....q..\\n']"
      ]
     },
     "execution_count": 99,
     "metadata": {},
     "output_type": "execute_result"
    }
   ],
   "source": [
    "#parameters\n",
    "\n",
    "def apply_move(board, (move_start, move_end)):\n",
    "    board_copy = [list(row) for row in board]\n",
    "    start_x, start_y = (move_start / 10 - 2, move_start - move_start / 10 * 10)\n",
    "    end_x, end_y = (move_end / 10 - 2, move_end - move_end / 10 * 10)\n",
    "    print(start_x, start_y)\n",
    "    print(end_x, end_y)\n",
    "    tmp = board[start_x][start_y] # '.'\n",
    "    #add . to original spot\n",
    "    board_copy[start_x][start_y] = '.'\n",
    "    #add piece to end\n",
    "    #have to do funky stuff because strings are immutable: change to row array the nback\n",
    "    board_copy[end_x][end_y] = tmp\n",
    "    return [\"\".join(row) for row in board_copy]\n",
    "\n",
    "#move queen h6e3\n",
    "apply_move(board, (48,75))"
   ]
  },
  {
   "cell_type": "code",
   "execution_count": 100,
   "metadata": {
    "collapsed": false
   },
   "outputs": [
    {
     "data": {
      "text/plain": [
       "[' ......k.\\n',\n",
       " ' p....p..\\n',\n",
       " ' .pp...pQ\\n',\n",
       " ' ...P....\\n',\n",
       " ' P..P..KP\\n',\n",
       " ' .BP...P.\\n',\n",
       " ' ........\\n',\n",
       " ' .....q..\\n']"
      ]
     },
     "execution_count": 100,
     "metadata": {},
     "output_type": "execute_result"
    }
   ],
   "source": [
    "board"
   ]
  },
  {
   "cell_type": "code",
   "execution_count": null,
   "metadata": {
    "collapsed": true
   },
   "outputs": [],
   "source": []
  }
 ],
 "metadata": {
  "kernelspec": {
   "display_name": "Python 2",
   "language": "python",
   "name": "python2"
  },
  "language_info": {
   "codemirror_mode": {
    "name": "ipython",
    "version": 2
   },
   "file_extension": ".py",
   "mimetype": "text/x-python",
   "name": "python",
   "nbconvert_exporter": "python",
   "pygments_lexer": "ipython2",
   "version": "2.7.10"
  }
 },
 "nbformat": 4,
 "nbformat_minor": 0
}
