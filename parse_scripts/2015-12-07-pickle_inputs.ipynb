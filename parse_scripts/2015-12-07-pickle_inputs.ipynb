{
 "cells": [
  {
   "cell_type": "markdown",
   "metadata": {},
   "source": [
    "Need to run this to generate csv files.  May take a long time."
   ]
  },
  {
   "cell_type": "code",
   "execution_count": 2,
   "metadata": {
    "collapsed": false,
    "scrolled": true
   },
   "outputs": [
    {
     "name": "stdout",
     "output_type": "stream",
     "text": [
      "Position(board='         \\n         \\n rnbqkbnr\\n pppp.ppp\\n ........\\n ....p...\\n ....P...\\n .....N..\\n PPPP.PPP\\n RNBQKB.R\\n         \\n         ', score=0, wc=(True, True), bc=(True, True), ep=0, kp=0)\n",
      "(93, 86)\n",
      "(21, 91)\n",
      "(96, 41), B->.\n"
     ]
    }
   ],
   "source": [
    "%matplotlib inline\n",
    "from fenparsev4 import *\n",
    "import pickle"
   ]
  },
  {
   "cell_type": "code",
   "execution_count": 3,
   "metadata": {
    "collapsed": true
   },
   "outputs": [],
   "source": [
    "def fen2csv(fen_filename, blocksize=1000, debug=True):\n",
    "    #read in fen file\n",
    "    with open(fen_filename) as f:\n",
    "        content = [\" \".join(line.split(\" \")[:2]) for line in f.readlines()]\n",
    "    #each generated file has about 2500 instances, with 5 legal and 5 illegal per board\n",
    "    n = blocksize #\"block\" size\n",
    "    i = 72000 # current location\n",
    "    j = 72 # current iteration\n",
    "    while (i < len(content)):\n",
    "        #read in n fens\n",
    "        df = fen2mlinput(content[i:i+n])\n",
    "        i += n\n",
    "        j += 1\n",
    "        if debug: print(i)\n",
    "        df.to_csv('/media/drive/storage/csv_input/2015-12-08_112mil' + str(j))"
   ]
  },
  {
   "cell_type": "code",
   "execution_count": null,
   "metadata": {
    "collapsed": false,
    "scrolled": true
   },
   "outputs": [],
   "source": [
    "import os\n",
    "#most important part\n",
    "def fries_ready():\n",
    "    os.system('say your fries are done')\n",
    "\n",
    "#read in fen file\n",
    "fen2csv(\"/media/drive/storage/2015-12-08_112mil.fens\")\n",
    "#fries_ready()"
   ]
  },
  {
   "cell_type": "code",
   "execution_count": 61,
   "metadata": {
    "collapsed": true
   },
   "outputs": [
    {
     "name": "stdout",
     "output_type": "stream",
     "text": [
      "index error\n",
      "index error\n",
      "1000\n",
      "2000\n",
      "3000\n",
      "index error\n",
      "index error\n",
      "index error\n",
      "index error\n",
      "4000\n",
      "5000\n",
      "index error\n",
      "index error\n",
      "index error\n",
      "index error\n",
      "index error\n",
      "index error\n",
      "6000\n",
      "7000\n",
      "index error\n",
      "index error\n",
      "index error\n",
      "index error\n",
      "8000\n",
      "9000\n",
      "10000\n",
      "11000\n",
      "index error\n",
      "index error\n",
      "index error\n",
      "index error\n",
      "index error\n",
      "index error\n",
      "index error\n",
      "index error\n",
      "index error\n",
      "index error\n",
      "index error\n",
      "index error\n",
      "12000\n",
      "13000\n",
      "14000\n",
      "index error\n",
      "15000\n",
      "index error\n",
      "index error\n",
      "16000\n",
      "17000\n",
      "18000\n",
      "index error\n",
      "index error\n",
      "19000\n",
      "20000\n"
     ]
    }
   ],
   "source": [
    "#p\n",
    "#each generated file has about 2500 instances, with 5 legal and 5 illegal per board\n",
    "n = 1000\n",
    "i = 0\n",
    "j = 0\n",
    "while (i < len(content)):\n",
    "    #read in n fens\n",
    "    df = fen2mlinput(content[i:i+n])\n",
    "    i += n\n",
    "    j += 1\n",
    "    print(i)\n",
    "    df.to_csv('../data/csv_input/2015-12-07-csv' + str(j))\n",
    "    #print(df.shape)\n",
    "    #write to file"
   ]
  },
  {
   "cell_type": "code",
   "execution_count": 116,
   "metadata": {
    "collapsed": false,
    "scrolled": true
   },
   "outputs": [
    {
     "name": "stdout",
     "output_type": "stream",
     "text": [
      "../data/csv_input/2015-12-07-csv1\n",
      "converting x to list\n"
     ]
    }
   ],
   "source": [
    "#returns dataframe with certain columns converted back to lists/integers\n",
    "def unpickle_csv(filename_prefix='../data/csv_input/2015-12-07-csv', filename_suffix_range=range(1,21), debug=True):\n",
    "    #read in csv\n",
    "    df = pd.DataFrame()\n",
    "    for i in filename_suffix_range:\n",
    "        if debug: print(filename_prefix + str(i))\n",
    "        df = df.append(pd.read_csv(filename_prefix + str(i)))\n",
    "    \n",
    "    #clean columns\n",
    "    df['y'] = df['y'].astype(int)\n",
    "    if debug: print(\"converting x to list\")\n",
    "    df['x'] = df['x'] = df.loc[:, 'x'].apply(lambda x: [1 if '1' == a else 0 for a in x.split(', ')])\n",
    "    \n",
    "    #reindex\n",
    "    length = df.shape[0]\n",
    "    df = df.set_index([range(0,length)])\n",
    "    return df;\n",
    "\n",
    "df = unpickle_csv('../data/csv_input/2015-12-07-csv', range(1,2))\n",
    "df.head()\n",
    "fries_ready()"
   ]
  },
  {
   "cell_type": "code",
   "execution_count": 109,
   "metadata": {
    "collapsed": false
   },
   "outputs": [
    {
     "data": {
      "text/plain": [
       "(188314, 8)"
      ]
     },
     "execution_count": 109,
     "metadata": {},
     "output_type": "execute_result"
    }
   ],
   "source": [
    "df.shape"
   ]
  },
  {
   "cell_type": "code",
   "execution_count": null,
   "metadata": {
    "collapsed": true
   },
   "outputs": [],
   "source": []
  }
 ],
 "metadata": {
  "kernelspec": {
   "display_name": "Python 2",
   "language": "python",
   "name": "python2"
  },
  "language_info": {
   "codemirror_mode": {
    "name": "ipython",
    "version": 2
   },
   "file_extension": ".py",
   "mimetype": "text/x-python",
   "name": "python",
   "nbconvert_exporter": "python",
   "pygments_lexer": "ipython2",
   "version": "2.7.10"
  }
 },
 "nbformat": 4,
 "nbformat_minor": 0
}
