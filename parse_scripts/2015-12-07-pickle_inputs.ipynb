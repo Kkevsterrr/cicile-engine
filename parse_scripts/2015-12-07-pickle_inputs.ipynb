{
 "cells": [
  {
   "cell_type": "markdown",
   "metadata": {},
   "source": [
    "Pickle input so we don't have to waste time with processing the fen file every time we want to run the experiment"
   ]
  },
  {
   "cell_type": "code",
   "execution_count": 28,
   "metadata": {
    "collapsed": false
   },
   "outputs": [
    {
     "name": "stdout",
     "output_type": "stream",
     "text": [
      "Position(board='         \\n         \\n rnbqkbnr\\n pppp.ppp\\n ........\\n ....p...\\n ....P...\\n .....N..\\n PPPP.PPP\\n RNBQKB.R\\n         \\n         ', score=0, wc=(True, True), bc=(True, True), ep=0, kp=0)\n",
      "(33, 44)\n",
      "(26, 28)\n",
      "(87, 67), P->.\n"
     ]
    }
   ],
   "source": [
    "%matplotlib inline\n",
    "from fenparsev4 import *\n",
    "import pickle"
   ]
  },
  {
   "cell_type": "code",
   "execution_count": 29,
   "metadata": {
    "collapsed": true
   },
   "outputs": [],
   "source": [
    "#read in fens\n",
    "with open(\"../data/2015-12-01-fen_sample\") as f:\n",
    "    content = [\" \".join(line.split(\" \")[:2]) for line in f.readlines()]"
   ]
  },
  {
   "cell_type": "code",
   "execution_count": 51,
   "metadata": {
    "collapsed": false
   },
   "outputs": [
    {
     "name": "stdout",
     "output_type": "stream",
     "text": [
      "index error\n",
      "index error\n",
      "1000\n",
      "2000\n",
      "3000\n",
      "index error\n",
      "index error\n",
      "index error\n",
      "index error\n",
      "4000\n",
      "5000\n",
      "index error\n",
      "index error\n",
      "index error\n",
      "index error\n",
      "index error\n",
      "index error\n",
      "6000\n",
      "7000\n",
      "index error\n",
      "index error\n",
      "index error\n",
      "index error\n",
      "8000\n",
      "9000\n",
      "10000\n",
      "11000\n",
      "index error\n",
      "index error\n",
      "index error\n",
      "index error\n",
      "index error\n",
      "index error\n",
      "index error\n",
      "index error\n",
      "index error\n",
      "index error\n",
      "index error\n",
      "index error\n",
      "12000\n",
      "13000\n",
      "14000\n",
      "index error\n",
      "15000\n",
      "index error\n",
      "index error\n",
      "16000\n",
      "17000\n",
      "18000\n",
      "index error\n",
      "index error\n",
      "19000\n",
      "20000\n"
     ]
    }
   ],
   "source": [
    "#pickling - DOUBLE CHECK FILENAME\n",
    "#each generated file has about 2500 instances, with 5 legal and 5 illegal per board\n",
    "n = 1000\n",
    "i = 0\n",
    "j = 0\n",
    "while (i < len(content)):\n",
    "    #read in n fens\n",
    "    df = fen2mlinput(content[i:i+n])\n",
    "    i += n\n",
    "    j += 1\n",
    "    print(i)\n",
    "    with open('../data/pickled/2015-12-07-pickled' + str(j), 'wb') as f:\n",
    "        pickle.dump( df, f )\n",
    "    #print(df.shape)\n",
    "    #write to file"
   ]
  },
  {
   "cell_type": "code",
   "execution_count": 53,
   "metadata": {
    "collapsed": false
   },
   "outputs": [],
   "source": [
    "#unpickle\n",
    "df = pd.DataFrame()\n",
    "for i in range(1,2):\n",
    "    df = df.append(pickle.load( open( \"../data/pickled/2015-12-07-pickled\" + str(i), \"rb\" ) ))"
   ]
  },
  {
   "cell_type": "code",
   "execution_count": 54,
   "metadata": {
    "collapsed": false
   },
   "outputs": [
    {
     "data": {
      "text/plain": [
       "(9886, 7)"
      ]
     },
     "execution_count": 54,
     "metadata": {},
     "output_type": "execute_result"
    }
   ],
   "source": [
    "df.shape"
   ]
  },
  {
   "cell_type": "code",
   "execution_count": 55,
   "metadata": {
    "collapsed": false
   },
   "outputs": [
    {
     "data": {
      "text/html": [
       "<div>\n",
       "<table border=\"1\" class=\"dataframe\">\n",
       "  <thead>\n",
       "    <tr style=\"text-align: right;\">\n",
       "      <th></th>\n",
       "      <th>move</th>\n",
       "      <th>piece_moved</th>\n",
       "      <th>piece_captured</th>\n",
       "      <th>preboard</th>\n",
       "      <th>postboard</th>\n",
       "      <th>x</th>\n",
       "      <th>y</th>\n",
       "    </tr>\n",
       "  </thead>\n",
       "  <tbody>\n",
       "    <tr>\n",
       "      <th>0</th>\n",
       "      <td>(87, 77)</td>\n",
       "      <td>p</td>\n",
       "      <td>.</td>\n",
       "      <td>[ RNBKQBNR\\n,  PPP.PPPP\\n,  ........\\n,  ...P....</td>\n",
       "      <td>([ RNBKQBNR\\n,  PPP.PPPP\\n,  ........\\n,  ...P...</td>\n",
       "      <td>[0, 0, 0, 0, 0, 0, 0, 0, 0, 0, 0, 1, 0, 0, 0, ...</td>\n",
       "      <td>1</td>\n",
       "    </tr>\n",
       "    <tr>\n",
       "      <th>0</th>\n",
       "      <td>(83, 73)</td>\n",
       "      <td>p</td>\n",
       "      <td>.</td>\n",
       "      <td>[ RNBKQBNR\\n,  PPP.PPPP\\n,  ........\\n,  ...P....</td>\n",
       "      <td>([ RNBKQBNR\\n,  PPP.PPPP\\n,  ........\\n,  ...P...</td>\n",
       "      <td>[0, 0, 0, 0, 0, 0, 0, 0, 0, 0, 0, 1, 0, 0, 0, ...</td>\n",
       "      <td>1</td>\n",
       "    </tr>\n",
       "    <tr>\n",
       "      <th>0</th>\n",
       "      <td>(97, 76)</td>\n",
       "      <td>n</td>\n",
       "      <td>.</td>\n",
       "      <td>[ RNBKQBNR\\n,  PPP.PPPP\\n,  ........\\n,  ...P....</td>\n",
       "      <td>([ RNBKQBNR\\n,  PPP.PPPP\\n,  ........\\n,  ...P...</td>\n",
       "      <td>[0, 0, 0, 0, 0, 0, 0, 0, 0, 0, 0, 1, 0, 0, 0, ...</td>\n",
       "      <td>1</td>\n",
       "    </tr>\n",
       "    <tr>\n",
       "      <th>0</th>\n",
       "      <td>(84, 74)</td>\n",
       "      <td>p</td>\n",
       "      <td>.</td>\n",
       "      <td>[ RNBKQBNR\\n,  PPP.PPPP\\n,  ........\\n,  ...P....</td>\n",
       "      <td>([ RNBKQBNR\\n,  PPP.PPPP\\n,  ........\\n,  ...P...</td>\n",
       "      <td>[0, 0, 0, 0, 0, 0, 0, 0, 0, 0, 0, 1, 0, 0, 0, ...</td>\n",
       "      <td>1</td>\n",
       "    </tr>\n",
       "    <tr>\n",
       "      <th>0</th>\n",
       "      <td>(88, 68)</td>\n",
       "      <td>p</td>\n",
       "      <td>.</td>\n",
       "      <td>[ RNBKQBNR\\n,  PPP.PPPP\\n,  ........\\n,  ...P....</td>\n",
       "      <td>([ RNBKQBNR\\n,  PPP.PPPP\\n,  ........\\n,  ...P...</td>\n",
       "      <td>[0, 0, 0, 0, 0, 0, 0, 0, 0, 0, 0, 1, 0, 0, 0, ...</td>\n",
       "      <td>1</td>\n",
       "    </tr>\n",
       "  </tbody>\n",
       "</table>\n",
       "</div>"
      ],
      "text/plain": [
       "       move piece_moved piece_captured  \\\n",
       "0  (87, 77)           p              .   \n",
       "0  (83, 73)           p              .   \n",
       "0  (97, 76)           n              .   \n",
       "0  (84, 74)           p              .   \n",
       "0  (88, 68)           p              .   \n",
       "\n",
       "                                            preboard  \\\n",
       "0  [ RNBKQBNR\\n,  PPP.PPPP\\n,  ........\\n,  ...P....   \n",
       "0  [ RNBKQBNR\\n,  PPP.PPPP\\n,  ........\\n,  ...P....   \n",
       "0  [ RNBKQBNR\\n,  PPP.PPPP\\n,  ........\\n,  ...P....   \n",
       "0  [ RNBKQBNR\\n,  PPP.PPPP\\n,  ........\\n,  ...P....   \n",
       "0  [ RNBKQBNR\\n,  PPP.PPPP\\n,  ........\\n,  ...P....   \n",
       "\n",
       "                                           postboard  \\\n",
       "0  ([ RNBKQBNR\\n,  PPP.PPPP\\n,  ........\\n,  ...P...   \n",
       "0  ([ RNBKQBNR\\n,  PPP.PPPP\\n,  ........\\n,  ...P...   \n",
       "0  ([ RNBKQBNR\\n,  PPP.PPPP\\n,  ........\\n,  ...P...   \n",
       "0  ([ RNBKQBNR\\n,  PPP.PPPP\\n,  ........\\n,  ...P...   \n",
       "0  ([ RNBKQBNR\\n,  PPP.PPPP\\n,  ........\\n,  ...P...   \n",
       "\n",
       "                                                   x  y  \n",
       "0  [0, 0, 0, 0, 0, 0, 0, 0, 0, 0, 0, 1, 0, 0, 0, ...  1  \n",
       "0  [0, 0, 0, 0, 0, 0, 0, 0, 0, 0, 0, 1, 0, 0, 0, ...  1  \n",
       "0  [0, 0, 0, 0, 0, 0, 0, 0, 0, 0, 0, 1, 0, 0, 0, ...  1  \n",
       "0  [0, 0, 0, 0, 0, 0, 0, 0, 0, 0, 0, 1, 0, 0, 0, ...  1  \n",
       "0  [0, 0, 0, 0, 0, 0, 0, 0, 0, 0, 0, 1, 0, 0, 0, ...  1  "
      ]
     },
     "execution_count": 55,
     "metadata": {},
     "output_type": "execute_result"
    }
   ],
   "source": [
    "df.head()"
   ]
  },
  {
   "cell_type": "code",
   "execution_count": 61,
   "metadata": {
    "collapsed": false
   },
   "outputs": [
    {
     "name": "stdout",
     "output_type": "stream",
     "text": [
      "index error\n",
      "index error\n",
      "1000\n",
      "2000\n",
      "3000\n",
      "index error\n",
      "index error\n",
      "index error\n",
      "index error\n",
      "4000\n",
      "5000\n",
      "index error\n",
      "index error\n",
      "index error\n",
      "index error\n",
      "index error\n",
      "index error\n",
      "6000\n",
      "7000\n",
      "index error\n",
      "index error\n",
      "index error\n",
      "index error\n",
      "8000\n",
      "9000\n",
      "10000\n",
      "11000\n",
      "index error\n",
      "index error\n",
      "index error\n",
      "index error\n",
      "index error\n",
      "index error\n",
      "index error\n",
      "index error\n",
      "index error\n",
      "index error\n",
      "index error\n",
      "index error\n",
      "12000\n",
      "13000\n",
      "14000\n",
      "index error\n",
      "15000\n",
      "index error\n",
      "index error\n",
      "16000\n",
      "17000\n",
      "18000\n",
      "index error\n",
      "index error\n",
      "19000\n",
      "20000\n"
     ]
    }
   ],
   "source": [
    "#pickling - DOUBLE CHECK FILENAME\n",
    "#each generated file has about 2500 instances, with 5 legal and 5 illegal per board\n",
    "n = 1000\n",
    "i = 0\n",
    "j = 0\n",
    "while (i < len(content)):\n",
    "    #read in n fens\n",
    "    df = fen2mlinput(content[i:i+n])\n",
    "    i += n\n",
    "    j += 1\n",
    "    print(i)\n",
    "    df.to_csv('../data/csv_input/2015-12-07-csv' + str(j))\n",
    "    #print(df.shape)\n",
    "    #write to file"
   ]
  },
  {
   "cell_type": "code",
   "execution_count": 63,
   "metadata": {
    "collapsed": false
   },
   "outputs": [],
   "source": [
    "df = pd.read_csv('../data/csv_input/2015-12-07-csv1000')"
   ]
  },
  {
   "cell_type": "code",
   "execution_count": 60,
   "metadata": {
    "collapsed": false
   },
   "outputs": [
    {
     "data": {
      "text/html": [
       "<div>\n",
       "<table border=\"1\" class=\"dataframe\">\n",
       "  <thead>\n",
       "    <tr style=\"text-align: right;\">\n",
       "      <th></th>\n",
       "      <th>Unnamed: 0</th>\n",
       "      <th>move</th>\n",
       "      <th>piece_moved</th>\n",
       "      <th>piece_captured</th>\n",
       "      <th>preboard</th>\n",
       "      <th>postboard</th>\n",
       "      <th>x</th>\n",
       "      <th>y</th>\n",
       "    </tr>\n",
       "  </thead>\n",
       "  <tbody>\n",
       "    <tr>\n",
       "      <th>0</th>\n",
       "      <td>0</td>\n",
       "      <td>(92, 73)</td>\n",
       "      <td>n</td>\n",
       "      <td>.</td>\n",
       "      <td>[' RNBKQBNR\\n', ' PPP.PPPP\\n', ' ........\\n', ...</td>\n",
       "      <td>([' RNBKQBNR\\n', ' PPP.PPPP\\n', ' ........\\n',...</td>\n",
       "      <td>[0, 0, 0, 0, 0, 0, 0, 0, 0, 0, 0, 1, 0, 0, 0, ...</td>\n",
       "      <td>1</td>\n",
       "    </tr>\n",
       "    <tr>\n",
       "      <th>1</th>\n",
       "      <td>0</td>\n",
       "      <td>(97, 76)</td>\n",
       "      <td>n</td>\n",
       "      <td>.</td>\n",
       "      <td>[' RNBKQBNR\\n', ' PPP.PPPP\\n', ' ........\\n', ...</td>\n",
       "      <td>([' RNBKQBNR\\n', ' PPP.PPPP\\n', ' ........\\n',...</td>\n",
       "      <td>[0, 0, 0, 0, 0, 0, 0, 0, 0, 0, 0, 1, 0, 0, 0, ...</td>\n",
       "      <td>1</td>\n",
       "    </tr>\n",
       "    <tr>\n",
       "      <th>2</th>\n",
       "      <td>0</td>\n",
       "      <td>(82, 72)</td>\n",
       "      <td>p</td>\n",
       "      <td>.</td>\n",
       "      <td>[' RNBKQBNR\\n', ' PPP.PPPP\\n', ' ........\\n', ...</td>\n",
       "      <td>([' RNBKQBNR\\n', ' PPP.PPPP\\n', ' ........\\n',...</td>\n",
       "      <td>[0, 0, 0, 0, 0, 0, 0, 0, 0, 0, 0, 1, 0, 0, 0, ...</td>\n",
       "      <td>1</td>\n",
       "    </tr>\n",
       "    <tr>\n",
       "      <th>3</th>\n",
       "      <td>0</td>\n",
       "      <td>(87, 67)</td>\n",
       "      <td>p</td>\n",
       "      <td>.</td>\n",
       "      <td>[' RNBKQBNR\\n', ' PPP.PPPP\\n', ' ........\\n', ...</td>\n",
       "      <td>([' RNBKQBNR\\n', ' PPP.PPPP\\n', ' ........\\n',...</td>\n",
       "      <td>[0, 0, 0, 0, 0, 0, 0, 0, 0, 0, 0, 1, 0, 0, 0, ...</td>\n",
       "      <td>1</td>\n",
       "    </tr>\n",
       "    <tr>\n",
       "      <th>4</th>\n",
       "      <td>0</td>\n",
       "      <td>(86, 66)</td>\n",
       "      <td>p</td>\n",
       "      <td>.</td>\n",
       "      <td>[' RNBKQBNR\\n', ' PPP.PPPP\\n', ' ........\\n', ...</td>\n",
       "      <td>([' RNBKQBNR\\n', ' PPP.PPPP\\n', ' ........\\n',...</td>\n",
       "      <td>[0, 0, 0, 0, 0, 0, 0, 0, 0, 0, 0, 1, 0, 0, 0, ...</td>\n",
       "      <td>1</td>\n",
       "    </tr>\n",
       "  </tbody>\n",
       "</table>\n",
       "</div>"
      ],
      "text/plain": [
       "   Unnamed: 0      move piece_moved piece_captured  \\\n",
       "0           0  (92, 73)           n              .   \n",
       "1           0  (97, 76)           n              .   \n",
       "2           0  (82, 72)           p              .   \n",
       "3           0  (87, 67)           p              .   \n",
       "4           0  (86, 66)           p              .   \n",
       "\n",
       "                                            preboard  \\\n",
       "0  [' RNBKQBNR\\n', ' PPP.PPPP\\n', ' ........\\n', ...   \n",
       "1  [' RNBKQBNR\\n', ' PPP.PPPP\\n', ' ........\\n', ...   \n",
       "2  [' RNBKQBNR\\n', ' PPP.PPPP\\n', ' ........\\n', ...   \n",
       "3  [' RNBKQBNR\\n', ' PPP.PPPP\\n', ' ........\\n', ...   \n",
       "4  [' RNBKQBNR\\n', ' PPP.PPPP\\n', ' ........\\n', ...   \n",
       "\n",
       "                                           postboard  \\\n",
       "0  ([' RNBKQBNR\\n', ' PPP.PPPP\\n', ' ........\\n',...   \n",
       "1  ([' RNBKQBNR\\n', ' PPP.PPPP\\n', ' ........\\n',...   \n",
       "2  ([' RNBKQBNR\\n', ' PPP.PPPP\\n', ' ........\\n',...   \n",
       "3  ([' RNBKQBNR\\n', ' PPP.PPPP\\n', ' ........\\n',...   \n",
       "4  ([' RNBKQBNR\\n', ' PPP.PPPP\\n', ' ........\\n',...   \n",
       "\n",
       "                                                   x  y  \n",
       "0  [0, 0, 0, 0, 0, 0, 0, 0, 0, 0, 0, 1, 0, 0, 0, ...  1  \n",
       "1  [0, 0, 0, 0, 0, 0, 0, 0, 0, 0, 0, 1, 0, 0, 0, ...  1  \n",
       "2  [0, 0, 0, 0, 0, 0, 0, 0, 0, 0, 0, 1, 0, 0, 0, ...  1  \n",
       "3  [0, 0, 0, 0, 0, 0, 0, 0, 0, 0, 0, 1, 0, 0, 0, ...  1  \n",
       "4  [0, 0, 0, 0, 0, 0, 0, 0, 0, 0, 0, 1, 0, 0, 0, ...  1  "
      ]
     },
     "execution_count": 60,
     "metadata": {},
     "output_type": "execute_result"
    }
   ],
   "source": [
    "df.head()"
   ]
  },
  {
   "cell_type": "code",
   "execution_count": null,
   "metadata": {
    "collapsed": true
   },
   "outputs": [],
   "source": []
  }
 ],
 "metadata": {
  "kernelspec": {
   "display_name": "Python 2",
   "language": "python",
   "name": "python2"
  },
  "language_info": {
   "codemirror_mode": {
    "name": "ipython",
    "version": 2
   },
   "file_extension": ".py",
   "mimetype": "text/x-python",
   "name": "python",
   "nbconvert_exporter": "python",
   "pygments_lexer": "ipython2",
   "version": "2.7.10"
  }
 },
 "nbformat": 4,
 "nbformat_minor": 0
}
