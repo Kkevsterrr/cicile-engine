{
 "cells": [
  {
   "cell_type": "code",
   "execution_count": 70,
   "metadata": {
    "collapsed": true
   },
   "outputs": [],
   "source": [
    "import pickle\n",
    "%matplotlib inline\n",
    "import matplotlib.pyplot as plt\n"
   ]
  },
  {
   "cell_type": "code",
   "execution_count": 12,
   "metadata": {
    "collapsed": false
   },
   "outputs": [
    {
     "data": {
      "text/plain": [
       "(90, 20)"
      ]
     },
     "execution_count": 12,
     "metadata": {},
     "output_type": "execute_result"
    }
   ],
   "source": [
    "df = pickle.load( open( \"2015-12-11-mlpexperiments_results2.p\", \"rb\" ) )\n",
    "df.shape"
   ]
  },
  {
   "cell_type": "code",
   "execution_count": 13,
   "metadata": {
    "collapsed": false
   },
   "outputs": [
    {
     "data": {
      "text/html": [
       "<div>\n",
       "<table border=\"1\" class=\"dataframe\">\n",
       "  <thead>\n",
       "    <tr style=\"text-align: right;\">\n",
       "      <th></th>\n",
       "      <th>cm_overall</th>\n",
       "      <th>epochs</th>\n",
       "      <th>network</th>\n",
       "      <th>pct_white</th>\n",
       "      <th>test_size</th>\n",
       "      <th>training_size</th>\n",
       "      <th>p_cm</th>\n",
       "      <th>P_cm</th>\n",
       "      <th>r_cm</th>\n",
       "      <th>R_cm</th>\n",
       "      <th>n_cm</th>\n",
       "      <th>N_cm</th>\n",
       "      <th>b_cm</th>\n",
       "      <th>B_cm</th>\n",
       "      <th>q_cm</th>\n",
       "      <th>Q_cm</th>\n",
       "      <th>k_cm</th>\n",
       "      <th>K_cm</th>\n",
       "      <th>white_cm</th>\n",
       "      <th>black_cm</th>\n",
       "    </tr>\n",
       "  </thead>\n",
       "  <tbody>\n",
       "    <tr>\n",
       "      <th>1</th>\n",
       "      <td>[[3232, 3239], [1710, 1819]]</td>\n",
       "      <td>3</td>\n",
       "      <td>{\"layers\": [{\"b_constraint\": null, \"name\": \"De...</td>\n",
       "      <td>0.5058</td>\n",
       "      <td>10000</td>\n",
       "      <td>1000</td>\n",
       "      <td>[[397, 152], [423, 201]]</td>\n",
       "      <td>[[441, 169], [486, 179]]</td>\n",
       "      <td>[[244, 188], [244, 196]]</td>\n",
       "      <td>[[252, 227], [284, 222]]</td>\n",
       "      <td>[[222, 91], [217, 84]]</td>\n",
       "      <td>[[283, 88], [234, 98]]</td>\n",
       "      <td>[[192, 106], [202, 102]]</td>\n",
       "      <td>[[293, 130], [285, 135]]</td>\n",
       "      <td>[[249, 115], [219, 110]]</td>\n",
       "      <td>[[296, 139], [278, 173]]</td>\n",
       "      <td>[[153, 156], [159, 155]]</td>\n",
       "      <td>[[210, 149], [208, 164]]</td>\n",
       "      <td>[[1775, 902], [1775, 971]]</td>\n",
       "      <td>[[1457, 808], [1464, 848]]</td>\n",
       "    </tr>\n",
       "    <tr>\n",
       "      <th>1</th>\n",
       "      <td>[[2338, 2221], [2604, 2837]]</td>\n",
       "      <td>5</td>\n",
       "      <td>{\"layers\": [{\"b_constraint\": null, \"name\": \"De...</td>\n",
       "      <td>0.5058</td>\n",
       "      <td>10000</td>\n",
       "      <td>1000</td>\n",
       "      <td>[[246, 303], [238, 386]]</td>\n",
       "      <td>[[324, 286], [309, 356]]</td>\n",
       "      <td>[[193, 239], [195, 245]]</td>\n",
       "      <td>[[202, 277], [213, 293]]</td>\n",
       "      <td>[[151, 162], [148, 153]]</td>\n",
       "      <td>[[201, 170], [155, 177]]</td>\n",
       "      <td>[[125, 173], [139, 165]]</td>\n",
       "      <td>[[218, 205], [196, 224]]</td>\n",
       "      <td>[[173, 191], [152, 177]]</td>\n",
       "      <td>[[221, 214], [205, 246]]</td>\n",
       "      <td>[[114, 195], [106, 208]]</td>\n",
       "      <td>[[170, 189], [165, 207]]</td>\n",
       "      <td>[[1336, 1341], [1243, 1503]]</td>\n",
       "      <td>[[1002, 1263], [978, 1334]]</td>\n",
       "    </tr>\n",
       "    <tr>\n",
       "      <th>1</th>\n",
       "      <td>[[2669, 2572], [2273, 2486]]</td>\n",
       "      <td>7</td>\n",
       "      <td>{\"layers\": [{\"b_constraint\": null, \"name\": \"De...</td>\n",
       "      <td>0.5058</td>\n",
       "      <td>10000</td>\n",
       "      <td>1000</td>\n",
       "      <td>[[426, 123], [443, 181]]</td>\n",
       "      <td>[[262, 348], [194, 471]]</td>\n",
       "      <td>[[248, 184], [269, 171]]</td>\n",
       "      <td>[[197, 282], [208, 298]]</td>\n",
       "      <td>[[240, 73], [244, 57]]</td>\n",
       "      <td>[[152, 219], [125, 207]]</td>\n",
       "      <td>[[205, 93], [221, 83]]</td>\n",
       "      <td>[[176, 247], [158, 262]]</td>\n",
       "      <td>[[257, 107], [226, 103]]</td>\n",
       "      <td>[[174, 261], [173, 278]]</td>\n",
       "      <td>[[164, 145], [157, 157]]</td>\n",
       "      <td>[[168, 191], [154, 218]]</td>\n",
       "      <td>[[1129, 1548], [1012, 1734]]</td>\n",
       "      <td>[[1540, 725], [1560, 752]]</td>\n",
       "    </tr>\n",
       "    <tr>\n",
       "      <th>1</th>\n",
       "      <td>[[2839, 2126], [2103, 2932]]</td>\n",
       "      <td>3</td>\n",
       "      <td>{\"layers\": [{\"b_constraint\": null, \"name\": \"De...</td>\n",
       "      <td>0.5058</td>\n",
       "      <td>10000</td>\n",
       "      <td>10000</td>\n",
       "      <td>[[424, 125], [360, 264]]</td>\n",
       "      <td>[[287, 323], [123, 542]]</td>\n",
       "      <td>[[252, 180], [224, 216]]</td>\n",
       "      <td>[[252, 227], [209, 297]]</td>\n",
       "      <td>[[247, 66], [217, 84]]</td>\n",
       "      <td>[[145, 226], [82, 250]]</td>\n",
       "      <td>[[205, 93], [178, 126]]</td>\n",
       "      <td>[[193, 230], [132, 288]]</td>\n",
       "      <td>[[244, 120], [164, 165]]</td>\n",
       "      <td>[[232, 203], [151, 300]]</td>\n",
       "      <td>[[173, 136], [129, 185]]</td>\n",
       "      <td>[[185, 174], [157, 215]]</td>\n",
       "      <td>[[1294, 1383], [854, 1892]]</td>\n",
       "      <td>[[1545, 720], [1272, 1040]]</td>\n",
       "    </tr>\n",
       "    <tr>\n",
       "      <th>1</th>\n",
       "      <td>[[3799, 3104], [1143, 1954]]</td>\n",
       "      <td>5</td>\n",
       "      <td>{\"layers\": [{\"b_constraint\": null, \"name\": \"De...</td>\n",
       "      <td>0.5058</td>\n",
       "      <td>10000</td>\n",
       "      <td>10000</td>\n",
       "      <td>[[342, 207], [135, 489]]</td>\n",
       "      <td>[[561, 49], [547, 118]]</td>\n",
       "      <td>[[278, 154], [229, 211]]</td>\n",
       "      <td>[[394, 85], [389, 117]]</td>\n",
       "      <td>[[208, 105], [136, 165]]</td>\n",
       "      <td>[[341, 30], [279, 53]]</td>\n",
       "      <td>[[180, 118], [128, 176]]</td>\n",
       "      <td>[[390, 33], [378, 42]]</td>\n",
       "      <td>[[235, 129], [132, 197]]</td>\n",
       "      <td>[[415, 20], [370, 81]]</td>\n",
       "      <td>[[175, 134], [116, 198]]</td>\n",
       "      <td>[[280, 79], [265, 107]]</td>\n",
       "      <td>[[2381, 296], [2228, 518]]</td>\n",
       "      <td>[[1418, 847], [876, 1436]]</td>\n",
       "    </tr>\n",
       "  </tbody>\n",
       "</table>\n",
       "</div>"
      ],
      "text/plain": [
       "                     cm_overall  epochs  \\\n",
       "1  [[3232, 3239], [1710, 1819]]       3   \n",
       "1  [[2338, 2221], [2604, 2837]]       5   \n",
       "1  [[2669, 2572], [2273, 2486]]       7   \n",
       "1  [[2839, 2126], [2103, 2932]]       3   \n",
       "1  [[3799, 3104], [1143, 1954]]       5   \n",
       "\n",
       "                                             network  pct_white  test_size  \\\n",
       "1  {\"layers\": [{\"b_constraint\": null, \"name\": \"De...     0.5058      10000   \n",
       "1  {\"layers\": [{\"b_constraint\": null, \"name\": \"De...     0.5058      10000   \n",
       "1  {\"layers\": [{\"b_constraint\": null, \"name\": \"De...     0.5058      10000   \n",
       "1  {\"layers\": [{\"b_constraint\": null, \"name\": \"De...     0.5058      10000   \n",
       "1  {\"layers\": [{\"b_constraint\": null, \"name\": \"De...     0.5058      10000   \n",
       "\n",
       "   training_size                      p_cm                      P_cm  \\\n",
       "1           1000  [[397, 152], [423, 201]]  [[441, 169], [486, 179]]   \n",
       "1           1000  [[246, 303], [238, 386]]  [[324, 286], [309, 356]]   \n",
       "1           1000  [[426, 123], [443, 181]]  [[262, 348], [194, 471]]   \n",
       "1          10000  [[424, 125], [360, 264]]  [[287, 323], [123, 542]]   \n",
       "1          10000  [[342, 207], [135, 489]]   [[561, 49], [547, 118]]   \n",
       "\n",
       "                       r_cm                      R_cm  \\\n",
       "1  [[244, 188], [244, 196]]  [[252, 227], [284, 222]]   \n",
       "1  [[193, 239], [195, 245]]  [[202, 277], [213, 293]]   \n",
       "1  [[248, 184], [269, 171]]  [[197, 282], [208, 298]]   \n",
       "1  [[252, 180], [224, 216]]  [[252, 227], [209, 297]]   \n",
       "1  [[278, 154], [229, 211]]   [[394, 85], [389, 117]]   \n",
       "\n",
       "                       n_cm                      N_cm  \\\n",
       "1    [[222, 91], [217, 84]]    [[283, 88], [234, 98]]   \n",
       "1  [[151, 162], [148, 153]]  [[201, 170], [155, 177]]   \n",
       "1    [[240, 73], [244, 57]]  [[152, 219], [125, 207]]   \n",
       "1    [[247, 66], [217, 84]]   [[145, 226], [82, 250]]   \n",
       "1  [[208, 105], [136, 165]]    [[341, 30], [279, 53]]   \n",
       "\n",
       "                       b_cm                      B_cm  \\\n",
       "1  [[192, 106], [202, 102]]  [[293, 130], [285, 135]]   \n",
       "1  [[125, 173], [139, 165]]  [[218, 205], [196, 224]]   \n",
       "1    [[205, 93], [221, 83]]  [[176, 247], [158, 262]]   \n",
       "1   [[205, 93], [178, 126]]  [[193, 230], [132, 288]]   \n",
       "1  [[180, 118], [128, 176]]    [[390, 33], [378, 42]]   \n",
       "\n",
       "                       q_cm                      Q_cm  \\\n",
       "1  [[249, 115], [219, 110]]  [[296, 139], [278, 173]]   \n",
       "1  [[173, 191], [152, 177]]  [[221, 214], [205, 246]]   \n",
       "1  [[257, 107], [226, 103]]  [[174, 261], [173, 278]]   \n",
       "1  [[244, 120], [164, 165]]  [[232, 203], [151, 300]]   \n",
       "1  [[235, 129], [132, 197]]    [[415, 20], [370, 81]]   \n",
       "\n",
       "                       k_cm                      K_cm  \\\n",
       "1  [[153, 156], [159, 155]]  [[210, 149], [208, 164]]   \n",
       "1  [[114, 195], [106, 208]]  [[170, 189], [165, 207]]   \n",
       "1  [[164, 145], [157, 157]]  [[168, 191], [154, 218]]   \n",
       "1  [[173, 136], [129, 185]]  [[185, 174], [157, 215]]   \n",
       "1  [[175, 134], [116, 198]]   [[280, 79], [265, 107]]   \n",
       "\n",
       "                       white_cm                     black_cm  \n",
       "1    [[1775, 902], [1775, 971]]   [[1457, 808], [1464, 848]]  \n",
       "1  [[1336, 1341], [1243, 1503]]  [[1002, 1263], [978, 1334]]  \n",
       "1  [[1129, 1548], [1012, 1734]]   [[1540, 725], [1560, 752]]  \n",
       "1   [[1294, 1383], [854, 1892]]  [[1545, 720], [1272, 1040]]  \n",
       "1    [[2381, 296], [2228, 518]]   [[1418, 847], [876, 1436]]  "
      ]
     },
     "execution_count": 13,
     "metadata": {},
     "output_type": "execute_result"
    }
   ],
   "source": [
    "df.head()"
   ]
  },
  {
   "cell_type": "code",
   "execution_count": 14,
   "metadata": {
    "collapsed": true
   },
   "outputs": [],
   "source": [
    "#methods to decode serialized network json\n",
    "import json\n",
    "\n",
    "def get_num_layers(json_str):\n",
    "    # number of actual layers - 5 for input and output / 3 for each hidden + 2 for input and output\n",
    "    return (len(json.loads(json_str)['layers']) - 5) / 3 + 2\n",
    "\n",
    "def get_first_activation(json_str):\n",
    "    return json.loads(json_str)['layers'][1]['activation']\n",
    "\n",
    "def get_first_width(json_str):\n",
    "    return json.loads(json_str)['layers'][0]['output_dim']"
   ]
  },
  {
   "cell_type": "code",
   "execution_count": 15,
   "metadata": {
    "collapsed": true
   },
   "outputs": [],
   "source": [
    "json_str = df.iloc[-1,2]"
   ]
  },
  {
   "cell_type": "code",
   "execution_count": 33,
   "metadata": {
    "collapsed": false
   },
   "outputs": [
    {
     "data": {
      "text/plain": [
       "584268"
      ]
     },
     "execution_count": 33,
     "metadata": {},
     "output_type": "execute_result"
    }
   ],
   "source": [
    "df['training_size'].max()"
   ]
  },
  {
   "cell_type": "code",
   "execution_count": 16,
   "metadata": {
    "collapsed": false,
    "scrolled": true
   },
   "outputs": [
    {
     "data": {
      "text/plain": [
       "1      64\n",
       "1      64\n",
       "1      64\n",
       "1      64\n",
       "1      64\n",
       "1      64\n",
       "1      64\n",
       "1      64\n",
       "1      64\n",
       "1      64\n",
       "1      64\n",
       "1      64\n",
       "1     128\n",
       "1     128\n",
       "1     128\n",
       "1     128\n",
       "1     128\n",
       "1     128\n",
       "1     128\n",
       "1     128\n",
       "1     128\n",
       "1     128\n",
       "1     128\n",
       "1     128\n",
       "1     256\n",
       "1     256\n",
       "1     256\n",
       "1     256\n",
       "1     256\n",
       "1     256\n",
       "     ... \n",
       "1    2048\n",
       "1    2048\n",
       "1    2048\n",
       "1    2048\n",
       "1    2048\n",
       "1    2048\n",
       "1    2048\n",
       "1    2048\n",
       "1    2048\n",
       "1    2048\n",
       "1    2048\n",
       "1    2048\n",
       "1      64\n",
       "1      64\n",
       "1      64\n",
       "1      64\n",
       "1      64\n",
       "1      64\n",
       "1      64\n",
       "1      64\n",
       "1      64\n",
       "1      64\n",
       "1      64\n",
       "1      64\n",
       "1     128\n",
       "1     128\n",
       "1     128\n",
       "1     128\n",
       "1     128\n",
       "1     128\n",
       "Name: network, dtype: int64"
      ]
     },
     "execution_count": 16,
     "metadata": {},
     "output_type": "execute_result"
    }
   ],
   "source": [
    "df['network'].apply(get_first_width)"
   ]
  },
  {
   "cell_type": "code",
   "execution_count": 17,
   "metadata": {
    "collapsed": false
   },
   "outputs": [],
   "source": [
    "#convert confusion matrices to accuracy\n",
    "def cm2accuracy(cm):\n",
    "    return (cm[0][0] + cm[1][1] * 1.0) / sum([sum(a) for a in cm])\n",
    "    \n",
    "df['overall_acc'] = df['cm_overall'].apply(cm2accuracy)\n",
    "df['width'] = df['network'].apply(get_first_width)\n",
    "df['num_layers'] = df['network'].apply(get_num_layers)"
   ]
  },
  {
   "cell_type": "code",
   "execution_count": 42,
   "metadata": {
    "collapsed": false
   },
   "outputs": [],
   "source": [
    "pieces = df[df['training_size'] == 584268].iloc[:,6:-4].applymap(cm2accuracy).head(1).iloc[0,:]"
   ]
  },
  {
   "cell_type": "code",
   "execution_count": 51,
   "metadata": {
    "collapsed": false
   },
   "outputs": [],
   "source": [
    "black = [a for a in pieces.index if a.islower()]\n",
    "white = [a for a in pieces.index if not a.islower()]\n",
    "black_pieces = pieces[black[:-1]]\n",
    "white_pieces = pieces[white]"
   ]
  },
  {
   "cell_type": "code",
   "execution_count": 60,
   "metadata": {
    "collapsed": false
   },
   "outputs": [
    {
     "data": {
      "text/plain": [
       "Index([u'p_cm', u'r_cm', u'n_cm', u'b_cm', u'q_cm', u'k_cm'], dtype='object')"
      ]
     },
     "execution_count": 60,
     "metadata": {},
     "output_type": "execute_result"
    }
   ],
   "source": [
    "black_pieces.index"
   ]
  },
  {
   "cell_type": "code",
   "execution_count": 88,
   "metadata": {
    "collapsed": false
   },
   "outputs": [
    {
     "data": {
      "text/plain": [
       "[None, None, None, None, None, None]"
      ]
     },
     "execution_count": 88,
     "metadata": {},
     "output_type": "execute_result"
    },
    {
     "data": {
      "image/png": "[encoded data removed]",
      "text/plain": [
       "<matplotlib.figure.Figure at 0x7f07ad31d290>"
      ]
     },
     "metadata": {},
     "output_type": "display_data"
    }
   ],
   "source": [
    "ind = range(6)\n",
    "offset_ind = [i + width for i in ind]\n",
    "width = 0.35\n",
    "fig, ax = plt.subplots(figsize=(12,8))\n",
    "ax.bar(ind, black_pieces, width, color='black')\n",
    "ax.bar(offset_ind, white_pieces, width, color='white')\n",
    "plt.ylim((.7,.9))\n",
    "ax.set_xticks(offset_ind)\n",
    "ax.set_xticklabels(['Pawn', 'Rook', \"Knight\", \"Bishop\", \"Queen\", \"King\"])\n",
    "ax.set_ylabel(\"Accuracy\", fontsize=20)\n",
    "ax.set_title(\"Piece vs. Accuracy\", fontsize=30)\n",
    "plt.setp(ax.get_xticklabels(), fontsize=15)\n",
    "plt.setp(ax.get_yticklabels(), fontsize=15)"
   ]
  },
  {
   "cell_type": "code",
   "execution_count": 64,
   "metadata": {
    "collapsed": false
   },
   "outputs": [
    {
     "data": {
      "text/plain": [
       "{'B': 0.07865,\n",
       " 'K': 0.07048,\n",
       " 'N': 0.07647,\n",
       " 'P': 0.12417,\n",
       " 'Q': 0.08711,\n",
       " 'R': 0.10007,\n",
       " 'b': 0.06076,\n",
       " 'k': 0.06224,\n",
       " 'n': 0.06204,\n",
       " 'p': 0.11823,\n",
       " 'q': 0.07171,\n",
       " 'r': 0.08807}"
      ]
     },
     "execution_count": 64,
     "metadata": {},
     "output_type": "execute_result"
    }
   ],
   "source": [
    "d = pickle.load( open( \"piece_count.p\", \"rb\" ) )\n",
    "d"
   ]
  },
  {
   "cell_type": "code",
   "execution_count": 87,
   "metadata": {
    "collapsed": false
   },
   "outputs": [
    {
     "data": {
      "text/plain": [
       "[None, None, None, None, None, None, None, None, None]"
      ]
     },
     "execution_count": 87,
     "metadata": {},
     "output_type": "execute_result"
    },
    {
     "data": {
      "image/png": "[encoded data removed]",
      "text/plain": [
       "<matplotlib.figure.Figure at 0x7f07ad297750>"
      ]
     },
     "metadata": {},
     "output_type": "display_data"
    }
   ],
   "source": [
    "white_piece_count = [d[p] for p in 'prnbqk']\n",
    "black_piece_count = [d[p] for p in 'PRNBQK']\n",
    "ind = range(6)\n",
    "offset_ind = [i + width for i in ind]\n",
    "width = 0.35\n",
    "fig, ax = plt.subplots(figsize=(12,3))\n",
    "ax.bar(ind, black_piece_count, width, color='black')\n",
    "ax.bar(offset_ind, white_piece_count, width, color='white')\n",
    "ax.set_xticks(offset_ind)\n",
    "ax.set_xticklabels(['Pawn', 'Rook', \"Knight\", \"Bishop\", \"Queen\", \"King\"])\n",
    "ax.set_ylabel(\"Percent of Dataset\", fontsize=20)\n",
    "ax.set_title(\"Piece vs. Number of Instances\", fontsize=30)\n",
    "plt.setp(ax.get_xticklabels(), fontsize=15)\n",
    "plt.setp(ax.get_yticklabels(), fontsize=15)"
   ]
  },
  {
   "cell_type": "code",
   "execution_count": 71,
   "metadata": {
    "collapsed": false
   },
   "outputs": [
    {
     "data": {
      "text/plain": [
       "(0.0, 1.0)"
      ]
     },
     "execution_count": 71,
     "metadata": {},
     "output_type": "execute_result"
    },
    {
     "data": {
      "image/png": "[encoded data removed]",
      "text/plain": [
       "<matplotlib.figure.Figure at 0x7f0e2c607d90>"
      ]
     },
     "metadata": {},
     "output_type": "display_data"
    }
   ],
   "source": [
    "x = df['epochs']\n",
    "y = df['overall_acc']\n",
    "plt.scatter(x,y)\n",
    "plt.xlabel('epochs')\n",
    "plt.ylabel('accuracy')\n",
    "plt.ylim((0.0,1.0))"
   ]
  },
  {
   "cell_type": "code",
   "execution_count": 72,
   "metadata": {
    "collapsed": false
   },
   "outputs": [
    {
     "data": {
      "text/plain": [
       "(0.0, 1.0)"
      ]
     },
     "execution_count": 72,
     "metadata": {},
     "output_type": "execute_result"
    },
    {
     "data": {
      "image/png": "[encoded data removed]",
      "text/plain": [
       "<matplotlib.figure.Figure at 0x7f0e2c67db90>"
      ]
     },
     "metadata": {},
     "output_type": "display_data"
    }
   ],
   "source": [
    "x = df['num_layers']\n",
    "y = df['overall_acc']\n",
    "plt.scatter(x,y)\n",
    "plt.xlabel('epochs')\n",
    "plt.ylabel('accuracy')\n",
    "plt.ylim((0.0,1.0))"
   ]
  },
  {
   "cell_type": "code",
   "execution_count": null,
   "metadata": {
    "collapsed": true
   },
   "outputs": [],
   "source": []
  }
 ],
 "metadata": {
  "kernelspec": {
   "display_name": "Python 2",
   "language": "python",
   "name": "python2"
  },
  "language_info": {
   "codemirror_mode": {
    "name": "ipython",
    "version": 2
   },
   "file_extension": ".py",
   "mimetype": "text/x-python",
   "name": "python",
   "nbconvert_exporter": "python",
   "pygments_lexer": "ipython2",
   "version": "2.7.10"
  }
 },
 "nbformat": 4,
 "nbformat_minor": 0
}
