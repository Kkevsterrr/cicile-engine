{
 "cells": [
  {
   "cell_type": "code",
   "execution_count": 9,
   "metadata": {
    "collapsed": false
   },
   "outputs": [],
   "source": [
    "%matplotlib inline\n",
    "from fenparsev4 import *\n",
    "from pybrain.datasets import ClassificationDataSet\n",
    "from pybrain.supervised.trainers import BackpropTrainer\n",
    "from pybrain.tools.shortcuts import buildNetwork\n",
    "from pybrain.structure.modules import TanhLayer\n",
    "import numpy as np\n",
    "import random\n",
    "from sklearn.metrics import confusion_matrix\n",
    "import os\n",
    "from __future__ import print_function\n",
    "from keras.datasets import mnist\n",
    "from keras.models import Sequential\n",
    "from keras.layers.core import Dense, Dropout, Activation\n",
    "from keras.layers.recurrent import SimpleRNN, LSTM, GRU\n",
    "from keras.optimizers import SGD, Adam, RMSprop\n",
    "from keras.utils import np_utils\n",
    "import pickle"
   ]
  },
  {
   "cell_type": "code",
   "execution_count": 12,
   "metadata": {
    "collapsed": false,
    "scrolled": true
   },
   "outputs": [
    {
     "name": "stdout",
     "output_type": "stream",
     "text": [
      "Inizializing read of 20 files...\n",
      "Reading...done\n",
      "Converting to list...done\n",
      "Splitting data...done\n"
     ]
    }
   ],
   "source": [
    "#most important part\n",
    "def fries_ready():\n",
    "    os.system('say your fries are done')\n",
    "    \n",
    "def write(str):\n",
    "    sys.stdout.write('\\r' + str)\n",
    "    sys.stdout.flush()\n",
    "    \n",
    "def writeln(str):\n",
    "    sys.stdout.write(str)\n",
    "    sys.stdout.flush()\n",
    "\n",
    "num_files = 20\n",
    "filename_prefix='/media/drive/storage/csv_input/2015-12-08_112mil'\n",
    "filename_suffix_range=range(1,num_files + 1)\n",
    "debug=True\n",
    "    \n",
    "#read in csv\n",
    "df = pd.DataFrame()\n",
    "writeln(\"Inizializing read of %d files...\\n\" % (num_files))\n",
    "for i in filename_suffix_range:\n",
    "    if debug: write(\"Reading...%d/%d\" % (i, num_files))\n",
    "    df = df.append(pd.read_csv(filename_prefix + str(i)))\n",
    "write(\"Reading...done\\n\")\n",
    "#clean columns\n",
    "df['y'] = df['y'].astype(int)\n",
    "if debug: writeln(\"Converting to list...\")\n",
    "df['x'] = df['x'] = df.loc[:, 'x'].apply(lambda x: [1 if '1' == a else 0 for a in x.split(', ')])\n",
    "length = df.shape[0]\n",
    "df = df.set_index([range(0,length)])\n",
    "writeln(\"done\\nShuffling data...\")\n",
    "df = df.reindex(np.random.permutation(df.index))\n",
    "writeln(\"done\")\n",
    "write(\"Splitting data...\")\n",
    "split = df.shape[0] * 4 / 5\n",
    "all_train = df.iloc[:split, :]\n",
    "all_test = df.iloc[split:, :]\n",
    "writeln(\"done\\n\")"
   ]
  },
  {
   "cell_type": "code",
   "execution_count": 13,
   "metadata": {
    "collapsed": true
   },
   "outputs": [],
   "source": [
    "#takes in full dataframe and converts to usable dataset\n",
    "def build_dataset(all_train, all_test, nb_classes=2, debug=True):\n",
    "    X_train = list(all_train['x'])\n",
    "    X_test = list(all_test['x'])\n",
    "    if debug: print(\"building y labels\")\n",
    "    y_train = [[1] if y == 1 else [0] for y in all_train['y']]\n",
    "    Y_test_binary = [1 if y == 1 else 0 for y in all_test['y']]\n",
    "    if debug: print(\"converting X_train and X_test to nparrays\")\n",
    "    X_train = np.array(X_train)\n",
    "    X_test = np.array(X_test)\n",
    "    if debug: print(\"converting y labels to categorical\")\n",
    "    # convert class vectors to binary class matrices\n",
    "    Y_train = np_utils.to_categorical(y_train, nb_classes)\n",
    "    Y_test = np_utils.to_categorical(Y_test_binary, nb_classes)\n",
    "    return (X_train, Y_train, X_test, Y_test, Y_test_binary)"
   ]
  },
  {
   "cell_type": "code",
   "execution_count": 14,
   "metadata": {
    "collapsed": false
   },
   "outputs": [
    {
     "name": "stdout",
     "output_type": "stream",
     "text": [
      "building y labels\n",
      "converting X_train and X_test to nparrays\n",
      "converting y labels to categorical\n"
     ]
    }
   ],
   "source": [
    "# y test binary is a binary vector\n",
    "# Y_test is categorical numpy format\n",
    "(X_train, Y_train, X_test, Y_test, Y_test_binary) = build_dataset(all_train, all_test)"
   ]
  },
  {
   "cell_type": "code",
   "execution_count": 15,
   "metadata": {
    "collapsed": true
   },
   "outputs": [],
   "source": [
    "def getActivation(activation):\n",
    "    if (activation == 'tanh'):\n",
    "        return Activation('tanh')\n",
    "    elif (activation == 'sigmoid'):\n",
    "        return Activation('sigmoid')\n",
    "    elif (activation == 'hard_sigmoid'):\n",
    "        return Activation('hard_sigmoid')\n",
    "    else:\n",
    "        print(\"invalid activation!\")\n",
    "\n",
    "def buildMLP(activation='tanh',depth=3, width=512):\n",
    "    if depth < 2:\n",
    "        depth = 2\n",
    "    model = Sequential()\n",
    "    model.add(Dense(width, input_shape=(1536,)))\n",
    "    model.add(getActivation(activation))\n",
    "    model.add(Dropout(0.2))\n",
    "    for i in range(0, depth - 2):\n",
    "        model.add(Dense(width))\n",
    "        model.add(getActivation(activation))\n",
    "        model.add(Dropout(0.2))\n",
    "       \n",
    "    model.add(Dense(2))\n",
    "    model.add(Activation('softmax'))\n",
    "\n",
    "    rms = RMSprop()\n",
    "    model.compile(loss='categorical_crossentropy', optimizer=rms)\n",
    "    #print(model.to_json())\n",
    "    writeln(\"Model with depth %d built...\" % depth)\n",
    "    return model\n",
    "\n",
    "def buildRNN(depth=3, width=512):\n",
    "    if depth < 2:\n",
    "        depth = 2\n",
    "    model = Sequential()\n",
    "    model.add(SimpleRNN(width, input_shape=(1536,)))\n",
    "    model.add(getActivation(activation))\n",
    "    model.add(Dropout(0.2))\n",
    "    for i in range(0, depth - 2):\n",
    "        model.add(SimpleRNN(width))\n",
    "        model.add(getActivation(activation))\n",
    "        model.add(Dropout(0.2))\n",
    "       \n",
    "    model.add(Dense(2))\n",
    "    model.add(Activation('softmax'))\n",
    "\n",
    "    rms = RMSprop()\n",
    "    model.compile(loss='categorical_crossentropy', optimizer=rms)\n",
    "    #print(model.to_json())\n",
    "    writeln(\"Model with depth %d built...\" % depth)\n",
    "\n",
    "def buildLSTM(depth=3, width=512):\n",
    "    if depth < 2:\n",
    "        depth = 2\n",
    "    model = Sequential()\n",
    "    model.add(LSTM(width, input_shape=(1536,)))\n",
    "    model.add(getActivation(activation))\n",
    "    model.add(Dropout(0.2))\n",
    "    for i in range(0, depth - 2):\n",
    "        model.add(LSTM(width))\n",
    "        model.add(getActivation(activation))\n",
    "        model.add(Dropout(0.2))\n",
    "       \n",
    "    model.add(Dense(2))\n",
    "    model.add(Activation('softmax'))\n",
    "\n",
    "    rms = RMSprop()\n",
    "    model.compile(loss='categorical_crossentropy', optimizer=rms)\n",
    "    #print(model.to_json())\n",
    "    writeln(\"Model with depth %d built...\" % depth)\n",
    "\n",
    "def buildGRU(depth=3, width=512):\n",
    "    if depth < 2:\n",
    "        depth = 2\n",
    "    model = Sequential()\n",
    "    model.add(GRU(width, input_shape=(1536,)))\n",
    "    model.add(getActivation(activation))\n",
    "    model.add(Dropout(0.2))\n",
    "    for i in range(0, depth - 2):\n",
    "        model.add(GRU(width))\n",
    "        model.add(getActivation(activation))\n",
    "        model.add(Dropout(0.2))\n",
    "       \n",
    "    model.add(Dense(2))\n",
    "    model.add(Activation('softmax'))\n",
    "\n",
    "    rms = RMSprop()\n",
    "    model.compile(loss='categorical_crossentropy', optimizer=rms)\n",
    "    #print(model.to_json())\n",
    "    writeln(\"Model with depth %d built...\" % depth)"
   ]
  },
  {
   "cell_type": "code",
   "execution_count": 4,
   "metadata": {
    "collapsed": false
   },
   "outputs": [],
   "source": [
    "class KerasExperiment:\n",
    "    def __init__(self, model, test_df, X_train, Y_train, X_test, Y_test, Y_test_binary, epochs=5, verbose=True):\n",
    "        self.model = model\n",
    "        self.test_df = test_df;\n",
    "        self.X_train = X_train\n",
    "        self.Y_train = Y_train\n",
    "        self.X_test = X_test\n",
    "        self.Y_test = Y_test\n",
    "        self.Y_test_binary = Y_test_binary\n",
    "        self.nb_epoch = epochs\n",
    "\n",
    "    #adds specific piece confusion matrices to results dict d\n",
    "    def add_piece_specifics(self, predicted_y):\n",
    "        #append column for predicted\n",
    "        test_df_result = self.test_df.copy()\n",
    "        test_df_result.loc[:,'predicted'] = predicted_y\n",
    "        \n",
    "        #create new row for piece results\n",
    "        d = {}\n",
    "        #calculate each piece confusion matrix\n",
    "        for p in \"pPrRnNbBqQkK\":\n",
    "            specific_piece = test_df_result[test_df_result['piece_moved'] == p]\n",
    "            cm = [confusion_matrix(specific_piece['y'], specific_piece['predicted'])]\n",
    "            #append column\n",
    "            d[p + '_cm'] = cm\n",
    "        #get white and black\n",
    "        color = test_df_result[test_df_result['piece_moved'].isin(list(\"PRNBQK\"))]\n",
    "        d[\"white_cm\"] = [confusion_matrix(color['y'], color['predicted'])]\n",
    "        color = test_df_result[test_df_result['piece_moved'].isin(list(\"prnbqk\"))]\n",
    "        d[\"black_cm\"] = [confusion_matrix(color['y'], color['predicted'])]\n",
    "        \n",
    "        return pd.DataFrame(d, columns = [a + \"_cm\" for a in \"pPrRnNbBqQkK\"] + [\"white_cm\", \"black_cm\"], index=[1]) \n",
    "    \n",
    "    def run_experiment(self):\n",
    "        self.model.fit(self.X_train, self.Y_train, nb_epoch=self.nb_epoch,\n",
    "                  show_accuracy=True, verbose=2,\n",
    "                  validation_data=(self.X_test, self.Y_test))\n",
    "        score = self.model.evaluate(self.X_test, self.Y_test,\n",
    "                               show_accuracy=True, verbose=0)\n",
    "        predicted_y = self.model.predict_classes(self.X_test, batch_size=32)\n",
    "        cm_overall = [confusion_matrix(predicted_y, self.Y_test_binary)]\n",
    "        #create results row \n",
    "        results_row = pd.DataFrame({\"training_size\" : len(self.X_train), \\\n",
    "                                    \"test_size\" : len(self.Y_test), \\\n",
    "                                      \"pct_white\" : sum(self.Y_test_binary) * 1.0 / len(self.Y_test_binary), \\\n",
    "                                      \"cm_overall\": cm_overall, \\\n",
    "                                   \"epochs\": self.nb_epoch, \\\n",
    "                                   \"network\" : self.model.to_json()}, index=[1]);\n",
    "        results_row = results_row.join(self.add_piece_specifics(predicted_y))\n",
    "        return(results_row)\n",
    "        \n",
    "    #    print(confusion_matrix(y_train, out))\n",
    "        #return pd.DataFrame({\"train_size\": self.train_df.shape[0], \n",
    "#                             \"train_white_count\" : sum([1 if a.isupper() else 0 for a in self.train_df['piece_moved']]),\n",
    "#                             \"confusion_matrix\" : [cm],\n",
    "#                             \"accuracy\": [(cm[0][0] + cm[1][1]) * 1.0 / (sum([sum(c) for c in cm]))]})"
   ]
  },
  {
   "cell_type": "code",
   "execution_count": 21,
   "metadata": {
    "collapsed": false
   },
   "outputs": [
    {
     "name": "stdout",
     "output_type": "stream",
     "text": [
      "Model with depth 3 built..."
     ]
    },
    {
     "data": {
      "image/svg+xml": [
       "<svg height=\"548pt\" viewBox=\"0.00 0.00 136.00 548.00\" width=\"136pt\" xmlns=\"http://www.w3.org/2000/svg\" xmlns:xlink=\"http://www.w3.org/1999/xlink\">\n",
       "<g class=\"graph\" id=\"graph0\" transform=\"scale(1 1) rotate(0) translate(4 544)\">\n",
       "<title>G</title>\n",
       "<polygon fill=\"white\" points=\"-4,4 -4,-544 132,-544 132,4 -4,4\" stroke=\"none\"/>\n",
       "<!-- Dense1 -->\n",
       "<g class=\"node\" id=\"node1\"><title>Dense1</title>\n",
       "<ellipse cx=\"64\" cy=\"-522\" fill=\"none\" rx=\"45.244\" ry=\"18\" stroke=\"black\"/>\n",
       "<text font-family=\"Times,serif\" font-size=\"14.00\" text-anchor=\"middle\" x=\"64\" y=\"-518.3\">Dense1</text>\n",
       "</g>\n",
       "<!-- Activation1 -->\n",
       "<g class=\"node\" id=\"node2\"><title>Activation1</title>\n",
       "<ellipse cx=\"64\" cy=\"-450\" fill=\"none\" rx=\"64.0172\" ry=\"18\" stroke=\"black\"/>\n",
       "<text font-family=\"Times,serif\" font-size=\"14.00\" text-anchor=\"middle\" x=\"64\" y=\"-446.3\">Activation1</text>\n",
       "</g>\n",
       "<!-- Dense1&#45;&gt;Activation1 -->\n",
       "<g class=\"edge\" id=\"edge1\"><title>Dense1-&gt;Activation1</title>\n",
       "<path d=\"M64,-503.697C64,-495.983 64,-486.712 64,-478.112\" fill=\"none\" stroke=\"black\"/>\n",
       "<polygon fill=\"black\" points=\"67.5001,-478.104 64,-468.104 60.5001,-478.104 67.5001,-478.104\" stroke=\"black\"/>\n",
       "</g>\n",
       "<!-- Dropout1 -->\n",
       "<g class=\"node\" id=\"node3\"><title>Dropout1</title>\n",
       "<ellipse cx=\"64\" cy=\"-378\" fill=\"none\" rx=\"54.3924\" ry=\"18\" stroke=\"black\"/>\n",
       "<text font-family=\"Times,serif\" font-size=\"14.00\" text-anchor=\"middle\" x=\"64\" y=\"-374.3\">Dropout1</text>\n",
       "</g>\n",
       "<!-- Activation1&#45;&gt;Dropout1 -->\n",
       "<g class=\"edge\" id=\"edge2\"><title>Activation1-&gt;Dropout1</title>\n",
       "<path d=\"M64,-431.697C64,-423.983 64,-414.712 64,-406.112\" fill=\"none\" stroke=\"black\"/>\n",
       "<polygon fill=\"black\" points=\"67.5001,-406.104 64,-396.104 60.5001,-406.104 67.5001,-406.104\" stroke=\"black\"/>\n",
       "</g>\n",
       "<!-- Dense2 -->\n",
       "<g class=\"node\" id=\"node4\"><title>Dense2</title>\n",
       "<ellipse cx=\"64\" cy=\"-306\" fill=\"none\" rx=\"45.244\" ry=\"18\" stroke=\"black\"/>\n",
       "<text font-family=\"Times,serif\" font-size=\"14.00\" text-anchor=\"middle\" x=\"64\" y=\"-302.3\">Dense2</text>\n",
       "</g>\n",
       "<!-- Dropout1&#45;&gt;Dense2 -->\n",
       "<g class=\"edge\" id=\"edge3\"><title>Dropout1-&gt;Dense2</title>\n",
       "<path d=\"M64,-359.697C64,-351.983 64,-342.712 64,-334.112\" fill=\"none\" stroke=\"black\"/>\n",
       "<polygon fill=\"black\" points=\"67.5001,-334.104 64,-324.104 60.5001,-334.104 67.5001,-334.104\" stroke=\"black\"/>\n",
       "</g>\n",
       "<!-- Activation2 -->\n",
       "<g class=\"node\" id=\"node5\"><title>Activation2</title>\n",
       "<ellipse cx=\"64\" cy=\"-234\" fill=\"none\" rx=\"64.0172\" ry=\"18\" stroke=\"black\"/>\n",
       "<text font-family=\"Times,serif\" font-size=\"14.00\" text-anchor=\"middle\" x=\"64\" y=\"-230.3\">Activation2</text>\n",
       "</g>\n",
       "<!-- Dense2&#45;&gt;Activation2 -->\n",
       "<g class=\"edge\" id=\"edge4\"><title>Dense2-&gt;Activation2</title>\n",
       "<path d=\"M64,-287.697C64,-279.983 64,-270.712 64,-262.112\" fill=\"none\" stroke=\"black\"/>\n",
       "<polygon fill=\"black\" points=\"67.5001,-262.104 64,-252.104 60.5001,-262.104 67.5001,-262.104\" stroke=\"black\"/>\n",
       "</g>\n",
       "<!-- Dropout2 -->\n",
       "<g class=\"node\" id=\"node6\"><title>Dropout2</title>\n",
       "<ellipse cx=\"64\" cy=\"-162\" fill=\"none\" rx=\"54.3924\" ry=\"18\" stroke=\"black\"/>\n",
       "<text font-family=\"Times,serif\" font-size=\"14.00\" text-anchor=\"middle\" x=\"64\" y=\"-158.3\">Dropout2</text>\n",
       "</g>\n",
       "<!-- Activation2&#45;&gt;Dropout2 -->\n",
       "<g class=\"edge\" id=\"edge5\"><title>Activation2-&gt;Dropout2</title>\n",
       "<path d=\"M64,-215.697C64,-207.983 64,-198.712 64,-190.112\" fill=\"none\" stroke=\"black\"/>\n",
       "<polygon fill=\"black\" points=\"67.5001,-190.104 64,-180.104 60.5001,-190.104 67.5001,-190.104\" stroke=\"black\"/>\n",
       "</g>\n",
       "<!-- Dense3 -->\n",
       "<g class=\"node\" id=\"node7\"><title>Dense3</title>\n",
       "<ellipse cx=\"64\" cy=\"-90\" fill=\"none\" rx=\"45.244\" ry=\"18\" stroke=\"black\"/>\n",
       "<text font-family=\"Times,serif\" font-size=\"14.00\" text-anchor=\"middle\" x=\"64\" y=\"-86.3\">Dense3</text>\n",
       "</g>\n",
       "<!-- Dropout2&#45;&gt;Dense3 -->\n",
       "<g class=\"edge\" id=\"edge6\"><title>Dropout2-&gt;Dense3</title>\n",
       "<path d=\"M64,-143.697C64,-135.983 64,-126.712 64,-118.112\" fill=\"none\" stroke=\"black\"/>\n",
       "<polygon fill=\"black\" points=\"67.5001,-118.104 64,-108.104 60.5001,-118.104 67.5001,-118.104\" stroke=\"black\"/>\n",
       "</g>\n",
       "<!-- Activation3 -->\n",
       "<g class=\"node\" id=\"node8\"><title>Activation3</title>\n",
       "<ellipse cx=\"64\" cy=\"-18\" fill=\"none\" rx=\"64.0172\" ry=\"18\" stroke=\"black\"/>\n",
       "<text font-family=\"Times,serif\" font-size=\"14.00\" text-anchor=\"middle\" x=\"64\" y=\"-14.3\">Activation3</text>\n",
       "</g>\n",
       "<!-- Dense3&#45;&gt;Activation3 -->\n",
       "<g class=\"edge\" id=\"edge7\"><title>Dense3-&gt;Activation3</title>\n",
       "<path d=\"M64,-71.6966C64,-63.9827 64,-54.7125 64,-46.1124\" fill=\"none\" stroke=\"black\"/>\n",
       "<polygon fill=\"black\" points=\"67.5001,-46.1043 64,-36.1043 60.5001,-46.1044 67.5001,-46.1043\" stroke=\"black\"/>\n",
       "</g>\n",
       "</g>\n",
       "</svg>"
      ],
      "text/plain": [
       "<IPython.core.display.SVG object>"
      ]
     },
     "execution_count": 21,
     "metadata": {},
     "output_type": "execute_result"
    }
   ],
   "source": [
    "from IPython.display import SVG\n",
    "from keras.utils.visualize_util import to_graph\n",
    "model = buildMLP(depth=3)\n",
    "SVG(to_graph(model).create(prog='dot', format='svg'))"
   ]
  },
  {
   "cell_type": "code",
   "execution_count": 18,
   "metadata": {
    "collapsed": false,
    "scrolled": true
   },
   "outputs": [
    {
     "name": "stdout",
     "output_type": "stream",
     "text": [
      "(3, 64, 1000, 3)\n"
     ]
    },
    {
     "ename": "Exception",
     "evalue": "Invalid input shape - Layer expects input ndim=3, was provided with input shape (None, 1536)",
     "output_type": "error",
     "traceback": [
      "\u001b[1;31m---------------------------------------------------------------------------\u001b[0m",
      "\u001b[1;31mException\u001b[0m                                 Traceback (most recent call last)",
      "\u001b[1;32m<ipython-input-18-a2f8c4eec620>\u001b[0m in \u001b[0;36m<module>\u001b[1;34m()\u001b[0m\n\u001b[0;32m      8\u001b[0m \u001b[1;32mfor\u001b[0m \u001b[1;33m(\u001b[0m\u001b[0mmlp_layers\u001b[0m\u001b[1;33m,\u001b[0m \u001b[0mmlp_width\u001b[0m\u001b[1;33m,\u001b[0m \u001b[0mtrain_size\u001b[0m\u001b[1;33m,\u001b[0m \u001b[0mepoch_selected\u001b[0m\u001b[1;33m)\u001b[0m \u001b[1;32min\u001b[0m \u001b[1;33m[\u001b[0m\u001b[1;33m(\u001b[0m\u001b[0ma\u001b[0m\u001b[1;33m,\u001b[0m\u001b[0mb\u001b[0m\u001b[1;33m,\u001b[0m\u001b[0mc\u001b[0m\u001b[1;33m,\u001b[0m\u001b[0md\u001b[0m\u001b[1;33m)\u001b[0m \u001b[1;32mfor\u001b[0m \u001b[0ma\u001b[0m \u001b[1;32min\u001b[0m \u001b[0mmlp_layers_set\u001b[0m                                           \u001b[1;32mfor\u001b[0m \u001b[0mb\u001b[0m \u001b[1;32min\u001b[0m \u001b[0mmlp_width_set\u001b[0m                                           \u001b[1;32mfor\u001b[0m \u001b[0mc\u001b[0m \u001b[1;32min\u001b[0m \u001b[0mtrain_size_set\u001b[0m                                           \u001b[1;32mfor\u001b[0m \u001b[0md\u001b[0m \u001b[1;32min\u001b[0m \u001b[0mepochs_set\u001b[0m\u001b[1;33m]\u001b[0m\u001b[1;33m:\u001b[0m\u001b[1;33m\u001b[0m\u001b[0m\n\u001b[0;32m      9\u001b[0m     \u001b[1;32mprint\u001b[0m\u001b[1;33m(\u001b[0m\u001b[1;33m(\u001b[0m\u001b[0mmlp_layers\u001b[0m\u001b[1;33m,\u001b[0m \u001b[0mmlp_width\u001b[0m\u001b[1;33m,\u001b[0m \u001b[0mtrain_size\u001b[0m\u001b[1;33m,\u001b[0m \u001b[0mepoch_selected\u001b[0m\u001b[1;33m)\u001b[0m\u001b[1;33m)\u001b[0m\u001b[1;33m\u001b[0m\u001b[0m\n\u001b[1;32m---> 10\u001b[1;33m     \u001b[0me\u001b[0m \u001b[1;33m=\u001b[0m \u001b[0mKerasExperiment\u001b[0m\u001b[1;33m(\u001b[0m\u001b[0mbuildLSTM\u001b[0m\u001b[1;33m(\u001b[0m\u001b[0mdepth\u001b[0m\u001b[1;33m=\u001b[0m\u001b[0mmlp_layers\u001b[0m\u001b[1;33m,\u001b[0m \u001b[0mwidth\u001b[0m\u001b[1;33m=\u001b[0m\u001b[0mmlp_width\u001b[0m\u001b[1;33m)\u001b[0m\u001b[1;33m,\u001b[0m \u001b[0mall_test\u001b[0m\u001b[1;33m.\u001b[0m\u001b[0miloc\u001b[0m\u001b[1;33m[\u001b[0m\u001b[1;33m:\u001b[0m\u001b[0mtest_size\u001b[0m\u001b[1;33m,\u001b[0m\u001b[1;33m:\u001b[0m\u001b[1;33m]\u001b[0m\u001b[1;33m,\u001b[0m \u001b[0mX_train\u001b[0m\u001b[1;33m[\u001b[0m\u001b[1;33m:\u001b[0m\u001b[0mtrain_size\u001b[0m\u001b[1;33m]\u001b[0m\u001b[1;33m,\u001b[0m \u001b[0mY_train\u001b[0m\u001b[1;33m[\u001b[0m\u001b[1;33m:\u001b[0m\u001b[0mtrain_size\u001b[0m\u001b[1;33m]\u001b[0m\u001b[1;33m,\u001b[0m                         \u001b[0mX_test\u001b[0m\u001b[1;33m[\u001b[0m\u001b[1;33m:\u001b[0m\u001b[0mtest_size\u001b[0m\u001b[1;33m]\u001b[0m\u001b[1;33m,\u001b[0m \u001b[0mY_test\u001b[0m\u001b[1;33m[\u001b[0m\u001b[1;33m:\u001b[0m\u001b[0mtest_size\u001b[0m\u001b[1;33m]\u001b[0m\u001b[1;33m,\u001b[0m \u001b[0mY_test_binary\u001b[0m\u001b[1;33m[\u001b[0m\u001b[1;33m:\u001b[0m\u001b[0mtest_size\u001b[0m\u001b[1;33m]\u001b[0m\u001b[1;33m,\u001b[0m \u001b[0mepochs\u001b[0m\u001b[1;33m=\u001b[0m\u001b[0mepoch_selected\u001b[0m\u001b[1;33m)\u001b[0m\u001b[1;33m\u001b[0m\u001b[0m\n\u001b[0m\u001b[0;32m     11\u001b[0m     \u001b[0me_list\u001b[0m\u001b[1;33m.\u001b[0m\u001b[0mappend\u001b[0m\u001b[1;33m(\u001b[0m\u001b[0me\u001b[0m\u001b[1;33m)\u001b[0m\u001b[1;33m\u001b[0m\u001b[0m\n",
      "\u001b[1;32m<ipython-input-15-3ef63da51e90>\u001b[0m in \u001b[0;36mbuildLSTM\u001b[1;34m(depth, width)\u001b[0m\n\u001b[0;32m     54\u001b[0m         \u001b[0mdepth\u001b[0m \u001b[1;33m=\u001b[0m \u001b[1;36m2\u001b[0m\u001b[1;33m\u001b[0m\u001b[0m\n\u001b[0;32m     55\u001b[0m     \u001b[0mmodel\u001b[0m \u001b[1;33m=\u001b[0m \u001b[0mSequential\u001b[0m\u001b[1;33m(\u001b[0m\u001b[1;33m)\u001b[0m\u001b[1;33m\u001b[0m\u001b[0m\n\u001b[1;32m---> 56\u001b[1;33m     \u001b[0mmodel\u001b[0m\u001b[1;33m.\u001b[0m\u001b[0madd\u001b[0m\u001b[1;33m(\u001b[0m\u001b[0mLSTM\u001b[0m\u001b[1;33m(\u001b[0m\u001b[0mwidth\u001b[0m\u001b[1;33m,\u001b[0m \u001b[0minput_shape\u001b[0m\u001b[1;33m=\u001b[0m\u001b[1;33m(\u001b[0m\u001b[1;36m1536\u001b[0m\u001b[1;33m,\u001b[0m\u001b[1;33m)\u001b[0m\u001b[1;33m)\u001b[0m\u001b[1;33m)\u001b[0m\u001b[1;33m\u001b[0m\u001b[0m\n\u001b[0m\u001b[0;32m     57\u001b[0m     \u001b[0mmodel\u001b[0m\u001b[1;33m.\u001b[0m\u001b[0madd\u001b[0m\u001b[1;33m(\u001b[0m\u001b[0mgetActivation\u001b[0m\u001b[1;33m(\u001b[0m\u001b[0mactivation\u001b[0m\u001b[1;33m)\u001b[0m\u001b[1;33m)\u001b[0m\u001b[1;33m\u001b[0m\u001b[0m\n\u001b[0;32m     58\u001b[0m     \u001b[0mmodel\u001b[0m\u001b[1;33m.\u001b[0m\u001b[0madd\u001b[0m\u001b[1;33m(\u001b[0m\u001b[0mDropout\u001b[0m\u001b[1;33m(\u001b[0m\u001b[1;36m0.2\u001b[0m\u001b[1;33m)\u001b[0m\u001b[1;33m)\u001b[0m\u001b[1;33m\u001b[0m\u001b[0m\n",
      "\u001b[1;32m/home/student/anaconda2/lib/python2.7/site-packages/keras/layers/recurrent.pyc\u001b[0m in \u001b[0;36m__init__\u001b[1;34m(self, output_dim, init, inner_init, forget_bias_init, activation, inner_activation, **kwargs)\u001b[0m\n\u001b[0;32m    283\u001b[0m         \u001b[0mself\u001b[0m\u001b[1;33m.\u001b[0m\u001b[0mactivation\u001b[0m \u001b[1;33m=\u001b[0m \u001b[0mactivations\u001b[0m\u001b[1;33m.\u001b[0m\u001b[0mget\u001b[0m\u001b[1;33m(\u001b[0m\u001b[0mactivation\u001b[0m\u001b[1;33m)\u001b[0m\u001b[1;33m\u001b[0m\u001b[0m\n\u001b[0;32m    284\u001b[0m         \u001b[0mself\u001b[0m\u001b[1;33m.\u001b[0m\u001b[0minner_activation\u001b[0m \u001b[1;33m=\u001b[0m \u001b[0mactivations\u001b[0m\u001b[1;33m.\u001b[0m\u001b[0mget\u001b[0m\u001b[1;33m(\u001b[0m\u001b[0minner_activation\u001b[0m\u001b[1;33m)\u001b[0m\u001b[1;33m\u001b[0m\u001b[0m\n\u001b[1;32m--> 285\u001b[1;33m         \u001b[0msuper\u001b[0m\u001b[1;33m(\u001b[0m\u001b[0mLSTM\u001b[0m\u001b[1;33m,\u001b[0m \u001b[0mself\u001b[0m\u001b[1;33m)\u001b[0m\u001b[1;33m.\u001b[0m\u001b[0m__init__\u001b[0m\u001b[1;33m(\u001b[0m\u001b[1;33m**\u001b[0m\u001b[0mkwargs\u001b[0m\u001b[1;33m)\u001b[0m\u001b[1;33m\u001b[0m\u001b[0m\n\u001b[0m\u001b[0;32m    286\u001b[0m \u001b[1;33m\u001b[0m\u001b[0m\n\u001b[0;32m    287\u001b[0m     \u001b[1;32mdef\u001b[0m \u001b[0mbuild\u001b[0m\u001b[1;33m(\u001b[0m\u001b[0mself\u001b[0m\u001b[1;33m)\u001b[0m\u001b[1;33m:\u001b[0m\u001b[1;33m\u001b[0m\u001b[0m\n",
      "\u001b[1;32m/home/student/anaconda2/lib/python2.7/site-packages/keras/layers/recurrent.pyc\u001b[0m in \u001b[0;36m__init__\u001b[1;34m(self, weights, return_sequences, go_backwards, stateful, input_dim, input_length, **kwargs)\u001b[0m\n\u001b[0;32m     23\u001b[0m         \u001b[1;32mif\u001b[0m \u001b[0mself\u001b[0m\u001b[1;33m.\u001b[0m\u001b[0minput_dim\u001b[0m\u001b[1;33m:\u001b[0m\u001b[1;33m\u001b[0m\u001b[0m\n\u001b[0;32m     24\u001b[0m             \u001b[0mkwargs\u001b[0m\u001b[1;33m[\u001b[0m\u001b[1;34m'input_shape'\u001b[0m\u001b[1;33m]\u001b[0m \u001b[1;33m=\u001b[0m \u001b[1;33m(\u001b[0m\u001b[0mself\u001b[0m\u001b[1;33m.\u001b[0m\u001b[0minput_length\u001b[0m\u001b[1;33m,\u001b[0m \u001b[0mself\u001b[0m\u001b[1;33m.\u001b[0m\u001b[0minput_dim\u001b[0m\u001b[1;33m)\u001b[0m\u001b[1;33m\u001b[0m\u001b[0m\n\u001b[1;32m---> 25\u001b[1;33m         \u001b[0msuper\u001b[0m\u001b[1;33m(\u001b[0m\u001b[0mRecurrent\u001b[0m\u001b[1;33m,\u001b[0m \u001b[0mself\u001b[0m\u001b[1;33m)\u001b[0m\u001b[1;33m.\u001b[0m\u001b[0m__init__\u001b[0m\u001b[1;33m(\u001b[0m\u001b[1;33m**\u001b[0m\u001b[0mkwargs\u001b[0m\u001b[1;33m)\u001b[0m\u001b[1;33m\u001b[0m\u001b[0m\n\u001b[0m\u001b[0;32m     26\u001b[0m \u001b[1;33m\u001b[0m\u001b[0m\n\u001b[0;32m     27\u001b[0m     \u001b[1;32mdef\u001b[0m \u001b[0mget_output_mask\u001b[0m\u001b[1;33m(\u001b[0m\u001b[0mself\u001b[0m\u001b[1;33m,\u001b[0m \u001b[0mtrain\u001b[0m\u001b[1;33m=\u001b[0m\u001b[0mFalse\u001b[0m\u001b[1;33m)\u001b[0m\u001b[1;33m:\u001b[0m\u001b[1;33m\u001b[0m\u001b[0m\n",
      "\u001b[1;32m/home/student/anaconda2/lib/python2.7/site-packages/keras/layers/core.pyc\u001b[0m in \u001b[0;36m__init__\u001b[1;34m(self, **kwargs)\u001b[0m\n\u001b[0;32m     23\u001b[0m             \u001b[1;32massert\u001b[0m \u001b[0mkwarg\u001b[0m \u001b[1;32min\u001b[0m \u001b[1;33m{\u001b[0m\u001b[1;34m'input_shape'\u001b[0m\u001b[1;33m,\u001b[0m \u001b[1;34m'trainable'\u001b[0m\u001b[1;33m}\u001b[0m\u001b[1;33m,\u001b[0m \u001b[1;34m\"Keyword argument not understood: \"\u001b[0m \u001b[1;33m+\u001b[0m \u001b[0mkwarg\u001b[0m\u001b[1;33m\u001b[0m\u001b[0m\n\u001b[0;32m     24\u001b[0m         \u001b[1;32mif\u001b[0m \u001b[1;34m'input_shape'\u001b[0m \u001b[1;32min\u001b[0m \u001b[0mkwargs\u001b[0m\u001b[1;33m:\u001b[0m\u001b[1;33m\u001b[0m\u001b[0m\n\u001b[1;32m---> 25\u001b[1;33m             \u001b[0mself\u001b[0m\u001b[1;33m.\u001b[0m\u001b[0mset_input_shape\u001b[0m\u001b[1;33m(\u001b[0m\u001b[0mkwargs\u001b[0m\u001b[1;33m[\u001b[0m\u001b[1;34m'input_shape'\u001b[0m\u001b[1;33m]\u001b[0m\u001b[1;33m)\u001b[0m\u001b[1;33m\u001b[0m\u001b[0m\n\u001b[0m\u001b[0;32m     26\u001b[0m         \u001b[1;32mif\u001b[0m \u001b[1;34m'trainable'\u001b[0m \u001b[1;32min\u001b[0m \u001b[0mkwargs\u001b[0m\u001b[1;33m:\u001b[0m\u001b[1;33m\u001b[0m\u001b[0m\n\u001b[0;32m     27\u001b[0m             \u001b[0mself\u001b[0m\u001b[1;33m.\u001b[0m\u001b[0m_trainable\u001b[0m \u001b[1;33m=\u001b[0m \u001b[0mkwargs\u001b[0m\u001b[1;33m[\u001b[0m\u001b[1;34m'trainable'\u001b[0m\u001b[1;33m]\u001b[0m\u001b[1;33m\u001b[0m\u001b[0m\n",
      "\u001b[1;32m/home/student/anaconda2/lib/python2.7/site-packages/keras/layers/core.pyc\u001b[0m in \u001b[0;36mset_input_shape\u001b[1;34m(self, input_shape)\u001b[0m\n\u001b[0;32m     85\u001b[0m             \u001b[1;32mif\u001b[0m \u001b[0mself\u001b[0m\u001b[1;33m.\u001b[0m\u001b[0minput_ndim\u001b[0m \u001b[1;33m!=\u001b[0m \u001b[0mlen\u001b[0m\u001b[1;33m(\u001b[0m\u001b[0minput_shape\u001b[0m\u001b[1;33m)\u001b[0m\u001b[1;33m:\u001b[0m\u001b[1;33m\u001b[0m\u001b[0m\n\u001b[0;32m     86\u001b[0m                 raise Exception('Invalid input shape - Layer expects input ndim=' +\n\u001b[1;32m---> 87\u001b[1;33m                                 str(self.input_ndim) + ', was provided with input shape ' + str(input_shape))\n\u001b[0m\u001b[0;32m     88\u001b[0m         \u001b[0mself\u001b[0m\u001b[1;33m.\u001b[0m\u001b[0m_input_shape\u001b[0m \u001b[1;33m=\u001b[0m \u001b[0minput_shape\u001b[0m\u001b[1;33m\u001b[0m\u001b[0m\n\u001b[0;32m     89\u001b[0m         \u001b[0mself\u001b[0m\u001b[1;33m.\u001b[0m\u001b[0minput\u001b[0m \u001b[1;33m=\u001b[0m \u001b[0mK\u001b[0m\u001b[1;33m.\u001b[0m\u001b[0mplaceholder\u001b[0m\u001b[1;33m(\u001b[0m\u001b[0mshape\u001b[0m\u001b[1;33m=\u001b[0m\u001b[0mself\u001b[0m\u001b[1;33m.\u001b[0m\u001b[0m_input_shape\u001b[0m\u001b[1;33m)\u001b[0m\u001b[1;33m\u001b[0m\u001b[0m\n",
      "\u001b[1;31mException\u001b[0m: Invalid input shape - Layer expects input ndim=3, was provided with input shape (None, 1536)"
     ]
    }
   ],
   "source": [
    "mlp_layers_set = [3]\n",
    "mlp_width_set = [64, 128, 256, 512, 1024, 2048]\n",
    "train_size_set = [1000, 10000, 100000, 5000000]\n",
    "epochs_set = [3, 5, 7]\n",
    "test_size = 10000\n",
    "\n",
    "e_list = []\n",
    "for (mlp_layers, mlp_width, train_size, epoch_selected) in [(a,b,c,d) for a in mlp_layers_set\\\n",
    "                                           for b in mlp_width_set\\\n",
    "                                           for c in train_size_set\\\n",
    "                                           for d in epochs_set]:\n",
    "    print((mlp_layers, mlp_width, train_size, epoch_selected))\n",
    "    e = KerasExperiment(buildMLP(depth=mlp_layers, width=mlp_width), all_test.iloc[:test_size,:], X_train[:train_size], Y_train[:train_size],\\\n",
    "                         X_test[:test_size], Y_test[:test_size], Y_test_binary[:test_size], epochs=epoch_selected)\n",
    "    e_list.append(e)\n",
    "    "
   ]
  },
  {
   "cell_type": "code",
   "execution_count": null,
   "metadata": {
    "collapsed": false
   },
   "outputs": [],
   "source": [
    "results_df = pd.DataFrame()\n",
    "count = 0\n",
    "for e in e_list:\n",
    "    results_df = results_df.append(e.run_experiment())\n",
    "    count += 1\n",
    "    if (count % 5 == 0):\n",
    "        pickle.dump(results_df, open(\"2015-12-11-mlpexperiments_results3.p\", 'wb'))"
   ]
  },
  {
   "cell_type": "code",
   "execution_count": 20,
   "metadata": {
    "collapsed": false
   },
   "outputs": [
    {
     "name": "stdout",
     "output_type": "stream",
     "text": [
      "Model with depth 5 built..."
     ]
    },
    {
     "data": {
      "text/plain": [
       "'{\"layers\": [{\"b_constraint\": null, \"name\": \"Dense\", \"activity_regularizer\": null, \"W_constraint\": null, \"input_shape\": [1536], \"init\": \"glorot_uniform\", \"activation\": \"linear\", \"input_dim\": null, \"b_regularizer\": null, \"W_regularizer\": null, \"output_dim\": 512}, {\"beta\": 0.1, \"activation\": \"sigmoid\", \"name\": \"Activation\", \"target\": 0}, {\"p\": 0.2, \"name\": \"Dropout\"}, {\"b_constraint\": null, \"name\": \"Dense\", \"activity_regularizer\": null, \"W_constraint\": null, \"init\": \"glorot_uniform\", \"activation\": \"linear\", \"input_dim\": null, \"b_regularizer\": null, \"W_regularizer\": null, \"output_dim\": 512}, {\"beta\": 0.1, \"activation\": \"sigmoid\", \"name\": \"Activation\", \"target\": 0}, {\"p\": 0.2, \"name\": \"Dropout\"}, {\"b_constraint\": null, \"name\": \"Dense\", \"activity_regularizer\": null, \"W_constraint\": null, \"init\": \"glorot_uniform\", \"activation\": \"linear\", \"input_dim\": null, \"b_regularizer\": null, \"W_regularizer\": null, \"output_dim\": 512}, {\"beta\": 0.1, \"activation\": \"sigmoid\", \"name\": \"Activation\", \"target\": 0}, {\"p\": 0.2, \"name\": \"Dropout\"}, {\"b_constraint\": null, \"name\": \"Dense\", \"activity_regularizer\": null, \"W_constraint\": null, \"init\": \"glorot_uniform\", \"activation\": \"linear\", \"input_dim\": null, \"b_regularizer\": null, \"W_regularizer\": null, \"output_dim\": 512}, {\"beta\": 0.1, \"activation\": \"sigmoid\", \"name\": \"Activation\", \"target\": 0}, {\"p\": 0.2, \"name\": \"Dropout\"}, {\"b_constraint\": null, \"name\": \"Dense\", \"activity_regularizer\": null, \"W_constraint\": null, \"init\": \"glorot_uniform\", \"activation\": \"linear\", \"input_dim\": null, \"b_regularizer\": null, \"W_regularizer\": null, \"output_dim\": 2}, {\"beta\": 0.1, \"activation\": \"softmax\", \"name\": \"Activation\", \"target\": 0}], \"loss\": \"categorical_crossentropy\", \"theano_mode\": null, \"name\": \"Sequential\", \"class_mode\": \"categorical\", \"optimizer\": {\"epsilon\": 1e-06, \"lr\": 0.0010000000474974513, \"name\": \"RMSprop\", \"rho\": 0.8999999761581421}}'"
      ]
     },
     "execution_count": 20,
     "metadata": {},
     "output_type": "execute_result"
    }
   ],
   "source": [
    "json_str = buildMLP(activation='sigmoid', width=5).to_json()\n",
    "json_str"
   ]
  },
  {
   "cell_type": "code",
   "execution_count": null,
   "metadata": {
    "collapsed": false
   },
   "outputs": [],
   "source": [
    "json.loads(json_str)['layers'][1]['activation']"
   ]
  },
  {
   "cell_type": "code",
   "execution_count": 23,
   "metadata": {
    "collapsed": false
   },
   "outputs": [],
   "source": [
    "#methods to decode serialized network json\n",
    "import json\n",
    "\n",
    "def get_num_layers(json_str):\n",
    "    # number of actual layers - 5 for input and output / 3 for each hidden + 2 for input and output\n",
    "    return (len(json.loads(json_str)['layers']) - 5) / 3 + 2\n",
    "\n",
    "def get_first_activation(json_str):\n",
    "    return json.loads(json_str)['layers'][1]['activation']\n",
    "\n",
    "def get_first_width(json_str):\n",
    "    return json.loads(json_str)['layers'][0]['output_dim']\n"
   ]
  },
  {
   "cell_type": "code",
   "execution_count": 24,
   "metadata": {
    "collapsed": false
   },
   "outputs": [
    {
     "data": {
      "text/plain": [
       "512"
      ]
     },
     "execution_count": 24,
     "metadata": {},
     "output_type": "execute_result"
    }
   ],
   "source": [
    "get_first_width(json_str)"
   ]
  },
  {
   "cell_type": "code",
   "execution_count": null,
   "metadata": {
    "collapsed": false
   },
   "outputs": [],
   "source": [
    "results_df.iloc[:, -14:].applymap(lambda x : (x[0][0] + x[1][1]) * 1.0 / sum([sum(a) for a in x]))"
   ]
  },
  {
   "cell_type": "code",
   "execution_count": 32,
   "metadata": {
    "collapsed": false,
    "scrolled": true
   },
   "outputs": [],
   "source": [
    "results_df.to_csv(\"2015-12-11-mlpexperiments_results1\")"
   ]
  },
  {
   "cell_type": "code",
   "execution_count": 36,
   "metadata": {
    "collapsed": false
   },
   "outputs": [],
   "source": [
    "pickle.dump( results_df, open( \"2015-12-11-mlpexperiments_results1.p\", \"wb\" ) )"
   ]
  },
  {
   "cell_type": "code",
   "execution_count": null,
   "metadata": {
    "collapsed": false
   },
   "outputs": [],
   "source": [
    "df = pickle.load( open( \"2015-12-11-mlpexperiments_results1.p\", \"rb\" ) )\n",
    "df.head()"
   ]
  },
  {
   "cell_type": "code",
   "execution_count": 38,
   "metadata": {
    "collapsed": false
   },
   "outputs": [
    {
     "data": {
      "text/plain": [
       "Index([u'cm_overall', u'epochs', u'network', u'pct_white', u'test_size',\n",
       "       u'training_size', u'p_cm', u'P_cm', u'r_cm', u'R_cm', u'n_cm', u'N_cm',\n",
       "       u'b_cm', u'B_cm', u'q_cm', u'Q_cm', u'k_cm', u'K_cm', u'white_cm',\n",
       "       u'black_cm'],\n",
       "      dtype='object')"
      ]
     },
     "execution_count": 38,
     "metadata": {},
     "output_type": "execute_result"
    }
   ],
   "source": [
    "df.columns"
   ]
  },
  {
   "cell_type": "code",
   "execution_count": null,
   "metadata": {
    "collapsed": true
   },
   "outputs": [],
   "source": []
  }
 ],
 "metadata": {
  "kernelspec": {
   "display_name": "Python 2",
   "language": "python",
   "name": "python2"
  },
  "language_info": {
   "codemirror_mode": {
    "name": "ipython",
    "version": 2
   },
   "file_extension": ".py",
   "mimetype": "text/x-python",
   "name": "python",
   "nbconvert_exporter": "python",
   "pygments_lexer": "ipython2",
   "version": "2.7.10"
  }
 },
 "nbformat": 4,
 "nbformat_minor": 0
}
