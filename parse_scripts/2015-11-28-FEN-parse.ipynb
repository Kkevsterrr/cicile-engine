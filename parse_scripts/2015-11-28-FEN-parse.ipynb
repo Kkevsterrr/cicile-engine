{
 "cells": [
  {
   "cell_type": "code",
   "execution_count": 27,
   "metadata": {
    "collapsed": false
   },
   "outputs": [],
   "source": [
    "from sunfish import *\n",
    "import random\n",
    "import pandas as pd"
   ]
  },
  {
   "cell_type": "code",
   "execution_count": 28,
   "metadata": {
    "collapsed": false
   },
   "outputs": [
    {
     "data": {
      "text/plain": [
       "[' rnbqkbnr\\n',\n",
       " ' pppp.ppp\\n',\n",
       " ' ........\\n',\n",
       " ' ....p...\\n',\n",
       " ' ....P...\\n',\n",
       " ' .....N..\\n',\n",
       " ' PPPP.PPP\\n',\n",
       " ' RNBQKB.R\\n']"
      ]
     },
     "execution_count": 28,
     "metadata": {},
     "output_type": "execute_result"
    }
   ],
   "source": [
    "\n",
    "#returns intermediate board type (used internally for convenience because it prints well)\n",
    "def fen2iboard(fen):\n",
    "    [fen_board, to_move] = fen.split(\" \")\n",
    "    #replace each number with corresponding number of spaces\n",
    "    f = lambda x: \"\".join([\".\" * int(k) if (k in \"12345678\") else k for k in x])\n",
    "    #split on /\n",
    "    # end each line with \\n and append space at beginning\n",
    "    return ([f(\" \" + s + '\\n') for s in fen_board.split(\"/\")], to_move)\n",
    "\n",
    "#returns sunfish input format from intermediate board in format (sunfish_board, to_move)\n",
    "def iboard2sunfish(iboard):\n",
    "    edge_buffer = \"         \\n\"\n",
    "    return (''.join([edge_buffer, edge_buffer, \"\".join(iboard), edge_buffer, edge_buffer[:-1]]), to_move)\n",
    "\n",
    "#converts fen to sunfish format (just chains above two commands)\n",
    "#returns:\n",
    "#(sunfish_board, to_move )\n",
    "def fen2sunfish(fen):\n",
    "    iboard, to_move = fen2iboard(fen)\n",
    "    return iboard2sunfish(iboard)\n",
    "    \n",
    "\n",
    "fen_sample = \"rnbqkbnr/pppp1ppp/8/4p3/4P3/5N2/PPPP1PPP/RNBQKB1R b\"\n",
    "iboard_sample, to_move = fen2iboard(fen_sample)\n",
    "(sunfish_board_sample, to_move) = fen2sunfish(fen_sample)\n",
    "iboard_sample"
   ]
  },
  {
   "cell_type": "code",
   "execution_count": 29,
   "metadata": {
    "collapsed": false
   },
   "outputs": [
    {
     "name": "stdout",
     "output_type": "stream",
     "text": [
      "Position(board='         \\n         \\n rnbqkbnr\\n pppp.ppp\\n ........\\n ....p...\\n ....P...\\n .....N..\\n PPPP.PPP\\n RNBQKB.R\\n         \\n         ', score=0, wc=(True, True), bc=(True, True), ep=0, kp=0)\n",
      "(76, 57)\n",
      "(76, 68)\n",
      "(76, 97)\n",
      "(76, 64)\n",
      "(76, 55)\n",
      "(81, 71)\n",
      "(81, 61)\n",
      "(82, 72)\n",
      "(82, 62)\n",
      "(83, 73)\n",
      "(83, 63)\n",
      "(84, 74)\n",
      "(84, 64)\n",
      "(87, 77)\n",
      "(87, 67)\n",
      "(88, 78)\n",
      "(88, 68)\n",
      "(92, 73)\n",
      "(92, 71)\n",
      "(94, 85)\n",
      "(95, 85)\n",
      "(96, 85)\n",
      "(96, 74)\n",
      "(96, 63)\n",
      "(96, 52)\n",
      "(96, 41)\n",
      "(98, 97)\n",
      "\n",
      "  8 ♖ ♘ ♗ ♕ ♔ ♗ ♘ ♖\n",
      "  7 ♙ ♙ ♙ ♙ · ♙ ♙ ♙\n",
      "  6 · · · · · · · ·\n",
      "  5 · · · · ♙ · · ·\n",
      "  4 · · · · ♟ · · ·\n",
      "  3 · · · · · ♞ · ·\n",
      "  2 ♟ ♟ ♟ ♟ · ♟ ♟ ♟\n",
      "  1 ♜ ♞ ♝ ♛ ♚ ♝ · ♜\n",
      "    a b c d e f g h \n",
      "\n",
      "\n"
     ]
    }
   ],
   "source": [
    "#testing fen2sunfish function to see if sunfish likes it \n",
    "pos = Position(sunfish_board_sample, 0, (True,True), (True,True), 0, 0)\n",
    "#if to_move == 'b' : pos = pos.rotate()\n",
    "print(pos)\n",
    "\n",
    "#moves generator\n",
    "# for move in pos.gen_moves():\n",
    "#     print(move)\n",
    "\n",
    "# print_pos(pos)\n",
    "#looks good"
   ]
  },
  {
   "cell_type": "code",
   "execution_count": 30,
   "metadata": {
    "collapsed": false
   },
   "outputs": [
    {
     "data": {
      "text/plain": [
       "[' rnbqkbnr\\n',\n",
       " ' pppp.ppp\\n',\n",
       " ' ........\\n',\n",
       " ' ....p...\\n',\n",
       " ' ....P...\\n',\n",
       " ' .....N..\\n',\n",
       " ' PPPP.PPP\\n',\n",
       " ' RNBQKB.R\\n']"
      ]
     },
     "execution_count": 30,
     "metadata": {},
     "output_type": "execute_result"
    }
   ],
   "source": [
    "iboard_sample"
   ]
  },
  {
   "cell_type": "code",
   "execution_count": 31,
   "metadata": {
    "collapsed": false
   },
   "outputs": [
    {
     "data": {
      "text/plain": [
       "([' rnbqkbnr\\n',\n",
       "  ' pppp.ppp\\n',\n",
       "  ' ........\\n',\n",
       "  ' ....p.N.\\n',\n",
       "  ' ....P...\\n',\n",
       "  ' ........\\n',\n",
       "  ' PPPP.PPP\\n',\n",
       "  ' RNBQKB.R\\n'],\n",
       " 'N',\n",
       " '.')"
      ]
     },
     "execution_count": 31,
     "metadata": {},
     "output_type": "execute_result"
    }
   ],
   "source": [
    "\n",
    "#make all legal moves for a given board\n",
    "#board: starting intermediate board (see output of fen2sunfish)\n",
    "#(move_start, move_end): in output format of the moves generator from sunfish\n",
    "#note that movestart/moveend are really confusing, ask for board diagram picture I took\n",
    "#returns: (new_board, piece_moved, piece_taken)\n",
    "#where new_board is the board after the move and piece moved is the letter of the piece moved\n",
    "def apply_move(board, (move_start, move_end)):\n",
    "    board_copy = [list(row) for row in board]\n",
    "    start_x, start_y = (move_start / 10 - 2, move_start - move_start / 10 * 10)\n",
    "    if (move_end is None) :\n",
    "        #disappear\n",
    "        start_piece = board[start_x][start_y]\n",
    "        end_piece =  board[start_x][start_y]\n",
    "        board_copy[start_x][start_y] = '.'\n",
    "        return ([\"\".join(row) for row in board_copy], start_piece, end_piece)\n",
    "    end_x, end_y = (move_end / 10 - 2, move_end - move_end / 10 * 10)\n",
    "    #print(start_x, start_y)\n",
    "    #print(end_x, end_y)\n",
    "    start_piece = board[start_x][start_y]\n",
    "    #add . to original spot\n",
    "    board_copy[start_x][start_y] = '.'\n",
    "    #add piece to end\n",
    "    #have to do funky stuff because strings are immutable: change to row array the nback\n",
    "    end_piece = board_copy[end_x][end_y]\n",
    "    board_copy[end_x][end_y] = start_piece\n",
    "    return ([\"\".join(row) for row in board_copy], start_piece, end_piece)\n",
    "\n",
    "#move queen h6e3\n",
    "apply_move(iboard_sample, (76,57))"
   ]
  },
  {
   "cell_type": "code",
   "execution_count": 32,
   "metadata": {
    "collapsed": false
   },
   "outputs": [
    {
     "data": {
      "text/plain": [
       "[[0, 0, 0, 0, 0, 1, 0, 0, 0, 0, 0],\n",
       " [0, 0, 0, 1, 0, 0, 0, 0, 0, 0, 0],\n",
       " [0, 0, 0, 0, 1, 0, 0, 0, 0, 0, 0],\n",
       " [0, 0, 1, 0, 0, 0, 0, 0, 0, 0, 0],\n",
       " [0, 1, 0, 0, 0, 0, 0, 0, 0, 0, 0],\n",
       " [0, 0, 0, 0, 1, 0, 0, 0, 0, 0, 0],\n",
       " [0, 0, 0, 1, 0, 0, 0, 0, 0, 0, 0],\n",
       " [0, 0, 0, 0, 0, 1, 0, 0, 0, 0, 0],\n",
       " [1, 0, 0, 0, 0, 0, 0, 0, 0, 0, 0],\n",
       " [1, 0, 0, 0, 0, 0, 0, 0, 0, 0, 0],\n",
       " [1, 0, 0, 0, 0, 0, 0, 0, 0, 0, 0],\n",
       " [1, 0, 0, 0, 0, 0, 0, 0, 0, 0, 0],\n",
       " [0, 0, 0, 0, 0, 0, 0, 0, 0, 0, 0]]"
      ]
     },
     "execution_count": 32,
     "metadata": {},
     "output_type": "execute_result"
    }
   ],
   "source": [
    "#convert intermediate board format (see above) to keras input format\n",
    "#board: see above\n",
    "#to_move: either 'b' or 'w'\n",
    "#returns: \"half\" keras format, i.e. just one board position instead of 2\n",
    "def intboard2halfkeras(iboard, to_move):\n",
    "    return [1 if iboard[i][j] == p else 0 for i in range(0,8) for j in range (1,9) for p in \"pkqnbrPKQNBR\"]\n",
    "len(intboard2halfkeras(iboard_sample, to_move))\n",
    "k = intboard2halfkeras(iboard_sample, to_move)\n",
    "[k[i:i+11] for i in range(0,148, 12)]\n"
   ]
  },
  {
   "cell_type": "markdown",
   "metadata": {},
   "source": [
    "Format: for each position, have which of the 12 pieces are there.|"
   ]
  },
  {
   "cell_type": "code",
   "execution_count": 33,
   "metadata": {
    "collapsed": false
   },
   "outputs": [
    {
     "data": {
      "text/plain": [
       "768"
      ]
     },
     "execution_count": 33,
     "metadata": {},
     "output_type": "execute_result"
    }
   ],
   "source": [
    "len(k)"
   ]
  },
  {
   "cell_type": "code",
   "execution_count": 34,
   "metadata": {
    "collapsed": false
   },
   "outputs": [
    {
     "data": {
      "text/plain": [
       "([' rnbqkbnr\\n',\n",
       "  ' pppp.ppp\\n',\n",
       "  ' ........\\n',\n",
       "  ' ....p...\\n',\n",
       "  ' ....P...\\n',\n",
       "  ' .....N..\\n',\n",
       "  ' PPPP.PPP\\n',\n",
       "  ' RNBQKBR.\\n'],\n",
       " 'R',\n",
       " '.')"
      ]
     },
     "execution_count": 34,
     "metadata": {},
     "output_type": "execute_result"
    }
   ],
   "source": [
    "# apply_move(iboard_sample, move)"
   ]
  },
  {
   "cell_type": "code",
   "execution_count": 114,
   "metadata": {
    "collapsed": false
   },
   "outputs": [],
   "source": [
    "# rotate iboard so that we can generate moves for the correct side (this has to be done for black)\n",
    "def rotate_iboard(iboard):\n",
    "    return [\" \" + row[1:9][::-1].swapcase() + \"\\n\" for row in iboard[::-1]]\n",
    "assert iboard_sample == rotate_iboard(rotate_iboard(iboard_sample))"
   ]
  },
  {
   "cell_type": "code",
   "execution_count": 143,
   "metadata": {
    "collapsed": false,
    "scrolled": true
   },
   "outputs": [
    {
     "name": "stdout",
     "output_type": "stream",
     "text": [
      "[(83, 63), (96, 41), (87, 67), (96, 52), (83, 73), (94, 85), (76, 64), (84, 74), (76, 97), (87, 77), (96, 74), (82, 62), (88, 68), (88, 78), (92, 73), (76, 68), (95, 85), (92, 71), (84, 64), (76, 55), (96, 85), (76, 57), (82, 72), (96, 63), (81, 71), (81, 61), (98, 97)]\n"
     ]
    },
    {
     "data": {
      "text/plain": [
       "(96, 63)"
      ]
     },
     "execution_count": 143,
     "metadata": {},
     "output_type": "execute_result"
    }
   ],
   "source": [
    "#legal move keras generation\n",
    "\n",
    "#returns list of legal moves, using generator from sunfish\n",
    "def get_legal_moves(iboard):\n",
    "    (sunfish_board, to_move) = iboard2sunfish(iboard)\n",
    "    pos = Position(sunfish_board, 0, (True,True), (True,True), 0, 0)\n",
    "    moves = []\n",
    "    for m in pos.gen_moves():\n",
    "        moves.append(m)\n",
    "    random.shuffle(moves)\n",
    "    return moves\n",
    "\n",
    "#given a position and move, generate keras format for pre and postmove board\n",
    "#returns: array of keras input formats, one for each legal move\n",
    "def move2keras(pre_move_iboard, move):\n",
    "    keras_half_pre = intboard2halfkeras(pre_move_iboard, to_move)\n",
    "    assert type(move) == tuple, \"move is not tuple: {}\".format(move)\n",
    "    post_move_iboard, piece_moved, piece_taken = apply_move(pre_move_iboard, move)\n",
    "    keras_half_post = intboard2halfkeras(post_move_iboard, to_move)\n",
    "    #combine, removing \"to_move\" bit from second half\n",
    "    return keras_half_pre + keras_half_post\n",
    "\n",
    "#prints keras format so that column is piece and row is board position (1 to 64, then 1 to 64 for oppoennt)\n",
    "def prettify_keras(keras_input):\n",
    "    return [[\"p k  q  n  b  r  P  K  Q  N  B  R\"]] + [keras_input[i:i+12] for i in range(0,1538, 12)]\n",
    "\n",
    "def prettify_1halfkeras(keras_input):\n",
    "    return [[\"p k  q  n  b  r  P  K  Q  N  B  R\"]] + [keras_input[i:i+12] for i in range(0,768, 12)]\n",
    "\n",
    "def prettify_2halfkeras(keras_input):\n",
    "    return [[\"p k  q  n  b  r  P  K  Q  N  B  R\"]] + [keras_input[i:i+12] for i in range(768,1538, 12)]\n",
    "\n",
    "# print(len(legal_moves))\n",
    "# print(get_legal_moves(iboard_sample))\n",
    "#print(get_random_legal_move(get_legal_moves(iboard_sample)))\n",
    "k = move2keras(iboard_sample, get_legal_moves(iboard_sample)[0])\n",
    "#prettify_keras(k)\n",
    "get_legal_moves(iboard_sample)[0]"
   ]
  },
  {
   "cell_type": "code",
   "execution_count": 48,
   "metadata": {
    "collapsed": false
   },
   "outputs": [
    {
     "name": "stdout",
     "output_type": "stream",
     "text": [
      "(31, 91)\n",
      "(96, 62)\n"
     ]
    }
   ],
   "source": [
    "#generating illegal moves\n",
    "\n",
    "# takes in intermediate board \n",
    "# returns the sunfish style piece locations as array\n",
    "def get_piece_positions(i_board):\n",
    "    #print(i_board)\n",
    "    assert len(i_board) == 8 and len(i_board[0]) == 10, \"how? {}\".format(i_board)\n",
    "    return [20 + x * 10 + y for x in range(0,8) for y in range(1,9) if i_board[x][y] in \"PKQNBRpkqnbr\"]\n",
    "\n",
    "#given a position (intermediate board) and legal moves generator (see get_legal_move_generatr, \n",
    "# generate illegal moves (generator, use next() to get next value)\n",
    "def gen_illegal_moves(i_board, legal_moves):\n",
    "    #need to convert sunfish board \n",
    "    # get all piece locations (yours and opponents)\n",
    "    start_options = get_piece_positions(i_board)\n",
    "    # randomly grab a piece\n",
    "    chosen_start = random.choice(start_options)\n",
    "    # pick from all possible move locations + disappear\n",
    "    target_options = sum([range(i, i+8) for i in range(21, 92, 10)], []) + [None]\n",
    "    chosen_target = random.choice(target_options)\n",
    "    # check if legal or not\n",
    "    if (chosen_start, chosen_target) in legal_moves:\n",
    "        #print(\"already legal!\")\n",
    "        #call again (recursively until illegal move found)\n",
    "        yield(gen_illegal_moves(i_board, legal_moves))\n",
    "    else :\n",
    "        yield((chosen_start, chosen_target))\n",
    "    #print(chosen_start, chosen_target)   \n",
    "    #check if already legal; if so, return a different one\n",
    "    # categorize (piece captured? side moved? etc.)\n",
    "#print(get_piece_positions(iboard))\n",
    "#print(pos.gen_moves())\n",
    "for i in range(0,2) :\n",
    "    print(gen_illegal_moves(iboard_sample, get_legal_moves(iboard_sample)).next())"
   ]
  },
  {
   "cell_type": "code",
   "execution_count": 38,
   "metadata": {
    "collapsed": false
   },
   "outputs": [
    {
     "name": "stdout",
     "output_type": "stream",
     "text": [
      "(94, 85), Q->.\n"
     ]
    }
   ],
   "source": [
    "#store information about the type of move\n",
    "class MoveInfo:\n",
    "    move = None;\n",
    "    #one of pkqnbrPKQNBR from board, should not be None after init\n",
    "    piece_moved = None\n",
    "    #piece captured can be None if it disappeared\n",
    "    #can be \".\" if no piece captured\n",
    "    piece_captured = None\n",
    "    \n",
    "    #move is in sunfish form, ie. (26, 36)\n",
    "    # iboard is board before move in intermediate form\n",
    "    def __init__(self, iboard, move):\n",
    "        self.move = move\n",
    "        move_start, move_end = move\n",
    "        start_x, start_y = (move_start / 10 - 2, move_start - move_start / 10 * 10)\n",
    "        self.piece_moved = iboard[start_x][start_y]\n",
    "        if (move_end is None) :\n",
    "            #disappear\n",
    "            self.piece_captured = None;\n",
    "            return\n",
    "        end_x, end_y = (move_end / 10 - 2, move_end - move_end / 10 * 10)\n",
    "        self.piece_captured = iboard[end_x][end_y]\n",
    "    \n",
    "    def is_disappear(self):\n",
    "        return piece_captured is None\n",
    "    \n",
    "    def is_capture(self):\n",
    "        return piece_captured is not None and piece_captured != \".\"\n",
    "    \n",
    "    def __str__(self):\n",
    "        return \"{}, {}->{}\".format(self.move, self.piece_moved, self.piece_captured)\n",
    "        \n",
    "print(MoveInfo(iboard_sample, get_legal_moves(iboard_sample)[2]))"
   ]
  },
  {
   "cell_type": "code",
   "execution_count": 39,
   "metadata": {
    "collapsed": true
   },
   "outputs": [],
   "source": [
    "# NUM_LEGAL = 5\n",
    "# NUM_ILLEGAL = 5\n",
    "# with open(\"../data/2015-12-01-fen_sample\") as f:\n",
    "#     content = [\" \".join(line.split(\" \")[:2]) for line in f.readlines()]"
   ]
  },
  {
   "cell_type": "code",
   "execution_count": 154,
   "metadata": {
    "collapsed": false,
    "scrolled": true
   },
   "outputs": [],
   "source": [
    "#converts list of fens to dataframe of the form:\n",
    "# 'move info': MoveInfo Object, 'board': intermediate board rep, 'x': single keras/pybrain input, \n",
    "#'y': label, 1 for legal, 0 for illegal\n",
    "#given a list of size n, output is m * (num_legal_per_board + num_illegal_per_board)\n",
    "def fen2mlinput(fen_list, num_legal_per_board=5, num_illegal_per_board=5):\n",
    "\n",
    "    df = pd.DataFrame([], columns=['move', 'piece_moved', 'piece_captured', 'preboard', 'postboard', 'x', 'y'])\n",
    "    for fen in fen_list:\n",
    "        try :\n",
    "            iboard, to_move = fen2iboard(fen)\n",
    "            #rotate if necessary\n",
    "            iboard = rotate_iboard(iboard) if to_move == 'b' else iboard\n",
    "            #generate n legal moves\n",
    "            legal_moves = get_legal_moves(iboard)\n",
    "            iboard = [a.swapcase() for a in iboard] if to_move == 'b' else iboard\n",
    "            for i in range(0, num_legal_per_board) :\n",
    "                if not (i < len(legal_moves) - 1):\n",
    "                    break\n",
    "                post_board = apply_move(iboard, legal_moves[i])\n",
    "                new_legal = move2keras(iboard, legal_moves[i]) \n",
    "                moveinfo = MoveInfo(iboard, legal_moves[i])\n",
    "                df = df.append(pd.DataFrame([[moveinfo.move, moveinfo.piece_moved, moveinfo.piece_captured, iboard, post_board, new_legal, 1]],\\\n",
    "                                            columns=['move', 'piece_moved', 'piece_captured', 'preboard', 'postboard', 'x', 'y']))\n",
    "            #generate m illegal moves\n",
    "            for i in range(0, num_illegal_per_board):\n",
    "                next_move = gen_illegal_moves(iboard, legal_moves).next()\n",
    "                if (type(next_move) is tuple): # will be none when it is out of legal moves\n",
    "                    post_board = apply_move(iboard, next_move)\n",
    "                    new_illegal = move2keras(iboard, next_move)\n",
    "                    moveinfo = MoveInfo(iboard, legal_moves[i])\n",
    "                    df = df.append(pd.DataFrame([[moveinfo.move, moveinfo.piece_moved, moveinfo.piece_captured, iboard, post_board, new_illegal, 0]],\\\n",
    "                                                columns=['move', 'piece_moved', 'piece_captured', 'preboard', 'postboard', 'x', 'y']))\n",
    "        except IndexError:\n",
    "            #print(\"index error\")\n",
    "            pass\n",
    "            #dear coding gods: forgive me\n",
    "    return df\n",
    "\n",
    "#df = fen2mlinput(content[:5])#, num_legal_per_board=5, num_illegal_per_board=5)"
   ]
  },
  {
   "cell_type": "code",
   "execution_count": 155,
   "metadata": {
    "collapsed": true
   },
   "outputs": [],
   "source": [
    "# with open(\"../data/2015-12-01-fen_sample\") as f:\n",
    "#     content = [\" \".join(line.split(\" \")[:2]) for line in f.readlines()]"
   ]
  },
  {
   "cell_type": "code",
   "execution_count": 156,
   "metadata": {
    "collapsed": false,
    "scrolled": true
   },
   "outputs": [],
   "source": [
    "#df = fen2mlinput(content[:250])"
   ]
  },
  {
   "cell_type": "code",
   "execution_count": 157,
   "metadata": {
    "collapsed": false
   },
   "outputs": [
    {
     "data": {
      "text/html": [
       "<div>\n",
       "<table border=\"1\" class=\"dataframe\">\n",
       "  <thead>\n",
       "    <tr style=\"text-align: right;\">\n",
       "      <th></th>\n",
       "      <th>move</th>\n",
       "      <th>piece_moved</th>\n",
       "      <th>piece_captured</th>\n",
       "      <th>preboard</th>\n",
       "      <th>postboard</th>\n",
       "      <th>x</th>\n",
       "      <th>y</th>\n",
       "    </tr>\n",
       "  </thead>\n",
       "  <tbody>\n",
       "    <tr>\n",
       "      <th>0</th>\n",
       "      <td>(86, 66)</td>\n",
       "      <td>p</td>\n",
       "      <td>.</td>\n",
       "      <td>[ RNBKQBNR\\n,  PPP.PPPP\\n,  ........\\n,  ...P....</td>\n",
       "      <td>([ RNBKQBNR\\n,  PPP.PPPP\\n,  ........\\n,  ...P...</td>\n",
       "      <td>[0, 0, 0, 0, 0, 0, 0, 0, 0, 0, 0, 1, 0, 0, 0, ...</td>\n",
       "      <td>1</td>\n",
       "    </tr>\n",
       "    <tr>\n",
       "      <th>0</th>\n",
       "      <td>(88, 68)</td>\n",
       "      <td>p</td>\n",
       "      <td>.</td>\n",
       "      <td>[ RNBKQBNR\\n,  PPP.PPPP\\n,  ........\\n,  ...P....</td>\n",
       "      <td>([ RNBKQBNR\\n,  PPP.PPPP\\n,  ........\\n,  ...P...</td>\n",
       "      <td>[0, 0, 0, 0, 0, 0, 0, 0, 0, 0, 0, 1, 0, 0, 0, ...</td>\n",
       "      <td>1</td>\n",
       "    </tr>\n",
       "    <tr>\n",
       "      <th>0</th>\n",
       "      <td>(86, 76)</td>\n",
       "      <td>p</td>\n",
       "      <td>.</td>\n",
       "      <td>[ RNBKQBNR\\n,  PPP.PPPP\\n,  ........\\n,  ...P....</td>\n",
       "      <td>([ RNBKQBNR\\n,  PPP.PPPP\\n,  ........\\n,  ...P...</td>\n",
       "      <td>[0, 0, 0, 0, 0, 0, 0, 0, 0, 0, 0, 1, 0, 0, 0, ...</td>\n",
       "      <td>1</td>\n",
       "    </tr>\n",
       "    <tr>\n",
       "      <th>0</th>\n",
       "      <td>(97, 78)</td>\n",
       "      <td>n</td>\n",
       "      <td>.</td>\n",
       "      <td>[ RNBKQBNR\\n,  PPP.PPPP\\n,  ........\\n,  ...P....</td>\n",
       "      <td>([ RNBKQBNR\\n,  PPP.PPPP\\n,  ........\\n,  ...P...</td>\n",
       "      <td>[0, 0, 0, 0, 0, 0, 0, 0, 0, 0, 0, 1, 0, 0, 0, ...</td>\n",
       "      <td>1</td>\n",
       "    </tr>\n",
       "    <tr>\n",
       "      <th>0</th>\n",
       "      <td>(97, 76)</td>\n",
       "      <td>n</td>\n",
       "      <td>.</td>\n",
       "      <td>[ RNBKQBNR\\n,  PPP.PPPP\\n,  ........\\n,  ...P....</td>\n",
       "      <td>([ RNBKQBNR\\n,  PPP.PPPP\\n,  ........\\n,  ...P...</td>\n",
       "      <td>[0, 0, 0, 0, 0, 0, 0, 0, 0, 0, 0, 1, 0, 0, 0, ...</td>\n",
       "      <td>1</td>\n",
       "    </tr>\n",
       "  </tbody>\n",
       "</table>\n",
       "</div>"
      ],
      "text/plain": [
       "       move piece_moved piece_captured  \\\n",
       "0  (86, 66)           p              .   \n",
       "0  (88, 68)           p              .   \n",
       "0  (86, 76)           p              .   \n",
       "0  (97, 78)           n              .   \n",
       "0  (97, 76)           n              .   \n",
       "\n",
       "                                            preboard  \\\n",
       "0  [ RNBKQBNR\\n,  PPP.PPPP\\n,  ........\\n,  ...P....   \n",
       "0  [ RNBKQBNR\\n,  PPP.PPPP\\n,  ........\\n,  ...P....   \n",
       "0  [ RNBKQBNR\\n,  PPP.PPPP\\n,  ........\\n,  ...P....   \n",
       "0  [ RNBKQBNR\\n,  PPP.PPPP\\n,  ........\\n,  ...P....   \n",
       "0  [ RNBKQBNR\\n,  PPP.PPPP\\n,  ........\\n,  ...P....   \n",
       "\n",
       "                                           postboard  \\\n",
       "0  ([ RNBKQBNR\\n,  PPP.PPPP\\n,  ........\\n,  ...P...   \n",
       "0  ([ RNBKQBNR\\n,  PPP.PPPP\\n,  ........\\n,  ...P...   \n",
       "0  ([ RNBKQBNR\\n,  PPP.PPPP\\n,  ........\\n,  ...P...   \n",
       "0  ([ RNBKQBNR\\n,  PPP.PPPP\\n,  ........\\n,  ...P...   \n",
       "0  ([ RNBKQBNR\\n,  PPP.PPPP\\n,  ........\\n,  ...P...   \n",
       "\n",
       "                                                   x  y  \n",
       "0  [0, 0, 0, 0, 0, 0, 0, 0, 0, 0, 0, 1, 0, 0, 0, ...  1  \n",
       "0  [0, 0, 0, 0, 0, 0, 0, 0, 0, 0, 0, 1, 0, 0, 0, ...  1  \n",
       "0  [0, 0, 0, 0, 0, 0, 0, 0, 0, 0, 0, 1, 0, 0, 0, ...  1  \n",
       "0  [0, 0, 0, 0, 0, 0, 0, 0, 0, 0, 0, 1, 0, 0, 0, ...  1  \n",
       "0  [0, 0, 0, 0, 0, 0, 0, 0, 0, 0, 0, 1, 0, 0, 0, ...  1  "
      ]
     },
     "execution_count": 157,
     "metadata": {},
     "output_type": "execute_result"
    }
   ],
   "source": [
    "# df.head()"
   ]
  },
  {
   "cell_type": "code",
   "execution_count": 133,
   "metadata": {
    "collapsed": false
   },
   "outputs": [
    {
     "data": {
      "text/html": [
       "<div>\n",
       "<table border=\"1\" class=\"dataframe\">\n",
       "  <thead>\n",
       "    <tr style=\"text-align: right;\">\n",
       "      <th></th>\n",
       "      <th>move_info</th>\n",
       "      <th>preboard</th>\n",
       "      <th>postboard</th>\n",
       "      <th>x</th>\n",
       "      <th>y</th>\n",
       "    </tr>\n",
       "  </thead>\n",
       "  <tbody>\n",
       "    <tr>\n",
       "      <th>0</th>\n",
       "      <td>(86, 76), p-&gt;.</td>\n",
       "      <td>[ RNBKQBNR\\n,  PPP.PPPP\\n,  ........\\n,  ...P....</td>\n",
       "      <td>([ RNBKQBNR\\n,  PPP.PPPP\\n,  ........\\n,  ...P...</td>\n",
       "      <td>[0, 0, 0, 0, 0, 0, 0, 0, 0, 0, 0, 1, 0, 0, 0, ...</td>\n",
       "      <td>1</td>\n",
       "    </tr>\n",
       "    <tr>\n",
       "      <th>0</th>\n",
       "      <td>(82, 62), p-&gt;.</td>\n",
       "      <td>[ RNBKQBNR\\n,  PPP.PPPP\\n,  ........\\n,  ...P....</td>\n",
       "      <td>([ RNBKQBNR\\n,  PPP.PPPP\\n,  ........\\n,  ...P...</td>\n",
       "      <td>[0, 0, 0, 0, 0, 0, 0, 0, 0, 0, 0, 1, 0, 0, 0, ...</td>\n",
       "      <td>1</td>\n",
       "    </tr>\n",
       "    <tr>\n",
       "      <th>0</th>\n",
       "      <td>(83, 73), p-&gt;.</td>\n",
       "      <td>[ RNBKQBNR\\n,  PPP.PPPP\\n,  ........\\n,  ...P....</td>\n",
       "      <td>([ RNBKQBNR\\n,  PPP.PPPP\\n,  ........\\n,  ...P...</td>\n",
       "      <td>[0, 0, 0, 0, 0, 0, 0, 0, 0, 0, 0, 1, 0, 0, 0, ...</td>\n",
       "      <td>1</td>\n",
       "    </tr>\n",
       "    <tr>\n",
       "      <th>0</th>\n",
       "      <td>(82, 72), p-&gt;.</td>\n",
       "      <td>[ RNBKQBNR\\n,  PPP.PPPP\\n,  ........\\n,  ...P....</td>\n",
       "      <td>([ RNBKQBNR\\n,  PPP.PPPP\\n,  ........\\n,  ...P...</td>\n",
       "      <td>[0, 0, 0, 0, 0, 0, 0, 0, 0, 0, 0, 1, 0, 0, 0, ...</td>\n",
       "      <td>1</td>\n",
       "    </tr>\n",
       "    <tr>\n",
       "      <th>0</th>\n",
       "      <td>(81, 61), p-&gt;.</td>\n",
       "      <td>[ RNBKQBNR\\n,  PPP.PPPP\\n,  ........\\n,  ...P....</td>\n",
       "      <td>([ RNBKQBNR\\n,  PPP.PPPP\\n,  ........\\n,  ...P...</td>\n",
       "      <td>[0, 0, 0, 0, 0, 0, 0, 0, 0, 0, 0, 1, 0, 0, 0, ...</td>\n",
       "      <td>1</td>\n",
       "    </tr>\n",
       "  </tbody>\n",
       "</table>\n",
       "</div>"
      ],
      "text/plain": [
       "        move_info                                           preboard  \\\n",
       "0  (86, 76), p->.  [ RNBKQBNR\\n,  PPP.PPPP\\n,  ........\\n,  ...P....   \n",
       "0  (82, 62), p->.  [ RNBKQBNR\\n,  PPP.PPPP\\n,  ........\\n,  ...P....   \n",
       "0  (83, 73), p->.  [ RNBKQBNR\\n,  PPP.PPPP\\n,  ........\\n,  ...P....   \n",
       "0  (82, 72), p->.  [ RNBKQBNR\\n,  PPP.PPPP\\n,  ........\\n,  ...P....   \n",
       "0  (81, 61), p->.  [ RNBKQBNR\\n,  PPP.PPPP\\n,  ........\\n,  ...P....   \n",
       "\n",
       "                                           postboard  \\\n",
       "0  ([ RNBKQBNR\\n,  PPP.PPPP\\n,  ........\\n,  ...P...   \n",
       "0  ([ RNBKQBNR\\n,  PPP.PPPP\\n,  ........\\n,  ...P...   \n",
       "0  ([ RNBKQBNR\\n,  PPP.PPPP\\n,  ........\\n,  ...P...   \n",
       "0  ([ RNBKQBNR\\n,  PPP.PPPP\\n,  ........\\n,  ...P...   \n",
       "0  ([ RNBKQBNR\\n,  PPP.PPPP\\n,  ........\\n,  ...P...   \n",
       "\n",
       "                                                   x  y  \n",
       "0  [0, 0, 0, 0, 0, 0, 0, 0, 0, 0, 0, 1, 0, 0, 0, ...  1  \n",
       "0  [0, 0, 0, 0, 0, 0, 0, 0, 0, 0, 0, 1, 0, 0, 0, ...  1  \n",
       "0  [0, 0, 0, 0, 0, 0, 0, 0, 0, 0, 0, 1, 0, 0, 0, ...  1  \n",
       "0  [0, 0, 0, 0, 0, 0, 0, 0, 0, 0, 0, 1, 0, 0, 0, ...  1  \n",
       "0  [0, 0, 0, 0, 0, 0, 0, 0, 0, 0, 0, 1, 0, 0, 0, ...  1  "
      ]
     },
     "execution_count": 133,
     "metadata": {},
     "output_type": "execute_result"
    }
   ],
   "source": [
    "#is_black[is_black['y'] == 1].head()"
   ]
  },
  {
   "cell_type": "code",
   "execution_count": 134,
   "metadata": {
    "collapsed": false
   },
   "outputs": [
    {
     "data": {
      "text/plain": [
       "[' RNBKQBNR\\n',\n",
       " ' PPP.PPPP\\n',\n",
       " ' ........\\n',\n",
       " ' ...P....\\n',\n",
       " ' ........\\n',\n",
       " ' ........\\n',\n",
       " ' pppppppp\\n',\n",
       " ' rnbkqbnr\\n']"
      ]
     },
     "execution_count": 134,
     "metadata": {},
     "output_type": "execute_result"
    }
   ],
   "source": [
    "#iboard_black = is_black.iloc[0,1]\n",
    "#iboard_black"
   ]
  },
  {
   "cell_type": "code",
   "execution_count": 135,
   "metadata": {
    "collapsed": false
   },
   "outputs": [
    {
     "data": {
      "text/plain": [
       "([' RNBKQBNR\\n',\n",
       "  ' PPP.PPPP\\n',\n",
       "  ' ........\\n',\n",
       "  ' ...P....\\n',\n",
       "  ' ........\\n',\n",
       "  ' .....p..\\n',\n",
       "  ' ppppp.pp\\n',\n",
       "  ' rnbkqbnr\\n'],\n",
       " 'p',\n",
       " '.')"
      ]
     },
     "execution_count": 135,
     "metadata": {},
     "output_type": "execute_result"
    }
   ],
   "source": [
    "#is_black.iloc[0,2]"
   ]
  }
 ],
 "metadata": {
  "kernelspec": {
   "display_name": "Python 2",
   "language": "python",
   "name": "python2"
  },
  "language_info": {
   "codemirror_mode": {
    "name": "ipython",
    "version": 2
   },
   "file_extension": ".py",
   "mimetype": "text/x-python",
   "name": "python",
   "nbconvert_exporter": "python",
   "pygments_lexer": "ipython2",
   "version": "2.7.10"
  }
 },
 "nbformat": 4,
 "nbformat_minor": 0
}
