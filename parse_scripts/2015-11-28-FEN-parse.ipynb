{
 "cells": [
  {
   "cell_type": "code",
   "execution_count": 3,
   "metadata": {
    "collapsed": true
   },
   "outputs": [],
   "source": [
    "from sunfish import *\n",
    "import random"
   ]
  },
  {
   "cell_type": "code",
   "execution_count": 5,
   "metadata": {
    "collapsed": false
   },
   "outputs": [
    {
     "data": {
      "text/plain": [
       "[' rnbqkbnr\\n',\n",
       " ' pppp.ppp\\n',\n",
       " ' ........\\n',\n",
       " ' ....p...\\n',\n",
       " ' ....P...\\n',\n",
       " ' .....N..\\n',\n",
       " ' PPPP.PPP\\n',\n",
       " ' RNBQKB.R\\n']"
      ]
     },
     "execution_count": 5,
     "metadata": {},
     "output_type": "execute_result"
    }
   ],
   "source": [
    "\n",
    "#returns intermediate board type (used internally for convenience because it prints well)\n",
    "def fen2iboard(fen):\n",
    "    [fen_board, to_move] = fen.split(\" \")\n",
    "    #replace each number with corresponding number of spaces\n",
    "    f = lambda x: \"\".join([\".\" * int(k) if (k in \"12345678\") else k for k in x])\n",
    "    #split on /\n",
    "    # end each line with \\n and append space at beginning\n",
    "    return ([f(\" \" + s + '\\n') for s in fen_board.split(\"/\")], to_move)\n",
    "\n",
    "#returns sunfish input format from intermediate board in format (sunfish_board, to_move)\n",
    "def iboard2sunfish(iboard):\n",
    "    edge_buffer = \"         \\n\"\n",
    "    return (''.join([edge_buffer, edge_buffer, \"\".join(iboard), edge_buffer, edge_buffer[:-1]]), to_move)\n",
    "\n",
    "#converts fen to sunfish format (just chains above two commands)\n",
    "#returns:\n",
    "#(sunfish_board, to_move )\n",
    "def fen2sunfish(fen):\n",
    "    iboard, to_move = fen2iboard(fen)\n",
    "    return iboard2sunfish(iboard)\n",
    "    \n",
    "\n",
    "fen_sample = \"rnbqkbnr/pppp1ppp/8/4p3/4P3/5N2/PPPP1PPP/RNBQKB1R b\"\n",
    "iboard_sample, to_move = fen2iboard(fen_sample)\n",
    "(sunfish_board_sample, to_move) = fen2sunfish(fen_sample)\n",
    "iboard_sample"
   ]
  },
  {
   "cell_type": "code",
   "execution_count": 6,
   "metadata": {
    "collapsed": false
   },
   "outputs": [
    {
     "name": "stdout",
     "output_type": "stream",
     "text": [
      "Position(board='         \\n         \\n rnbqkbnr\\n pppp.ppp\\n ........\\n ....p...\\n ....P...\\n .....N..\\n PPPP.PPP\\n RNBQKB.R\\n         \\n         ', score=0, wc=(True, True), bc=(True, True), ep=0, kp=0)\n",
      "(76, 57)\n",
      "(76, 68)\n",
      "(76, 97)\n",
      "(76, 64)\n",
      "(76, 55)\n",
      "(81, 71)\n",
      "(81, 61)\n",
      "(82, 72)\n",
      "(82, 62)\n",
      "(83, 73)\n",
      "(83, 63)\n",
      "(84, 74)\n",
      "(84, 64)\n",
      "(87, 77)\n",
      "(87, 67)\n",
      "(88, 78)\n",
      "(88, 68)\n",
      "(92, 73)\n",
      "(92, 71)\n",
      "(94, 85)\n",
      "(95, 85)\n",
      "(96, 85)\n",
      "(96, 74)\n",
      "(96, 63)\n",
      "(96, 52)\n",
      "(96, 41)\n",
      "(98, 97)\n",
      "\n",
      "  8 ♖ ♘ ♗ ♕ ♔ ♗ ♘ ♖\n",
      "  7 ♙ ♙ ♙ ♙ · ♙ ♙ ♙\n",
      "  6 · · · · · · · ·\n",
      "  5 · · · · ♙ · · ·\n",
      "  4 · · · · ♟ · · ·\n",
      "  3 · · · · · ♞ · ·\n",
      "  2 ♟ ♟ ♟ ♟ · ♟ ♟ ♟\n",
      "  1 ♜ ♞ ♝ ♛ ♚ ♝ · ♜\n",
      "    a b c d e f g h \n",
      "\n",
      "\n"
     ]
    }
   ],
   "source": [
    "#testing fen2sunfish function to see if sunfish likes it \n",
    "pos = Position(sunfish_board_sample, 0, (True,True), (True,True), 0, 0)\n",
    "#if to_move == 'b' : pos = pos.rotate()\n",
    "print(pos)\n",
    "\n",
    "#moves generator\n",
    "for move in pos.gen_moves():\n",
    "    print(move)\n",
    "\n",
    "print_pos(pos)\n",
    "#looks good"
   ]
  },
  {
   "cell_type": "code",
   "execution_count": 7,
   "metadata": {
    "collapsed": false
   },
   "outputs": [
    {
     "data": {
      "text/plain": [
       "[' rnbqkbnr\\n',\n",
       " ' pppp.ppp\\n',\n",
       " ' ........\\n',\n",
       " ' ....p...\\n',\n",
       " ' ....P...\\n',\n",
       " ' .....N..\\n',\n",
       " ' PPPP.PPP\\n',\n",
       " ' RNBQKB.R\\n']"
      ]
     },
     "execution_count": 7,
     "metadata": {},
     "output_type": "execute_result"
    }
   ],
   "source": [
    "iboard_sample"
   ]
  },
  {
   "cell_type": "code",
   "execution_count": 8,
   "metadata": {
    "collapsed": false
   },
   "outputs": [
    {
     "data": {
      "text/plain": [
       "([' rnbqkbnr\\n',\n",
       "  ' pppp.ppp\\n',\n",
       "  ' ........\\n',\n",
       "  ' ....p.N.\\n',\n",
       "  ' ....P...\\n',\n",
       "  ' ........\\n',\n",
       "  ' PPPP.PPP\\n',\n",
       "  ' RNBQKB.R\\n'],\n",
       " 'N',\n",
       " '.')"
      ]
     },
     "execution_count": 8,
     "metadata": {},
     "output_type": "execute_result"
    }
   ],
   "source": [
    "\n",
    "#make all legal moves for a given board\n",
    "#board: starting intermediate board (see output of fen2sunfish)\n",
    "#(move_start, move_end): in output format of the moves generator from sunfish\n",
    "#note that movestart/moveend are really confusing, ask for board diagram picture I took\n",
    "#returns: (new_board, piece_moved, piece_taken)\n",
    "#where new_board is the board after the move and piece moved is the letter of the piece moved\n",
    "def apply_move(board, (move_start, move_end)):\n",
    "    board_copy = [list(row) for row in board]\n",
    "    start_x, start_y = (move_start / 10 - 2, move_start - move_start / 10 * 10)\n",
    "    if (move_end is None) :\n",
    "        #disappear\n",
    "        start_piece = board[start_x][start_y]\n",
    "        end_piece =  board[start_x][start_y]\n",
    "        board_copy[start_x][start_y] = '.'\n",
    "        return ([\"\".join(row) for row in board_copy], start_piece, end_piece)\n",
    "    end_x, end_y = (move_end / 10 - 2, move_end - move_end / 10 * 10)\n",
    "    #print(start_x, start_y)\n",
    "    #print(end_x, end_y)\n",
    "    start_piece = board[start_x][start_y]\n",
    "    #add . to original spot\n",
    "    board_copy[start_x][start_y] = '.'\n",
    "    #add piece to end\n",
    "    #have to do funky stuff because strings are immutable: change to row array the nback\n",
    "    end_piece = board_copy[end_x][end_y]\n",
    "    board_copy[end_x][end_y] = start_piece\n",
    "    return ([\"\".join(row) for row in board_copy], start_piece, end_piece)\n",
    "\n",
    "#move queen h6e3\n",
    "apply_move(iboard_sample, (76,57))"
   ]
  },
  {
   "cell_type": "code",
   "execution_count": 9,
   "metadata": {
    "collapsed": false
   },
   "outputs": [
    {
     "data": {
      "text/plain": [
       "[[0, 0, 0, 0, 0, 1, 0, 0, 0, 0, 0],\n",
       " [0, 0, 0, 1, 0, 0, 0, 0, 0, 0, 0],\n",
       " [0, 0, 0, 0, 1, 0, 0, 0, 0, 0, 0],\n",
       " [0, 0, 1, 0, 0, 0, 0, 0, 0, 0, 0],\n",
       " [0, 1, 0, 0, 0, 0, 0, 0, 0, 0, 0],\n",
       " [0, 0, 0, 0, 1, 0, 0, 0, 0, 0, 0],\n",
       " [0, 0, 0, 1, 0, 0, 0, 0, 0, 0, 0],\n",
       " [0, 0, 0, 0, 0, 1, 0, 0, 0, 0, 0],\n",
       " [1, 0, 0, 0, 0, 0, 0, 0, 0, 0, 0],\n",
       " [1, 0, 0, 0, 0, 0, 0, 0, 0, 0, 0],\n",
       " [1, 0, 0, 0, 0, 0, 0, 0, 0, 0, 0],\n",
       " [1, 0, 0, 0, 0, 0, 0, 0, 0, 0, 0],\n",
       " [0, 0, 0, 0, 0, 0, 0, 0, 0, 0, 0]]"
      ]
     },
     "execution_count": 9,
     "metadata": {},
     "output_type": "execute_result"
    }
   ],
   "source": [
    "#convert intermediate board format (see above) to keras input format\n",
    "#board: see above\n",
    "#to_move: either 'b' or 'w'\n",
    "#returns: \"half\" keras format, i.e. just one board position instead of 2\n",
    "def intboard2halfkeras(iboard, to_move):\n",
    "    return [1 if iboard[i][j] == p else 0 for i in range(0,8) for j in range (1,9) for p in \"pkqnbrPKQNBR\"]\n",
    "len(intboard2halfkeras(iboard_sample, to_move))\n",
    "k = intboard2halfkeras(iboard_sample, to_move)\n",
    "[k[i:i+11] for i in range(0,148, 12)]\n"
   ]
  },
  {
   "cell_type": "markdown",
   "metadata": {},
   "source": [
    "Format: for each position, have which of the 12 pieces are there.|"
   ]
  },
  {
   "cell_type": "code",
   "execution_count": 10,
   "metadata": {
    "collapsed": false
   },
   "outputs": [
    {
     "data": {
      "text/plain": [
       "768"
      ]
     },
     "execution_count": 10,
     "metadata": {},
     "output_type": "execute_result"
    }
   ],
   "source": [
    "len(k)"
   ]
  },
  {
   "cell_type": "code",
   "execution_count": 11,
   "metadata": {
    "collapsed": false
   },
   "outputs": [
    {
     "data": {
      "text/plain": [
       "([' rnbqkbnr\\n',\n",
       "  ' pppp.ppp\\n',\n",
       "  ' ........\\n',\n",
       "  ' ....p...\\n',\n",
       "  ' ....P...\\n',\n",
       "  ' .....N..\\n',\n",
       "  ' PPPP.PPP\\n',\n",
       "  ' RNBQKBR.\\n'],\n",
       " 'R',\n",
       " '.')"
      ]
     },
     "execution_count": 11,
     "metadata": {},
     "output_type": "execute_result"
    }
   ],
   "source": [
    "apply_move(iboard_sample, move)"
   ]
  },
  {
   "cell_type": "code",
   "execution_count": 12,
   "metadata": {
    "collapsed": true
   },
   "outputs": [],
   "source": [
    "#store information about the type of move\n",
    "class move_info:\n",
    "    is_own_piece = False\n",
    "    \n",
    "    def __init__(self, is_own_piece):\n",
    "        self.is_own_piece = is_own_piece"
   ]
  },
  {
   "cell_type": "code",
   "execution_count": 13,
   "metadata": {
    "collapsed": true
   },
   "outputs": [],
   "source": [
    "# rotate iboard so that we can generate moves for the correct side (this has to be done for black)\n",
    "def rotate_iboard(iboard):\n",
    "    return [\" \" + row[1:9][::-1] + \"\\n\" for row in iboard_sample[::-1]]"
   ]
  },
  {
   "cell_type": "code",
   "execution_count": 21,
   "metadata": {
    "collapsed": false,
    "scrolled": true
   },
   "outputs": [],
   "source": [
    "#legal move keras generation\n",
    "\n",
    "#generator to get a legal move in sunfish format (just wraps sunfish)\n",
    "#NOTE: always generates moves for side that it is facing! i.e. if black to move, must be rotated\n",
    "def get_legal_move_generator(iboard):\n",
    "    (sunfish_board, to_move) = iboard2sunfish(iboard)\n",
    "    pos = Position(sunfish_board, 0, (True,True), (True,True), 0, 0) \n",
    "    return pos.gen_moves()\n",
    "\n",
    "\n",
    "#given a position and move, generate keras format for pre and postmove board\n",
    "#returns: array of keras input formats, one for each legal move\n",
    "def move2keras(pre_move_iboard, move):\n",
    "    keras_half_pre = intboard2halfkeras(pre_move_iboard, to_move)\n",
    "    assert type(move) == tuple, \"move is not tuple: {}\".format(move)\n",
    "    post_move_iboard, piece_moved, piece_taken = apply_move(pre_move_iboard, move)\n",
    "    keras_half_post = intboard2halfkeras(post_move_iboard, to_move)\n",
    "    #combine, removing \"to_move\" bit from second half\n",
    "    return keras_half_pre + keras_half_post\n",
    "\n",
    "#prints keras format so that column is piece and row is board position (1 to 64, then 1 to 64 for oppoennt)\n",
    "def prettify_keras(keras_input):\n",
    "    return [[\"p k  q  n  b  r  P  K  Q  N  B  R\"]] + [keras_input[i:i+12] for i in range(0,1538, 12)]\n",
    "\n",
    "def prettify_kerasv2(keras_input):\n",
    "    return [[\"p k  q  n  b  r  P  K  Q  N  B  R\"]] + [keras_input[i:i+12] for i in range(0,1538, 12)]\n",
    "\n",
    "# print(len(legal_moves))\n",
    "# print(legal_moves[:5])\n",
    "k = move2keras(iboard_sample, get_legal_move_generator(iboard_sample).next())\n",
    "#prettify_keras(k)"
   ]
  },
  {
   "cell_type": "code",
   "execution_count": 22,
   "metadata": {
    "collapsed": false
   },
   "outputs": [
    {
     "data": {
      "text/plain": [
       "True"
      ]
     },
     "execution_count": 22,
     "metadata": {},
     "output_type": "execute_result"
    }
   ],
   "source": [
    "(76, 57) in get_legal_move_generator(iboard_sample)"
   ]
  },
  {
   "cell_type": "code",
   "execution_count": 25,
   "metadata": {
    "collapsed": false
   },
   "outputs": [
    {
     "name": "stdout",
     "output_type": "stream",
     "text": [
      "[21, 23, 24, 25, 26, 27, 28, 31, 32, 33, 35, 36, 37, 38, 43, 54, 64, 81, 82, 83, 85, 86, 87, 88, 91, 92, 93, 94, 95, 96, 97, 98]\n",
      "(28, 43)\n",
      "(24, 65)\n"
     ]
    }
   ],
   "source": [
    "#generating illegal moves\n",
    "\n",
    "# takes in intermediate board \n",
    "# returns the sunfish style piece locations as array\n",
    "def get_piece_positions(i_board):\n",
    "    #print(i_board)\n",
    "    assert len(i_board) == 8 and len(i_board[0]) == 10, \"how? {}\".format(i_board)\n",
    "    return [20 + x * 10 + y for x in range(0,8) for y in range(1,9) if i_board[x][y] in \"PKQNBRpkqnbr\"]\n",
    "\n",
    "#given a position (intermediate board) and legal moves generator (see get_legal_move_generatr, \n",
    "# generate illegal moves (generator, use next() to get next value)\n",
    "def gen_illegal_moves(i_board, legal_move_generator):\n",
    "    #need to convert sunfish board \n",
    "    # get all piece locations (yours and opponents)\n",
    "    start_options = get_piece_positions(i_board)\n",
    "    # randomly grab a piece\n",
    "    chosen_start = random.choice(start_options)\n",
    "    # pick from all possible move locations + disappear\n",
    "    target_options = sum([range(i, i+8) for i in range(21, 92, 10)], []) + [None]\n",
    "    chosen_target = random.choice(target_options)\n",
    "    # check if legal or not\n",
    "    if (chosen_start, chosen_target) in legal_move_generator:\n",
    "        #print(\"already legal!\")\n",
    "        #call again (recursively until illegal move found)\n",
    "        yield(gen_illegal_moves(i_board, legal_move_generator))\n",
    "    else :\n",
    "        yield((chosen_start, chosen_target))\n",
    "    #print(chosen_start, chosen_target)   \n",
    "    #check if already legal; if so, return a different one\n",
    "    # categorize (piece captured? side moved? etc.)\n",
    "print(get_piece_positions(iboard))\n",
    "#print(pos.gen_moves())\n",
    "for i in range(0,2) :\n",
    "    print(gen_illegal_moves(iboard, get_legal_move_generator(iboard_sample)).next())"
   ]
  },
  {
   "cell_type": "code",
   "execution_count": 84,
   "metadata": {
    "collapsed": true
   },
   "outputs": [],
   "source": [
    "NUM_LEGAL = 5\n",
    "NUM_ILLEGAL = 5\n",
    "with open(\"../data/2015-12-01-fen_sample\") as f:\n",
    "    content = [\" \".join(line.split(\" \")[:2]) for line in f.readlines()]"
   ]
  },
  {
   "cell_type": "code",
   "execution_count": 85,
   "metadata": {
    "collapsed": false,
    "scrolled": true
   },
   "outputs": [],
   "source": [
    "legal = []\n",
    "illegal = []\n",
    "for fen in content[:5000]:\n",
    "    iboard, to_move = fen2iboard(fen)\n",
    "    #rotate if necessary\n",
    "    iboard = rotate_iboard(iboard) if to_move == 'b' else iboard\n",
    "    #generate n legal moves\n",
    "    try :\n",
    "        legal += [move2keras(iboard, get_legal_move_generator(iboard).next()) for i in range(0, NUM_LEGAL)]\n",
    "    except StopIteration:\n",
    "        pass\n",
    "    #generate m illegal moves\n",
    "    for i in range(0, NUM_ILLEGAL):\n",
    "        next_move = gen_illegal_moves(iboard, get_legal_move_generator(iboard)).next()\n",
    "        if (type(next_move) == tuple):\n",
    "            illegal.append(move2keras(iboard, next_move))\n",
    "\n",
    "#prettify_keras(illegal[4])\n"
   ]
  },
  {
   "cell_type": "code",
   "execution_count": 155,
   "metadata": {
    "collapsed": false
   },
   "outputs": [],
   "source": [
    "legal_train_sample = random.sample(legal, 1000)\n",
    "legal_test_sample = random.sample(legal, 1000)\n",
    "illegal_train_sample = random.sample(illegal, 1000)\n",
    "illegal_test_sample = random.sample(illegal, 1000)\n",
    "X_train = (legal_train_sample + illegal_train_sample)\n",
    "y_train = [[1] for i in range(0,len(legal_train_sample))] + [[0] for i in range(0,len(illegal_train_sample))]\n",
    "X_test = legal_test_sample + illegal_test_sample\n",
    "y_test = [[1] for i in range(0,len(legal_test_sample))] + [[0] for i in range(0,len(illegal_test_sample))]\n",
    "assert len(X_train) == len(X_test)"
   ]
  },
  {
   "cell_type": "code",
   "execution_count": 160,
   "metadata": {
    "collapsed": false
   },
   "outputs": [
    {
     "data": {
      "text/plain": [
       "1536"
      ]
     },
     "execution_count": 160,
     "metadata": {},
     "output_type": "execute_result"
    }
   ],
   "source": [
    "len(X_test[0])"
   ]
  },
  {
   "cell_type": "code",
   "execution_count": 187,
   "metadata": {
    "collapsed": false
   },
   "outputs": [
    {
     "name": "stdout",
     "output_type": "stream",
     "text": [
      "starting\n",
      "starting\n",
      "starting\n",
      "[[1]\n",
      " [1]\n",
      " [1]\n",
      " [1]\n",
      " [1]\n",
      " [1]\n",
      " [1]\n",
      " [1]\n",
      " [1]\n",
      " [1]\n",
      " [1]\n",
      " [1]\n",
      " [1]\n",
      " [1]\n",
      " [1]\n",
      " [1]\n",
      " [1]\n",
      " [1]\n",
      " [1]\n",
      " [1]]\n",
      "[[0 1]\n",
      " [0 1]\n",
      " [0 1]\n",
      " [0 1]\n",
      " [0 1]\n",
      " [0 1]\n",
      " [0 1]\n",
      " [0 1]\n",
      " [0 1]\n",
      " [0 1]\n",
      " [0 1]\n",
      " [0 1]\n",
      " [0 1]\n",
      " [0 1]\n",
      " [0 1]\n",
      " [0 1]\n",
      " [0 1]\n",
      " [0 1]\n",
      " [0 1]\n",
      " [0 1]]\n",
      "[1 1 1 1 1 1 1 1 1 1 1 1 1 1 1 1 1 1 1 1]\n"
     ]
    }
   ],
   "source": [
    "from pybrain.datasets import ClassificationDataSet\n",
    "from pybrain.supervised.trainers import BackpropTrainer\n",
    "from pybrain.tools.shortcuts import buildNetwork\n",
    "from pybrain.structure.modules import TanhLayer\n",
    "print(\"starting\")\n",
    "# build dataset\n",
    "train_ds = ClassificationDataSet(1536, nb_classes=2, class_labels=[\"Illegal, Legal\"])\n",
    "for i in range(0,20):\n",
    "    train_ds.addSample(X_train[i], y_train[i])\n",
    "print(\"starting\")\n",
    "test_ds = ClassificationDataSet(1536, nb_classes=2, class_labels=[\"Illegal, Legal\"])\n",
    "for i in range(0,20):\n",
    "    test_ds.addSample(X_test[i], y_test[i])\n",
    "print(\"starting\")\n",
    "print(train_ds.getField('target'))\n",
    "train_ds._convertToOneOfMany(bounds=[0, 1])\n",
    "print(train_ds.getField('target'))\n",
    "\n",
    "net     = buildNetwork(1536, 768, 2, bias=True, hiddenclass=TanhLayer)\n",
    "trainer = BackpropTrainer(net,  train_ds)\n",
    "\n",
    "trainer.trainEpochs( 10 )\n",
    "out = net.activateOnDataset(train_ds)\n",
    "out = out.argmax(axis=1)  # the highest output activation gives the class\n",
    "#out = out.reshape()\n",
    "print(out)"
   ]
  },
  {
   "cell_type": "code",
   "execution_count": null,
   "metadata": {
    "collapsed": true
   },
   "outputs": [],
   "source": []
  }
 ],
 "metadata": {
  "kernelspec": {
   "display_name": "Python 2",
   "language": "python",
   "name": "python2"
  },
  "language_info": {
   "codemirror_mode": {
    "name": "ipython",
    "version": 2
   },
   "file_extension": ".py",
   "mimetype": "text/x-python",
   "name": "python",
   "nbconvert_exporter": "python",
   "pygments_lexer": "ipython2",
   "version": "2.7.10"
  }
 },
 "nbformat": 4,
 "nbformat_minor": 0
}
