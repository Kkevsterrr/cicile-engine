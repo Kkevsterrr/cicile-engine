{
 "cells": [
  {
   "cell_type": "code",
   "execution_count": 3,
   "metadata": {
    "collapsed": true
   },
   "outputs": [],
   "source": [
    "from sunfish import *\n",
    "import random"
   ]
  },
  {
   "cell_type": "code",
   "execution_count": 5,
   "metadata": {
    "collapsed": false
   },
   "outputs": [
    {
     "data": {
      "text/plain": [
       "[' rnbqkbnr\\n',\n",
       " ' pppp.ppp\\n',\n",
       " ' ........\\n',\n",
       " ' ....p...\\n',\n",
       " ' ....P...\\n',\n",
       " ' .....N..\\n',\n",
       " ' PPPP.PPP\\n',\n",
       " ' RNBQKB.R\\n']"
      ]
     },
     "execution_count": 5,
     "metadata": {},
     "output_type": "execute_result"
    }
   ],
   "source": [
    "\n",
    "#returns intermediate board type (used internally for convenience because it prints well)\n",
    "def fen2iboard(fen):\n",
    "    [fen_board, to_move] = fen.split(\" \")\n",
    "    #replace each number with corresponding number of spaces\n",
    "    f = lambda x: \"\".join([\".\" * int(k) if (k in \"12345678\") else k for k in x])\n",
    "    #split on /\n",
    "    # end each line with \\n and append space at beginning\n",
    "    return ([f(\" \" + s + '\\n') for s in fen_board.split(\"/\")], to_move)\n",
    "\n",
    "#returns sunfish input format from intermediate board in format (sunfish_board, to_move)\n",
    "def iboard2sunfish(iboard):\n",
    "    edge_buffer = \"         \\n\"\n",
    "    return (''.join([edge_buffer, edge_buffer, \"\".join(iboard), edge_buffer, edge_buffer[:-1]]), to_move)\n",
    "\n",
    "#converts fen to sunfish format (just chains above two commands)\n",
    "#returns:\n",
    "#(sunfish_board, to_move )\n",
    "def fen2sunfish(fen):\n",
    "    iboard, to_move = fen2iboard(fen)\n",
    "    return iboard2sunfish(iboard)\n",
    "    \n",
    "\n",
    "fen_sample = \"rnbqkbnr/pppp1ppp/8/4p3/4P3/5N2/PPPP1PPP/RNBQKB1R b\"\n",
    "iboard_sample, to_move = fen2iboard(fen_sample)\n",
    "(sunfish_board_sample, to_move) = fen2sunfish(fen_sample)\n",
    "iboard_sample"
   ]
  },
  {
   "cell_type": "code",
   "execution_count": 6,
   "metadata": {
    "collapsed": false
   },
   "outputs": [
    {
     "name": "stdout",
     "output_type": "stream",
     "text": [
      "Position(board='         \\n         \\n rnbqkbnr\\n pppp.ppp\\n ........\\n ....p...\\n ....P...\\n .....N..\\n PPPP.PPP\\n RNBQKB.R\\n         \\n         ', score=0, wc=(True, True), bc=(True, True), ep=0, kp=0)\n",
      "(76, 57)\n",
      "(76, 68)\n",
      "(76, 97)\n",
      "(76, 64)\n",
      "(76, 55)\n",
      "(81, 71)\n",
      "(81, 61)\n",
      "(82, 72)\n",
      "(82, 62)\n",
      "(83, 73)\n",
      "(83, 63)\n",
      "(84, 74)\n",
      "(84, 64)\n",
      "(87, 77)\n",
      "(87, 67)\n",
      "(88, 78)\n",
      "(88, 68)\n",
      "(92, 73)\n",
      "(92, 71)\n",
      "(94, 85)\n",
      "(95, 85)\n",
      "(96, 85)\n",
      "(96, 74)\n",
      "(96, 63)\n",
      "(96, 52)\n",
      "(96, 41)\n",
      "(98, 97)\n",
      "\n",
      "  8 ♖ ♘ ♗ ♕ ♔ ♗ ♘ ♖\n",
      "  7 ♙ ♙ ♙ ♙ · ♙ ♙ ♙\n",
      "  6 · · · · · · · ·\n",
      "  5 · · · · ♙ · · ·\n",
      "  4 · · · · ♟ · · ·\n",
      "  3 · · · · · ♞ · ·\n",
      "  2 ♟ ♟ ♟ ♟ · ♟ ♟ ♟\n",
      "  1 ♜ ♞ ♝ ♛ ♚ ♝ · ♜\n",
      "    a b c d e f g h \n",
      "\n",
      "\n"
     ]
    }
   ],
   "source": [
    "#testing fen2sunfish function to see if sunfish likes it \n",
    "pos = Position(sunfish_board_sample, 0, (True,True), (True,True), 0, 0)\n",
    "#if to_move == 'b' : pos = pos.rotate()\n",
    "print(pos)\n",
    "\n",
    "#moves generator\n",
    "for move in pos.gen_moves():\n",
    "    print(move)\n",
    "\n",
    "print_pos(pos)\n",
    "#looks good"
   ]
  },
  {
   "cell_type": "code",
   "execution_count": 7,
   "metadata": {
    "collapsed": false
   },
   "outputs": [
    {
     "data": {
      "text/plain": [
       "[' rnbqkbnr\\n',\n",
       " ' pppp.ppp\\n',\n",
       " ' ........\\n',\n",
       " ' ....p...\\n',\n",
       " ' ....P...\\n',\n",
       " ' .....N..\\n',\n",
       " ' PPPP.PPP\\n',\n",
       " ' RNBQKB.R\\n']"
      ]
     },
     "execution_count": 7,
     "metadata": {},
     "output_type": "execute_result"
    }
   ],
   "source": [
    "iboard_sample"
   ]
  },
  {
   "cell_type": "code",
   "execution_count": 8,
   "metadata": {
    "collapsed": false
   },
   "outputs": [
    {
     "data": {
      "text/plain": [
       "([' rnbqkbnr\\n',\n",
       "  ' pppp.ppp\\n',\n",
       "  ' ........\\n',\n",
       "  ' ....p.N.\\n',\n",
       "  ' ....P...\\n',\n",
       "  ' ........\\n',\n",
       "  ' PPPP.PPP\\n',\n",
       "  ' RNBQKB.R\\n'],\n",
       " 'N',\n",
       " '.')"
      ]
     },
     "execution_count": 8,
     "metadata": {},
     "output_type": "execute_result"
    }
   ],
   "source": [
    "\n",
    "#make all legal moves for a given board\n",
    "#board: starting intermediate board (see output of fen2sunfish)\n",
    "#(move_start, move_end): in output format of the moves generator from sunfish\n",
    "#note that movestart/moveend are really confusing, ask for board diagram picture I took\n",
    "#returns: (new_board, piece_moved, piece_taken)\n",
    "#where new_board is the board after the move and piece moved is the letter of the piece moved\n",
    "def apply_move(board, (move_start, move_end)):\n",
    "    board_copy = [list(row) for row in board]\n",
    "    start_x, start_y = (move_start / 10 - 2, move_start - move_start / 10 * 10)\n",
    "    if (move_end is None) :\n",
    "        #disappear\n",
    "        start_piece = board[start_x][start_y]\n",
    "        end_piece =  board[start_x][start_y]\n",
    "        board_copy[start_x][start_y] = '.'\n",
    "        return ([\"\".join(row) for row in board_copy], start_piece, end_piece)\n",
    "    end_x, end_y = (move_end / 10 - 2, move_end - move_end / 10 * 10)\n",
    "    #print(start_x, start_y)\n",
    "    #print(end_x, end_y)\n",
    "    start_piece = board[start_x][start_y]\n",
    "    #add . to original spot\n",
    "    board_copy[start_x][start_y] = '.'\n",
    "    #add piece to end\n",
    "    #have to do funky stuff because strings are immutable: change to row array the nback\n",
    "    end_piece = board_copy[end_x][end_y]\n",
    "    board_copy[end_x][end_y] = start_piece\n",
    "    return ([\"\".join(row) for row in board_copy], start_piece, end_piece)\n",
    "\n",
    "#move queen h6e3\n",
    "apply_move(iboard_sample, (76,57))"
   ]
  },
  {
   "cell_type": "code",
   "execution_count": 9,
   "metadata": {
    "collapsed": false
   },
   "outputs": [
    {
     "data": {
      "text/plain": [
       "[[0, 0, 0, 0, 0, 1, 0, 0, 0, 0, 0],\n",
       " [0, 0, 0, 1, 0, 0, 0, 0, 0, 0, 0],\n",
       " [0, 0, 0, 0, 1, 0, 0, 0, 0, 0, 0],\n",
       " [0, 0, 1, 0, 0, 0, 0, 0, 0, 0, 0],\n",
       " [0, 1, 0, 0, 0, 0, 0, 0, 0, 0, 0],\n",
       " [0, 0, 0, 0, 1, 0, 0, 0, 0, 0, 0],\n",
       " [0, 0, 0, 1, 0, 0, 0, 0, 0, 0, 0],\n",
       " [0, 0, 0, 0, 0, 1, 0, 0, 0, 0, 0],\n",
       " [1, 0, 0, 0, 0, 0, 0, 0, 0, 0, 0],\n",
       " [1, 0, 0, 0, 0, 0, 0, 0, 0, 0, 0],\n",
       " [1, 0, 0, 0, 0, 0, 0, 0, 0, 0, 0],\n",
       " [1, 0, 0, 0, 0, 0, 0, 0, 0, 0, 0],\n",
       " [0, 0, 0, 0, 0, 0, 0, 0, 0, 0, 0]]"
      ]
     },
     "execution_count": 9,
     "metadata": {},
     "output_type": "execute_result"
    }
   ],
   "source": [
    "#convert intermediate board format (see above) to keras input format\n",
    "#board: see above\n",
    "#to_move: either 'b' or 'w'\n",
    "#returns: \"half\" keras format, i.e. just one board position instead of 2\n",
    "def intboard2halfkeras(iboard, to_move):\n",
    "    return [1 if iboard[i][j] == p else 0 for i in range(0,8) for j in range (1,9) for p in \"pkqnbrPKQNBR\"]\n",
    "len(intboard2halfkeras(iboard_sample, to_move))\n",
    "k = intboard2halfkeras(iboard_sample, to_move)\n",
    "[k[i:i+11] for i in range(0,148, 12)]\n"
   ]
  },
  {
   "cell_type": "markdown",
   "metadata": {},
   "source": [
    "Format: for each position, have which of the 12 pieces are there.|"
   ]
  },
  {
   "cell_type": "code",
   "execution_count": 10,
   "metadata": {
    "collapsed": false
   },
   "outputs": [
    {
     "data": {
      "text/plain": [
       "768"
      ]
     },
     "execution_count": 10,
     "metadata": {},
     "output_type": "execute_result"
    }
   ],
   "source": [
    "len(k)"
   ]
  },
  {
   "cell_type": "code",
   "execution_count": 11,
   "metadata": {
    "collapsed": false
   },
   "outputs": [
    {
     "data": {
      "text/plain": [
       "([' rnbqkbnr\\n',\n",
       "  ' pppp.ppp\\n',\n",
       "  ' ........\\n',\n",
       "  ' ....p...\\n',\n",
       "  ' ....P...\\n',\n",
       "  ' .....N..\\n',\n",
       "  ' PPPP.PPP\\n',\n",
       "  ' RNBQKBR.\\n'],\n",
       " 'R',\n",
       " '.')"
      ]
     },
     "execution_count": 11,
     "metadata": {},
     "output_type": "execute_result"
    }
   ],
   "source": [
    "apply_move(iboard_sample, move)"
   ]
  },
  {
   "cell_type": "code",
   "execution_count": 12,
   "metadata": {
    "collapsed": true
   },
   "outputs": [],
   "source": [
    "#store information about the type of move\n",
    "class move_info:\n",
    "    is_own_piece = False\n",
    "    \n",
    "    def __init__(self, is_own_piece):\n",
    "        self.is_own_piece = is_own_piece"
   ]
  },
  {
   "cell_type": "code",
   "execution_count": 13,
   "metadata": {
    "collapsed": true
   },
   "outputs": [],
   "source": [
    "# rotate iboard so that we can generate moves for the correct side (this has to be done for black)\n",
    "def rotate_iboard(iboard):\n",
    "    return [\" \" + row[1:9][::-1] + \"\\n\" for row in iboard_sample[::-1]]"
   ]
  },
  {
   "cell_type": "code",
   "execution_count": 21,
   "metadata": {
    "collapsed": false,
    "scrolled": true
   },
   "outputs": [],
   "source": [
    "#legal move keras generation\n",
    "\n",
    "#generator to get a legal move in sunfish format (just wraps sunfish)\n",
    "#NOTE: always generates moves for side that it is facing! i.e. if black to move, must be rotated\n",
    "def get_legal_move_generator(iboard):\n",
    "    (sunfish_board, to_move) = iboard2sunfish(iboard)\n",
    "    pos = Position(sunfish_board, 0, (True,True), (True,True), 0, 0) \n",
    "    return pos.gen_moves()\n",
    "\n",
    "\n",
    "#given a position and move, generate keras format for pre and postmove board\n",
    "#returns: array of keras input formats, one for each legal move\n",
    "def move2keras(pre_move_iboard, move):\n",
    "    keras_half_pre = intboard2halfkeras(pre_move_iboard, to_move)\n",
    "    assert type(move) == tuple, \"move is not tuple: {}\".format(move)\n",
    "    post_move_iboard, piece_moved, piece_taken = apply_move(pre_move_iboard, move)\n",
    "    keras_half_post = intboard2halfkeras(post_move_iboard, to_move)\n",
    "    #combine, removing \"to_move\" bit from second half\n",
    "    return keras_half_pre + keras_half_post\n",
    "\n",
    "#prints keras format so that column is piece and row is board position (1 to 64, then 1 to 64 for oppoennt)\n",
    "def prettify_keras(keras_input):\n",
    "    return [[\"p k  q  n  b  r  P  K  Q  N  B  R\"]] + [keras_input[i:i+12] for i in range(0,1538, 12)]\n",
    "\n",
    "def prettify_kerasv2(keras_input):\n",
    "    return [[\"p k  q  n  b  r  P  K  Q  N  B  R\"]] + [keras_input[i:i+12] for i in range(0,1538, 12)]\n",
    "\n",
    "# print(len(legal_moves))\n",
    "# print(legal_moves[:5])\n",
    "k = move2keras(iboard_sample, get_legal_move_generator(iboard_sample).next())\n",
    "#prettify_keras(k)"
   ]
  },
  {
   "cell_type": "code",
   "execution_count": 22,
   "metadata": {
    "collapsed": false
   },
   "outputs": [
    {
     "data": {
      "text/plain": [
       "True"
      ]
     },
     "execution_count": 22,
     "metadata": {},
     "output_type": "execute_result"
    }
   ],
   "source": [
    "(76, 57) in get_legal_move_generator(iboard_sample)"
   ]
  },
  {
   "cell_type": "code",
   "execution_count": 25,
   "metadata": {
    "collapsed": false
   },
   "outputs": [
    {
     "name": "stdout",
     "output_type": "stream",
     "text": [
      "[21, 23, 24, 25, 26, 27, 28, 31, 32, 33, 35, 36, 37, 38, 43, 54, 64, 81, 82, 83, 85, 86, 87, 88, 91, 92, 93, 94, 95, 96, 97, 98]\n",
      "(28, 43)\n",
      "(24, 65)\n"
     ]
    }
   ],
   "source": [
    "#generating illegal moves\n",
    "\n",
    "# takes in intermediate board \n",
    "# returns the sunfish style piece locations as array\n",
    "def get_piece_positions(i_board):\n",
    "    #print(i_board)\n",
    "    assert len(i_board) == 8 and len(i_board[0]) == 10, \"how? {}\".format(i_board)\n",
    "    return [20 + x * 10 + y for x in range(0,8) for y in range(1,9) if i_board[x][y] in \"PKQNBRpkqnbr\"]\n",
    "\n",
    "#given a position (intermediate board) and legal moves generator (see get_legal_move_generatr, \n",
    "# generate illegal moves (generator, use next() to get next value)\n",
    "def gen_illegal_moves(i_board, legal_move_generator):\n",
    "    #need to convert sunfish board \n",
    "    # get all piece locations (yours and opponents)\n",
    "    start_options = get_piece_positions(i_board)\n",
    "    # randomly grab a piece\n",
    "    chosen_start = random.choice(start_options)\n",
    "    # pick from all possible move locations + disappear\n",
    "    target_options = sum([range(i, i+8) for i in range(21, 92, 10)], []) + [None]\n",
    "    chosen_target = random.choice(target_options)\n",
    "    # check if legal or not\n",
    "    if (chosen_start, chosen_target) in legal_move_generator:\n",
    "        #print(\"already legal!\")\n",
    "        #call again (recursively until illegal move found)\n",
    "        yield(gen_illegal_moves(i_board, legal_move_generator))\n",
    "    else :\n",
    "        yield((chosen_start, chosen_target))\n",
    "    #print(chosen_start, chosen_target)   \n",
    "    #check if already legal; if so, return a different one\n",
    "    # categorize (piece captured? side moved? etc.)\n",
    "print(get_piece_positions(iboard))\n",
    "#print(pos.gen_moves())\n",
    "for i in range(0,2) :\n",
    "    print(gen_illegal_moves(iboard, get_legal_move_generator(iboard_sample)).next())"
   ]
  },
  {
   "cell_type": "code",
   "execution_count": 84,
   "metadata": {
    "collapsed": true
   },
   "outputs": [],
   "source": [
    "NUM_LEGAL = 5\n",
    "NUM_ILLEGAL = 5\n",
    "with open(\"../data/2015-12-01-fen_sample\") as f:\n",
    "    content = [\" \".join(line.split(\" \")[:2]) for line in f.readlines()]"
   ]
  },
  {
   "cell_type": "code",
   "execution_count": 85,
   "metadata": {
    "collapsed": false,
    "scrolled": true
   },
   "outputs": [],
   "source": [
    "legal = []\n",
    "illegal = []\n",
    "for fen in content[:5000]:\n",
    "    iboard, to_move = fen2iboard(fen)\n",
    "    #rotate if necessary\n",
    "    iboard = rotate_iboard(iboard) if to_move == 'b' else iboard\n",
    "    #generate n legal moves\n",
    "    try :\n",
    "        legal += [move2keras(iboard, get_legal_move_generator(iboard).next()) for i in range(0, NUM_LEGAL)]\n",
    "    except StopIteration:\n",
    "        pass\n",
    "    #generate m illegal moves\n",
    "    for i in range(0, NUM_ILLEGAL):\n",
    "        next_move = gen_illegal_moves(iboard, get_legal_move_generator(iboard)).next()\n",
    "        if (type(next_move) == tuple):\n",
    "            illegal.append(move2keras(iboard, next_move))\n",
    "\n",
    "#prettify_keras(illegal[4])\n"
   ]
  },
  {
   "cell_type": "code",
   "execution_count": 148,
   "metadata": {
    "collapsed": false,
    "scrolled": true
   },
   "outputs": [
    {
     "data": {
      "text/plain": [
       "[[0, 1], [0, 2], [0, 0]]"
      ]
     },
     "execution_count": 148,
     "metadata": {},
     "output_type": "execute_result"
    }
   ],
   "source": [
    "[[0,1],[0,2]] + [[0,0]]"
   ]
  },
  {
   "cell_type": "code",
   "execution_count": 155,
   "metadata": {
    "collapsed": false
   },
   "outputs": [],
   "source": [
    "legal_train_sample = random.sample(legal, 1000)\n",
    "legal_test_sample = random.sample(legal, 1000)\n",
    "illegal_train_sample = random.sample(illegal, 1000)\n",
    "illegal_test_sample = random.sample(illegal, 1000)\n",
    "X_train = (legal_train_sample + illegal_train_sample)\n",
    "y_train = [[1] for i in range(0,len(legal_train_sample))] + [[0] for i in range(0,len(illegal_train_sample))]\n",
    "X_test = legal_test_sample + illegal_test_sample\n",
    "y_test = [[1] for i in range(0,len(legal_test_sample))] + [[0] for i in range(0,len(illegal_test_sample))]\n",
    "assert len(X_train) == len(X_test)"
   ]
  },
  {
   "cell_type": "code",
   "execution_count": 160,
   "metadata": {
    "collapsed": false
   },
   "outputs": [
    {
     "data": {
      "text/plain": [
       "1536"
      ]
     },
     "execution_count": 160,
     "metadata": {},
     "output_type": "execute_result"
    }
   ],
   "source": [
    "len(X_test[0])"
   ]
  },
  {
   "cell_type": "code",
   "execution_count": 157,
   "metadata": {
    "collapsed": false
   },
   "outputs": [
    {
     "data": {
      "text/plain": [
       "array(0.5)"
      ]
     },
     "execution_count": 157,
     "metadata": {},
     "output_type": "execute_result"
    }
   ],
   "source": [
    "from keras.models import Sequential\n",
    "from keras.layers.core import Dense, Dropout, Activation\n",
    "from keras.optimizers import SGD\n",
    "\n",
    "model = Sequential()\n",
    "model.add(Dense(64, input_dim=1536, init='uniform', activation='tanh'))\n",
    "model.add(Dropout(0.5))\n",
    "model.add(Dense(64, init='uniform', activation='tanh'))\n",
    "model.add(Dropout(0.5))\n",
    "model.add(Dense(1, init='uniform', activation='softmax'))\n",
    "\n",
    "sgd = SGD(lr=0.1, decay=1e-6, momentum=0.9, nesterov=True)\n",
    "model.compile(loss='mean_squared_error', optimizer=sgd)\n",
    "\n",
    "sgd = SGD(lr=0.1, decay=1e-6, momentum=0.9, nesterov=True)\n",
    "model.compile(loss='mean_squared_error', optimizer=sgd)\n",
    "model.train_on_batch([X_train], y_train)\n",
    "#objective_score = model.evaluate([X_test], y_test)\n",
    "#print(objective_score)\n",
    "#classes = model.predict_classes([X_test])\n",
    "#print(\"classes: {}\".format(classes))\n",
    "#proba = model.predict_proba(X_test, batch_size=1)\n",
    "#print(\"probabilities: {}\".format(proba))"
   ]
  },
  {
   "cell_type": "code",
   "execution_count": 158,
   "metadata": {
    "collapsed": false
   },
   "outputs": [
    {
     "ename": "TypeError",
     "evalue": "list indices must be integers, not list",
     "output_type": "error",
     "traceback": [
      "\u001b[0;31m---------------------------------------------------------------------------\u001b[0m",
      "\u001b[0;31mTypeError\u001b[0m                                 Traceback (most recent call last)",
      "\u001b[0;32m<ipython-input-158-14aff89f063a>\u001b[0m in \u001b[0;36m<module>\u001b[0;34m()\u001b[0m\n\u001b[0;32m----> 1\u001b[0;31m \u001b[0mclasses\u001b[0m \u001b[0;34m=\u001b[0m \u001b[0mmodel\u001b[0m\u001b[0;34m.\u001b[0m\u001b[0mpredict_classes\u001b[0m\u001b[0;34m(\u001b[0m\u001b[0;34m[\u001b[0m\u001b[0mX_test\u001b[0m\u001b[0;34m]\u001b[0m\u001b[0;34m)\u001b[0m\u001b[0;34m\u001b[0m\u001b[0m\n\u001b[0m",
      "\u001b[0;32m/Users/websterm/anaconda/lib/python2.7/site-packages/Keras-0.2.0-py2.7.egg/keras/models.pyc\u001b[0m in \u001b[0;36mpredict_classes\u001b[0;34m(self, X, batch_size, verbose)\u001b[0m\n\u001b[1;32m    506\u001b[0m \u001b[0;34m\u001b[0m\u001b[0m\n\u001b[1;32m    507\u001b[0m     \u001b[0;32mdef\u001b[0m \u001b[0mpredict_classes\u001b[0m\u001b[0;34m(\u001b[0m\u001b[0mself\u001b[0m\u001b[0;34m,\u001b[0m \u001b[0mX\u001b[0m\u001b[0;34m,\u001b[0m \u001b[0mbatch_size\u001b[0m\u001b[0;34m=\u001b[0m\u001b[0;36m128\u001b[0m\u001b[0;34m,\u001b[0m \u001b[0mverbose\u001b[0m\u001b[0;34m=\u001b[0m\u001b[0;36m1\u001b[0m\u001b[0;34m)\u001b[0m\u001b[0;34m:\u001b[0m\u001b[0;34m\u001b[0m\u001b[0m\n\u001b[0;32m--> 508\u001b[0;31m         \u001b[0mproba\u001b[0m \u001b[0;34m=\u001b[0m \u001b[0mself\u001b[0m\u001b[0;34m.\u001b[0m\u001b[0mpredict\u001b[0m\u001b[0;34m(\u001b[0m\u001b[0mX\u001b[0m\u001b[0;34m,\u001b[0m \u001b[0mbatch_size\u001b[0m\u001b[0;34m=\u001b[0m\u001b[0mbatch_size\u001b[0m\u001b[0;34m,\u001b[0m \u001b[0mverbose\u001b[0m\u001b[0;34m=\u001b[0m\u001b[0mverbose\u001b[0m\u001b[0;34m)\u001b[0m\u001b[0;34m\u001b[0m\u001b[0m\n\u001b[0m\u001b[1;32m    509\u001b[0m         \u001b[0;32mif\u001b[0m \u001b[0mself\u001b[0m\u001b[0;34m.\u001b[0m\u001b[0mclass_mode\u001b[0m \u001b[0;34m==\u001b[0m \u001b[0;34m\"categorical\"\u001b[0m\u001b[0;34m:\u001b[0m\u001b[0;34m\u001b[0m\u001b[0m\n\u001b[1;32m    510\u001b[0m             \u001b[0;32mreturn\u001b[0m \u001b[0mproba\u001b[0m\u001b[0;34m.\u001b[0m\u001b[0margmax\u001b[0m\u001b[0;34m(\u001b[0m\u001b[0maxis\u001b[0m\u001b[0;34m=\u001b[0m\u001b[0;34m-\u001b[0m\u001b[0;36m1\u001b[0m\u001b[0;34m)\u001b[0m\u001b[0;34m\u001b[0m\u001b[0m\n",
      "\u001b[0;32m/Users/websterm/anaconda/lib/python2.7/site-packages/Keras-0.2.0-py2.7.egg/keras/models.pyc\u001b[0m in \u001b[0;36mpredict\u001b[0;34m(self, X, batch_size, verbose)\u001b[0m\n\u001b[1;32m    497\u001b[0m     \u001b[0;32mdef\u001b[0m \u001b[0mpredict\u001b[0m\u001b[0;34m(\u001b[0m\u001b[0mself\u001b[0m\u001b[0;34m,\u001b[0m \u001b[0mX\u001b[0m\u001b[0;34m,\u001b[0m \u001b[0mbatch_size\u001b[0m\u001b[0;34m=\u001b[0m\u001b[0;36m128\u001b[0m\u001b[0;34m,\u001b[0m \u001b[0mverbose\u001b[0m\u001b[0;34m=\u001b[0m\u001b[0;36m0\u001b[0m\u001b[0;34m)\u001b[0m\u001b[0;34m:\u001b[0m\u001b[0;34m\u001b[0m\u001b[0m\n\u001b[1;32m    498\u001b[0m         \u001b[0mX\u001b[0m \u001b[0;34m=\u001b[0m \u001b[0mstandardize_X\u001b[0m\u001b[0;34m(\u001b[0m\u001b[0mX\u001b[0m\u001b[0;34m)\u001b[0m\u001b[0;34m\u001b[0m\u001b[0m\n\u001b[0;32m--> 499\u001b[0;31m         \u001b[0;32mreturn\u001b[0m \u001b[0mself\u001b[0m\u001b[0;34m.\u001b[0m\u001b[0m_predict_loop\u001b[0m\u001b[0;34m(\u001b[0m\u001b[0mself\u001b[0m\u001b[0;34m.\u001b[0m\u001b[0m_predict\u001b[0m\u001b[0;34m,\u001b[0m \u001b[0mX\u001b[0m\u001b[0;34m,\u001b[0m \u001b[0mbatch_size\u001b[0m\u001b[0;34m,\u001b[0m \u001b[0mverbose\u001b[0m\u001b[0;34m)\u001b[0m\u001b[0;34m[\u001b[0m\u001b[0;36m0\u001b[0m\u001b[0;34m]\u001b[0m\u001b[0;34m\u001b[0m\u001b[0m\n\u001b[0m\u001b[1;32m    500\u001b[0m \u001b[0;34m\u001b[0m\u001b[0m\n\u001b[1;32m    501\u001b[0m     \u001b[0;32mdef\u001b[0m \u001b[0mpredict_proba\u001b[0m\u001b[0;34m(\u001b[0m\u001b[0mself\u001b[0m\u001b[0;34m,\u001b[0m \u001b[0mX\u001b[0m\u001b[0;34m,\u001b[0m \u001b[0mbatch_size\u001b[0m\u001b[0;34m=\u001b[0m\u001b[0;36m128\u001b[0m\u001b[0;34m,\u001b[0m \u001b[0mverbose\u001b[0m\u001b[0;34m=\u001b[0m\u001b[0;36m1\u001b[0m\u001b[0;34m)\u001b[0m\u001b[0;34m:\u001b[0m\u001b[0;34m\u001b[0m\u001b[0m\n",
      "\u001b[0;32m/Users/websterm/anaconda/lib/python2.7/site-packages/Keras-0.2.0-py2.7.egg/keras/models.pyc\u001b[0m in \u001b[0;36m_predict_loop\u001b[0;34m(self, f, ins, batch_size, verbose)\u001b[0m\n\u001b[1;32m    253\u001b[0m         \u001b[0;32mfor\u001b[0m \u001b[0mbatch_index\u001b[0m\u001b[0;34m,\u001b[0m \u001b[0;34m(\u001b[0m\u001b[0mbatch_start\u001b[0m\u001b[0;34m,\u001b[0m \u001b[0mbatch_end\u001b[0m\u001b[0;34m)\u001b[0m \u001b[0;32min\u001b[0m \u001b[0menumerate\u001b[0m\u001b[0;34m(\u001b[0m\u001b[0mbatches\u001b[0m\u001b[0;34m)\u001b[0m\u001b[0;34m:\u001b[0m\u001b[0;34m\u001b[0m\u001b[0m\n\u001b[1;32m    254\u001b[0m             \u001b[0mbatch_ids\u001b[0m \u001b[0;34m=\u001b[0m \u001b[0mindex_array\u001b[0m\u001b[0;34m[\u001b[0m\u001b[0mbatch_start\u001b[0m\u001b[0;34m:\u001b[0m\u001b[0mbatch_end\u001b[0m\u001b[0;34m]\u001b[0m\u001b[0;34m\u001b[0m\u001b[0m\n\u001b[0;32m--> 255\u001b[0;31m             \u001b[0mins_batch\u001b[0m \u001b[0;34m=\u001b[0m \u001b[0mslice_X\u001b[0m\u001b[0;34m(\u001b[0m\u001b[0mins\u001b[0m\u001b[0;34m,\u001b[0m \u001b[0mbatch_ids\u001b[0m\u001b[0;34m)\u001b[0m\u001b[0;34m\u001b[0m\u001b[0m\n\u001b[0m\u001b[1;32m    256\u001b[0m \u001b[0;34m\u001b[0m\u001b[0m\n\u001b[1;32m    257\u001b[0m             \u001b[0mbatch_outs\u001b[0m \u001b[0;34m=\u001b[0m \u001b[0mf\u001b[0m\u001b[0;34m(\u001b[0m\u001b[0;34m*\u001b[0m\u001b[0mins_batch\u001b[0m\u001b[0;34m)\u001b[0m\u001b[0;34m\u001b[0m\u001b[0m\n",
      "\u001b[0;32m/Users/websterm/anaconda/lib/python2.7/site-packages/Keras-0.2.0-py2.7.egg/keras/models.pyc\u001b[0m in \u001b[0;36mslice_X\u001b[0;34m(X, start, stop)\u001b[0m\n\u001b[1;32m     56\u001b[0m             \u001b[0;32mif\u001b[0m \u001b[0mhasattr\u001b[0m\u001b[0;34m(\u001b[0m\u001b[0mstart\u001b[0m\u001b[0;34m,\u001b[0m \u001b[0;34m'shape'\u001b[0m\u001b[0;34m)\u001b[0m\u001b[0;34m:\u001b[0m\u001b[0;34m\u001b[0m\u001b[0m\n\u001b[1;32m     57\u001b[0m                 \u001b[0mstart\u001b[0m \u001b[0;34m=\u001b[0m \u001b[0mstart\u001b[0m\u001b[0;34m.\u001b[0m\u001b[0mtolist\u001b[0m\u001b[0;34m(\u001b[0m\u001b[0;34m)\u001b[0m\u001b[0;34m\u001b[0m\u001b[0m\n\u001b[0;32m---> 58\u001b[0;31m             \u001b[0;32mreturn\u001b[0m \u001b[0;34m[\u001b[0m\u001b[0mx\u001b[0m\u001b[0;34m[\u001b[0m\u001b[0mstart\u001b[0m\u001b[0;34m]\u001b[0m \u001b[0;32mfor\u001b[0m \u001b[0mx\u001b[0m \u001b[0;32min\u001b[0m \u001b[0mX\u001b[0m\u001b[0;34m]\u001b[0m\u001b[0;34m\u001b[0m\u001b[0m\n\u001b[0m\u001b[1;32m     59\u001b[0m         \u001b[0;32melse\u001b[0m\u001b[0;34m:\u001b[0m\u001b[0;34m\u001b[0m\u001b[0m\n\u001b[1;32m     60\u001b[0m             \u001b[0;32mreturn\u001b[0m \u001b[0;34m[\u001b[0m\u001b[0mx\u001b[0m\u001b[0;34m[\u001b[0m\u001b[0mstart\u001b[0m\u001b[0;34m:\u001b[0m\u001b[0mstop\u001b[0m\u001b[0;34m]\u001b[0m \u001b[0;32mfor\u001b[0m \u001b[0mx\u001b[0m \u001b[0;32min\u001b[0m \u001b[0mX\u001b[0m\u001b[0;34m]\u001b[0m\u001b[0;34m\u001b[0m\u001b[0m\n",
      "\u001b[0;31mTypeError\u001b[0m: list indices must be integers, not list"
     ]
    }
   ],
   "source": [
    "classes = model.predict_classes([X_test])"
   ]
  },
  {
   "cell_type": "code",
   "execution_count": 163,
   "metadata": {
    "collapsed": false
   },
   "outputs": [
    {
     "name": "stdout",
     "output_type": "stream",
     "text": [
      "[array([ 14.49999313]), array([ 1.])]\n",
      "[array([-5.28340559]), array([ 1.])]\n",
      "[array([-0.48456059]), array([ 1.])]\n",
      "[array([-31.23488998]), array([ 1.])]\n",
      "[array([-11.57525971]), array([ 1.])]\n",
      "[array([ 163.35278212]), array([ 1.])]\n",
      "[array([ 340.90045931]), array([ 1.])]\n",
      "[array([ 656.97931184]), array([ 1.])]\n",
      "[array([ 552.27089009]), array([ 1.])]\n",
      "[array([ 1799.74873342]), array([ 1.])]\n"
     ]
    }
   ],
   "source": [
    "from pybrain.datasets import SupervisedDataSet\n",
    "from pybrain.supervised.trainers import BackpropTrainer\n",
    "from pybrain.tools.shortcuts import buildNetwork\n",
    "from pybrain.structure.modules import TanhLayer\n",
    "\n",
    "# build dataset\n",
    "ds = SupervisedDataSet(1536, 1)\n",
    "for i in range(0,5):\n",
    "    ds.addSample(X_train[i], y_train[i])\n",
    "\n",
    "net     = buildNetwork(1536, 768, 1, bias=True, hiddenclass=TanhLayer)\n",
    "trainer = BackpropTrainer(net, ds)\n",
    "\n",
    "for inp, tar in ds:\n",
    "     print([net.activate(inp), tar])\n",
    "\n",
    "errors  = trainer.trainUntilConvergence()\n",
    "\n",
    "for inp, tar in ds:\n",
    "     print([net.activate(inp), tar])"
   ]
  },
  {
   "cell_type": "code",
   "execution_count": 164,
   "metadata": {
    "collapsed": false
   },
   "outputs": [
    {
     "data": {
      "text/plain": [
       "[[1], [1], [1], [1], [1]]"
      ]
     },
     "execution_count": 164,
     "metadata": {},
     "output_type": "execute_result"
    }
   ],
   "source": [
    "y_train[:5]"
   ]
  },
  {
   "cell_type": "code",
   "execution_count": 165,
   "metadata": {
    "collapsed": false
   },
   "outputs": [
    {
     "data": {
      "text/plain": [
       "True"
      ]
     },
     "execution_count": 165,
     "metadata": {},
     "output_type": "execute_result"
    }
   ],
   "source": [
    "\n",
    "1 in set([1,2,3])"
   ]
  },
  {
   "cell_type": "code",
   "execution_count": null,
   "metadata": {
    "collapsed": true
   },
   "outputs": [],
   "source": []
  }
 ],
 "metadata": {
  "kernelspec": {
   "display_name": "Python 2",
   "language": "python",
   "name": "python2"
  },
  "language_info": {
   "codemirror_mode": {
    "name": "ipython",
    "version": 2
   },
   "file_extension": ".py",
   "mimetype": "text/x-python",
   "name": "python",
   "nbconvert_exporter": "python",
   "pygments_lexer": "ipython2",
   "version": "2.7.10"
  }
 },
 "nbformat": 4,
 "nbformat_minor": 0
}
