{
 "cells": [
  {
   "cell_type": "code",
   "execution_count": 63,
   "metadata": {
    "collapsed": false
   },
   "outputs": [],
   "source": [
    "%matplotlib inline\n",
    "from fenparsev4 import *\n",
    "from pybrain.datasets import ClassificationDataSet\n",
    "from pybrain.supervised.trainers import BackpropTrainer\n",
    "from pybrain.tools.shortcuts import buildNetwork\n",
    "from pybrain.structure.modules import TanhLayer\n",
    "import numpy as np\n",
    "import random\n",
    "from sklearn.metrics import confusion_matrix\n",
    "import os"
   ]
  },
  {
   "cell_type": "code",
   "execution_count": 64,
   "metadata": {
    "collapsed": false
   },
   "outputs": [
    {
     "name": "stdout",
     "output_type": "stream",
     "text": [
      "../data/csv_input/2015-12-07-csv1\n",
      "../data/csv_input/2015-12-07-csv2\n",
      "../data/csv_input/2015-12-07-csv3\n",
      "../data/csv_input/2015-12-07-csv4\n",
      "../data/csv_input/2015-12-07-csv5\n",
      "../data/csv_input/2015-12-07-csv6\n",
      "../data/csv_input/2015-12-07-csv7\n",
      "../data/csv_input/2015-12-07-csv8\n",
      "../data/csv_input/2015-12-07-csv9\n",
      "../data/csv_input/2015-12-07-csv10\n",
      "../data/csv_input/2015-12-07-csv11\n",
      "../data/csv_input/2015-12-07-csv12\n",
      "../data/csv_input/2015-12-07-csv13\n",
      "../data/csv_input/2015-12-07-csv14\n",
      "../data/csv_input/2015-12-07-csv15\n",
      "../data/csv_input/2015-12-07-csv16\n",
      "../data/csv_input/2015-12-07-csv17\n",
      "../data/csv_input/2015-12-07-csv18\n",
      "../data/csv_input/2015-12-07-csv19\n",
      "../data/csv_input/2015-12-07-csv20\n",
      "converting x to list\n"
     ]
    },
    {
     "data": {
      "text/html": [
       "<div>\n",
       "<table border=\"1\" class=\"dataframe\">\n",
       "  <thead>\n",
       "    <tr style=\"text-align: right;\">\n",
       "      <th></th>\n",
       "      <th>Unnamed: 0</th>\n",
       "      <th>move</th>\n",
       "      <th>piece_moved</th>\n",
       "      <th>piece_captured</th>\n",
       "      <th>preboard</th>\n",
       "      <th>postboard</th>\n",
       "      <th>x</th>\n",
       "      <th>y</th>\n",
       "    </tr>\n",
       "  </thead>\n",
       "  <tbody>\n",
       "    <tr>\n",
       "      <th>0</th>\n",
       "      <td>0</td>\n",
       "      <td>(82, 72)</td>\n",
       "      <td>p</td>\n",
       "      <td>.</td>\n",
       "      <td>[' RNBKQBNR\\n', ' PPP.PPPP\\n', ' ........\\n', ...</td>\n",
       "      <td>([' RNBKQBNR\\n', ' PPP.PPPP\\n', ' ........\\n',...</td>\n",
       "      <td>[0, 0, 0, 0, 0, 0, 0, 0, 0, 0, 0, 1, 0, 0, 0, ...</td>\n",
       "      <td>1</td>\n",
       "    </tr>\n",
       "    <tr>\n",
       "      <th>1</th>\n",
       "      <td>0</td>\n",
       "      <td>(84, 74)</td>\n",
       "      <td>p</td>\n",
       "      <td>.</td>\n",
       "      <td>[' RNBKQBNR\\n', ' PPP.PPPP\\n', ' ........\\n', ...</td>\n",
       "      <td>([' RNBKQBNR\\n', ' PPP.PPPP\\n', ' ........\\n',...</td>\n",
       "      <td>[0, 0, 0, 0, 0, 0, 0, 0, 0, 0, 0, 1, 0, 0, 0, ...</td>\n",
       "      <td>1</td>\n",
       "    </tr>\n",
       "    <tr>\n",
       "      <th>2</th>\n",
       "      <td>0</td>\n",
       "      <td>(81, 71)</td>\n",
       "      <td>p</td>\n",
       "      <td>.</td>\n",
       "      <td>[' RNBKQBNR\\n', ' PPP.PPPP\\n', ' ........\\n', ...</td>\n",
       "      <td>([' RNBKQBNR\\n', ' PPP.PPPP\\n', ' ........\\n',...</td>\n",
       "      <td>[0, 0, 0, 0, 0, 0, 0, 0, 0, 0, 0, 1, 0, 0, 0, ...</td>\n",
       "      <td>1</td>\n",
       "    </tr>\n",
       "    <tr>\n",
       "      <th>3</th>\n",
       "      <td>0</td>\n",
       "      <td>(84, 64)</td>\n",
       "      <td>p</td>\n",
       "      <td>.</td>\n",
       "      <td>[' RNBKQBNR\\n', ' PPP.PPPP\\n', ' ........\\n', ...</td>\n",
       "      <td>([' RNBKQBNR\\n', ' PPP.PPPP\\n', ' ........\\n',...</td>\n",
       "      <td>[0, 0, 0, 0, 0, 0, 0, 0, 0, 0, 0, 1, 0, 0, 0, ...</td>\n",
       "      <td>1</td>\n",
       "    </tr>\n",
       "    <tr>\n",
       "      <th>4</th>\n",
       "      <td>0</td>\n",
       "      <td>(92, 71)</td>\n",
       "      <td>n</td>\n",
       "      <td>.</td>\n",
       "      <td>[' RNBKQBNR\\n', ' PPP.PPPP\\n', ' ........\\n', ...</td>\n",
       "      <td>([' RNBKQBNR\\n', ' PPP.PPPP\\n', ' ........\\n',...</td>\n",
       "      <td>[0, 0, 0, 0, 0, 0, 0, 0, 0, 0, 0, 1, 0, 0, 0, ...</td>\n",
       "      <td>1</td>\n",
       "    </tr>\n",
       "  </tbody>\n",
       "</table>\n",
       "</div>"
      ],
      "text/plain": [
       "   Unnamed: 0      move piece_moved piece_captured  \\\n",
       "0           0  (82, 72)           p              .   \n",
       "1           0  (84, 74)           p              .   \n",
       "2           0  (81, 71)           p              .   \n",
       "3           0  (84, 64)           p              .   \n",
       "4           0  (92, 71)           n              .   \n",
       "\n",
       "                                            preboard  \\\n",
       "0  [' RNBKQBNR\\n', ' PPP.PPPP\\n', ' ........\\n', ...   \n",
       "1  [' RNBKQBNR\\n', ' PPP.PPPP\\n', ' ........\\n', ...   \n",
       "2  [' RNBKQBNR\\n', ' PPP.PPPP\\n', ' ........\\n', ...   \n",
       "3  [' RNBKQBNR\\n', ' PPP.PPPP\\n', ' ........\\n', ...   \n",
       "4  [' RNBKQBNR\\n', ' PPP.PPPP\\n', ' ........\\n', ...   \n",
       "\n",
       "                                           postboard  \\\n",
       "0  ([' RNBKQBNR\\n', ' PPP.PPPP\\n', ' ........\\n',...   \n",
       "1  ([' RNBKQBNR\\n', ' PPP.PPPP\\n', ' ........\\n',...   \n",
       "2  ([' RNBKQBNR\\n', ' PPP.PPPP\\n', ' ........\\n',...   \n",
       "3  ([' RNBKQBNR\\n', ' PPP.PPPP\\n', ' ........\\n',...   \n",
       "4  ([' RNBKQBNR\\n', ' PPP.PPPP\\n', ' ........\\n',...   \n",
       "\n",
       "                                                   x  y  \n",
       "0  [0, 0, 0, 0, 0, 0, 0, 0, 0, 0, 0, 1, 0, 0, 0, ...  1  \n",
       "1  [0, 0, 0, 0, 0, 0, 0, 0, 0, 0, 0, 1, 0, 0, 0, ...  1  \n",
       "2  [0, 0, 0, 0, 0, 0, 0, 0, 0, 0, 0, 1, 0, 0, 0, ...  1  \n",
       "3  [0, 0, 0, 0, 0, 0, 0, 0, 0, 0, 0, 1, 0, 0, 0, ...  1  \n",
       "4  [0, 0, 0, 0, 0, 0, 0, 0, 0, 0, 0, 1, 0, 0, 0, ...  1  "
      ]
     },
     "execution_count": 64,
     "metadata": {},
     "output_type": "execute_result"
    }
   ],
   "source": [
    "#most important part\n",
    "def fries_ready():\n",
    "    os.system('say your fries are done')\n",
    "\n",
    "#returns dataframe with certain columns converted back to lists/integers\n",
    "def unpickle_csv(filename_prefix='../data/csv_input/2015-12-07-csv', filename_suffix_range=range(1,21), debug=True):\n",
    "    #read in csv\n",
    "    df = pd.DataFrame()\n",
    "    for i in filename_suffix_range:\n",
    "        if debug: print(filename_prefix + str(i))\n",
    "        df = df.append(pd.read_csv(filename_prefix + str(i)))\n",
    "    \n",
    "    #clean columns\n",
    "    df['y'] = df['y'].astype(int)\n",
    "    if debug: print(\"converting x to list\")\n",
    "    df['x'] = df['x'] = df.loc[:, 'x'].apply(lambda x: [1 if '1' == a else 0 for a in x.split(', ')])\n",
    "    length = df.shape[0]\n",
    "    df = df.set_index([range(0,length)])\n",
    "    return df;\n",
    "\n",
    "df = unpickle_csv('../data/csv_input/2015-12-07-csv', range(1,21))\n",
    "fries_ready()\n",
    "df.head()"
   ]
  },
  {
   "cell_type": "code",
   "execution_count": 65,
   "metadata": {
    "collapsed": false
   },
   "outputs": [
    {
     "name": "stdout",
     "output_type": "stream",
     "text": [
      "<type 'list'>\n"
     ]
    }
   ],
   "source": [
    "#shuffle\n",
    "df = df.reindex(np.random.permutation(df.index))"
   ]
  },
  {
   "cell_type": "code",
   "execution_count": 66,
   "metadata": {
    "collapsed": false
   },
   "outputs": [
    {
     "data": {
      "text/html": [
       "<div>\n",
       "<table border=\"1\" class=\"dataframe\">\n",
       "  <thead>\n",
       "    <tr style=\"text-align: right;\">\n",
       "      <th></th>\n",
       "      <th>Unnamed: 0</th>\n",
       "      <th>move</th>\n",
       "      <th>piece_moved</th>\n",
       "      <th>piece_captured</th>\n",
       "      <th>preboard</th>\n",
       "      <th>postboard</th>\n",
       "      <th>x</th>\n",
       "      <th>y</th>\n",
       "    </tr>\n",
       "  </thead>\n",
       "  <tbody>\n",
       "    <tr>\n",
       "      <th>13287</th>\n",
       "      <td>0</td>\n",
       "      <td>(82, 73)</td>\n",
       "      <td>k</td>\n",
       "      <td>.</td>\n",
       "      <td>[' .....R.R\\n', ' .P.NK...\\n', ' ..P...P.\\n', ...</td>\n",
       "      <td>([' .....R.R\\n', ' .P.NK...\\n', ' ..P...P.\\n',...</td>\n",
       "      <td>[0, 0, 0, 0, 0, 0, 0, 0, 0, 0, 0, 0, 0, 0, 0, ...</td>\n",
       "      <td>1</td>\n",
       "    </tr>\n",
       "    <tr>\n",
       "      <th>150456</th>\n",
       "      <td>0</td>\n",
       "      <td>(88, 78)</td>\n",
       "      <td>p</td>\n",
       "      <td>.</td>\n",
       "      <td>[' K...Q..R\\n', ' PP.B....\\n', ' ..R.P..B\\n', ...</td>\n",
       "      <td>([' K...Q..R\\n', ' PP.B....\\n', ' ..RrP..B\\n',...</td>\n",
       "      <td>[0, 0, 0, 0, 0, 0, 0, 1, 0, 0, 0, 0, 0, 0, 0, ...</td>\n",
       "      <td>0</td>\n",
       "    </tr>\n",
       "    <tr>\n",
       "      <th>73069</th>\n",
       "      <td>0</td>\n",
       "      <td>(74, 85)</td>\n",
       "      <td>B</td>\n",
       "      <td>.</td>\n",
       "      <td>[' ..r..rk.\\n', ' .b..qpp.\\n', ' pp..pn.p\\n', ...</td>\n",
       "      <td>([' ..r..rk.\\n', ' .b..qpp.\\n', ' pp..pn.p\\n',...</td>\n",
       "      <td>[0, 0, 0, 0, 0, 0, 0, 0, 0, 0, 0, 0, 0, 0, 0, ...</td>\n",
       "      <td>1</td>\n",
       "    </tr>\n",
       "    <tr>\n",
       "      <th>148672</th>\n",
       "      <td>0</td>\n",
       "      <td>(95, 73)</td>\n",
       "      <td>q</td>\n",
       "      <td>.</td>\n",
       "      <td>[' .KR..BNR\\n', ' PPP...PP\\n', ' ....QP..\\n', ...</td>\n",
       "      <td>([' .KR..BNR\\n', ' .PP...PP\\n', ' ....QP..\\n',...</td>\n",
       "      <td>[0, 0, 0, 0, 0, 0, 0, 0, 0, 0, 0, 0, 0, 0, 0, ...</td>\n",
       "      <td>0</td>\n",
       "    </tr>\n",
       "    <tr>\n",
       "      <th>86699</th>\n",
       "      <td>0</td>\n",
       "      <td>(56, 23)</td>\n",
       "      <td>B</td>\n",
       "      <td>.</td>\n",
       "      <td>[' ...r.rk.\\n', ' pp...p..\\n', ' .......p\\n', ...</td>\n",
       "      <td>([' ..Br.rk.\\n', ' pp...p..\\n', ' .......p\\n',...</td>\n",
       "      <td>[0, 0, 0, 0, 0, 0, 0, 0, 0, 0, 0, 0, 0, 0, 0, ...</td>\n",
       "      <td>1</td>\n",
       "    </tr>\n",
       "  </tbody>\n",
       "</table>\n",
       "</div>"
      ],
      "text/plain": [
       "        Unnamed: 0      move piece_moved piece_captured  \\\n",
       "13287            0  (82, 73)           k              .   \n",
       "150456           0  (88, 78)           p              .   \n",
       "73069            0  (74, 85)           B              .   \n",
       "148672           0  (95, 73)           q              .   \n",
       "86699            0  (56, 23)           B              .   \n",
       "\n",
       "                                                 preboard  \\\n",
       "13287   [' .....R.R\\n', ' .P.NK...\\n', ' ..P...P.\\n', ...   \n",
       "150456  [' K...Q..R\\n', ' PP.B....\\n', ' ..R.P..B\\n', ...   \n",
       "73069   [' ..r..rk.\\n', ' .b..qpp.\\n', ' pp..pn.p\\n', ...   \n",
       "148672  [' .KR..BNR\\n', ' PPP...PP\\n', ' ....QP..\\n', ...   \n",
       "86699   [' ...r.rk.\\n', ' pp...p..\\n', ' .......p\\n', ...   \n",
       "\n",
       "                                                postboard  \\\n",
       "13287   ([' .....R.R\\n', ' .P.NK...\\n', ' ..P...P.\\n',...   \n",
       "150456  ([' K...Q..R\\n', ' PP.B....\\n', ' ..RrP..B\\n',...   \n",
       "73069   ([' ..r..rk.\\n', ' .b..qpp.\\n', ' pp..pn.p\\n',...   \n",
       "148672  ([' .KR..BNR\\n', ' .PP...PP\\n', ' ....QP..\\n',...   \n",
       "86699   ([' ..Br.rk.\\n', ' pp...p..\\n', ' .......p\\n',...   \n",
       "\n",
       "                                                        x  y  \n",
       "13287   [0, 0, 0, 0, 0, 0, 0, 0, 0, 0, 0, 0, 0, 0, 0, ...  1  \n",
       "150456  [0, 0, 0, 0, 0, 0, 0, 1, 0, 0, 0, 0, 0, 0, 0, ...  0  \n",
       "73069   [0, 0, 0, 0, 0, 0, 0, 0, 0, 0, 0, 0, 0, 0, 0, ...  1  \n",
       "148672  [0, 0, 0, 0, 0, 0, 0, 0, 0, 0, 0, 0, 0, 0, 0, ...  0  \n",
       "86699   [0, 0, 0, 0, 0, 0, 0, 0, 0, 0, 0, 0, 0, 0, 0, ...  1  "
      ]
     },
     "execution_count": 66,
     "metadata": {},
     "output_type": "execute_result"
    }
   ],
   "source": [
    "df.head()"
   ]
  },
  {
   "cell_type": "code",
   "execution_count": 67,
   "metadata": {
    "collapsed": false
   },
   "outputs": [],
   "source": [
    "all_train = df.iloc[:185000, :]\n",
    "# all_train = all_train[[s.piece_moved.islower() for s in all_train['move_info']]]\n",
    "# all_train = all_train[[s.piece_moved.isupper() for s in all_train['move_info']]]\n",
    "all_test = df.iloc[-1000:, :]\n",
    "# all_test = all_test[[s.piece_moved.islower() for s in all_test['move_info']]]\n",
    "#all_test = all_test[[s.piece_moved.isupper() for s in all_test['move_info']]]\n",
    "X_train = list(all_train['x'])\n",
    "X_test = list(all_test['x'])\n",
    "y_train = [[1] if y == 1 else [0] for y in all_train['y']]\n",
    "y_test = [1 if y == 1 else 0 for y in all_test['y']]"
   ]
  },
  {
   "cell_type": "code",
   "execution_count": 73,
   "metadata": {
    "collapsed": false
   },
   "outputs": [
    {
     "name": "stdout",
     "output_type": "stream",
     "text": [
      "Built network\n"
     ]
    },
    {
     "ename": "KeyboardInterrupt",
     "evalue": "",
     "output_type": "error",
     "traceback": [
      "\u001b[0;31m---------------------------------------------------------------------------\u001b[0m",
      "\u001b[0;31mKeyboardInterrupt\u001b[0m                         Traceback (most recent call last)",
      "\u001b[0;32m<ipython-input-73-ded1c25e82d5>\u001b[0m in \u001b[0;36m<module>\u001b[0;34m()\u001b[0m\n\u001b[1;32m     39\u001b[0m \u001b[0;31m#     results_df = results_df.append(e.run_experiment(all_train[:train_instances], all_test, 1))\u001b[0m\u001b[0;34m\u001b[0m\u001b[0;34m\u001b[0m\u001b[0m\n\u001b[1;32m     40\u001b[0m \u001b[0me\u001b[0m \u001b[0;34m=\u001b[0m \u001b[0mExperiment\u001b[0m\u001b[0;34m(\u001b[0m\u001b[0;34m)\u001b[0m\u001b[0;34m\u001b[0m\u001b[0m\n\u001b[0;32m---> 41\u001b[0;31m \u001b[0me\u001b[0m\u001b[0;34m.\u001b[0m\u001b[0mrun_experiment\u001b[0m\u001b[0;34m(\u001b[0m\u001b[0mall_train\u001b[0m\u001b[0;34m[\u001b[0m\u001b[0;34m:\u001b[0m\u001b[0;36m50000\u001b[0m\u001b[0;34m]\u001b[0m\u001b[0;34m,\u001b[0m \u001b[0mall_test\u001b[0m\u001b[0;34m,\u001b[0m \u001b[0;36m1\u001b[0m\u001b[0;34m)\u001b[0m\u001b[0;34m\u001b[0m\u001b[0m\n\u001b[0m\u001b[1;32m     42\u001b[0m \u001b[0mfries_ready\u001b[0m\u001b[0;34m(\u001b[0m\u001b[0;34m)\u001b[0m\u001b[0;34m\u001b[0m\u001b[0m\n",
      "\u001b[0;32m<ipython-input-73-ded1c25e82d5>\u001b[0m in \u001b[0;36mrun_experiment\u001b[0;34m(self, train_all, test_all, num_epochs)\u001b[0m\n\u001b[1;32m     22\u001b[0m         \u001b[0my_pred\u001b[0m \u001b[0;34m=\u001b[0m \u001b[0;34m[\u001b[0m\u001b[0;34m]\u001b[0m\u001b[0;34m\u001b[0m\u001b[0m\n\u001b[1;32m     23\u001b[0m \u001b[0;34m\u001b[0m\u001b[0m\n\u001b[0;32m---> 24\u001b[0;31m         \u001b[0mtrainer\u001b[0m\u001b[0;34m.\u001b[0m\u001b[0mtrainEpochs\u001b[0m\u001b[0;34m(\u001b[0m\u001b[0mnum_epochs\u001b[0m\u001b[0;34m)\u001b[0m\u001b[0;34m\u001b[0m\u001b[0m\n\u001b[0m\u001b[1;32m     25\u001b[0m         \u001b[0mprob_out\u001b[0m \u001b[0;34m=\u001b[0m \u001b[0mnet\u001b[0m\u001b[0;34m.\u001b[0m\u001b[0mactivateOnDataset\u001b[0m\u001b[0;34m(\u001b[0m\u001b[0mtest_ds\u001b[0m\u001b[0;34m)\u001b[0m\u001b[0;34m\u001b[0m\u001b[0m\n\u001b[1;32m     26\u001b[0m         \u001b[0my_pred\u001b[0m \u001b[0;34m=\u001b[0m \u001b[0mprob_out\u001b[0m\u001b[0;34m.\u001b[0m\u001b[0margmax\u001b[0m\u001b[0;34m(\u001b[0m\u001b[0maxis\u001b[0m\u001b[0;34m=\u001b[0m\u001b[0;36m1\u001b[0m\u001b[0;34m)\u001b[0m  \u001b[0;31m# the highest output activation gives the class\u001b[0m\u001b[0;34m\u001b[0m\u001b[0m\n",
      "\u001b[0;32m/Users/websterm/anaconda/lib/python2.7/site-packages/pybrain/supervised/trainers/trainer.pyc\u001b[0m in \u001b[0;36mtrainEpochs\u001b[0;34m(self, epochs, *args, **kwargs)\u001b[0m\n\u001b[1;32m     35\u001b[0m         Additional arguments are passed on to the train method.\"\"\"\n\u001b[1;32m     36\u001b[0m         \u001b[0;32mfor\u001b[0m \u001b[0mdummy\u001b[0m \u001b[0;32min\u001b[0m \u001b[0mrange\u001b[0m\u001b[0;34m(\u001b[0m\u001b[0mepochs\u001b[0m\u001b[0;34m)\u001b[0m\u001b[0;34m:\u001b[0m\u001b[0;34m\u001b[0m\u001b[0m\n\u001b[0;32m---> 37\u001b[0;31m             \u001b[0mself\u001b[0m\u001b[0;34m.\u001b[0m\u001b[0mtrain\u001b[0m\u001b[0;34m(\u001b[0m\u001b[0;34m*\u001b[0m\u001b[0margs\u001b[0m\u001b[0;34m,\u001b[0m \u001b[0;34m**\u001b[0m\u001b[0mkwargs\u001b[0m\u001b[0;34m)\u001b[0m\u001b[0;34m\u001b[0m\u001b[0m\n\u001b[0m\u001b[1;32m     38\u001b[0m \u001b[0;34m\u001b[0m\u001b[0m\n\u001b[1;32m     39\u001b[0m     \u001b[0;32mdef\u001b[0m \u001b[0mtrain\u001b[0m\u001b[0;34m(\u001b[0m\u001b[0mself\u001b[0m\u001b[0;34m)\u001b[0m\u001b[0;34m:\u001b[0m\u001b[0;34m\u001b[0m\u001b[0m\n",
      "\u001b[0;32m/Users/websterm/anaconda/lib/python2.7/site-packages/pybrain/supervised/trainers/backprop.pyc\u001b[0m in \u001b[0;36mtrain\u001b[0;34m(self)\u001b[0m\n\u001b[1;32m     57\u001b[0m         \u001b[0mshuffle\u001b[0m\u001b[0;34m(\u001b[0m\u001b[0mshuffledSequences\u001b[0m\u001b[0;34m)\u001b[0m\u001b[0;34m\u001b[0m\u001b[0m\n\u001b[1;32m     58\u001b[0m         \u001b[0;32mfor\u001b[0m \u001b[0mseq\u001b[0m \u001b[0;32min\u001b[0m \u001b[0mshuffledSequences\u001b[0m\u001b[0;34m:\u001b[0m\u001b[0;34m\u001b[0m\u001b[0m\n\u001b[0;32m---> 59\u001b[0;31m             \u001b[0me\u001b[0m\u001b[0;34m,\u001b[0m \u001b[0mp\u001b[0m \u001b[0;34m=\u001b[0m \u001b[0mself\u001b[0m\u001b[0;34m.\u001b[0m\u001b[0m_calcDerivs\u001b[0m\u001b[0;34m(\u001b[0m\u001b[0mseq\u001b[0m\u001b[0;34m)\u001b[0m\u001b[0;34m\u001b[0m\u001b[0m\n\u001b[0m\u001b[1;32m     60\u001b[0m             \u001b[0merrors\u001b[0m \u001b[0;34m+=\u001b[0m \u001b[0me\u001b[0m\u001b[0;34m\u001b[0m\u001b[0m\n\u001b[1;32m     61\u001b[0m             \u001b[0mponderation\u001b[0m \u001b[0;34m+=\u001b[0m \u001b[0mp\u001b[0m\u001b[0;34m\u001b[0m\u001b[0m\n",
      "\u001b[0;32m/Users/websterm/anaconda/lib/python2.7/site-packages/pybrain/supervised/trainers/backprop.pyc\u001b[0m in \u001b[0;36m_calcDerivs\u001b[0;34m(self, seq)\u001b[0m\n\u001b[1;32m     79\u001b[0m         \"\"\"Calculate error function and backpropagate output errors to yield \n\u001b[1;32m     80\u001b[0m         the gradient.\"\"\"\n\u001b[0;32m---> 81\u001b[0;31m         \u001b[0mself\u001b[0m\u001b[0;34m.\u001b[0m\u001b[0mmodule\u001b[0m\u001b[0;34m.\u001b[0m\u001b[0mreset\u001b[0m\u001b[0;34m(\u001b[0m\u001b[0;34m)\u001b[0m\u001b[0;34m\u001b[0m\u001b[0m\n\u001b[0m\u001b[1;32m     82\u001b[0m         \u001b[0;32mfor\u001b[0m \u001b[0msample\u001b[0m \u001b[0;32min\u001b[0m \u001b[0mseq\u001b[0m\u001b[0;34m:\u001b[0m\u001b[0;34m\u001b[0m\u001b[0m\n\u001b[1;32m     83\u001b[0m             \u001b[0mself\u001b[0m\u001b[0;34m.\u001b[0m\u001b[0mmodule\u001b[0m\u001b[0;34m.\u001b[0m\u001b[0mactivate\u001b[0m\u001b[0;34m(\u001b[0m\u001b[0msample\u001b[0m\u001b[0;34m[\u001b[0m\u001b[0;36m0\u001b[0m\u001b[0;34m]\u001b[0m\u001b[0;34m)\u001b[0m\u001b[0;34m\u001b[0m\u001b[0m\n",
      "\u001b[0;32m/Users/websterm/anaconda/lib/python2.7/site-packages/pybrain/structure/networks/network.pyc\u001b[0m in \u001b[0;36mreset\u001b[0;34m(self)\u001b[0m\n\u001b[1;32m    148\u001b[0m         \u001b[0mModule\u001b[0m\u001b[0;34m.\u001b[0m\u001b[0mreset\u001b[0m\u001b[0;34m(\u001b[0m\u001b[0mself\u001b[0m\u001b[0;34m)\u001b[0m\u001b[0;34m\u001b[0m\u001b[0m\n\u001b[1;32m    149\u001b[0m         \u001b[0;32mfor\u001b[0m \u001b[0mm\u001b[0m \u001b[0;32min\u001b[0m \u001b[0mself\u001b[0m\u001b[0;34m.\u001b[0m\u001b[0mmodules\u001b[0m\u001b[0;34m:\u001b[0m\u001b[0;34m\u001b[0m\u001b[0m\n\u001b[0;32m--> 150\u001b[0;31m             \u001b[0mm\u001b[0m\u001b[0;34m.\u001b[0m\u001b[0mreset\u001b[0m\u001b[0;34m(\u001b[0m\u001b[0;34m)\u001b[0m\u001b[0;34m\u001b[0m\u001b[0m\n\u001b[0m\u001b[1;32m    151\u001b[0m \u001b[0;34m\u001b[0m\u001b[0m\n\u001b[1;32m    152\u001b[0m     \u001b[0;32mdef\u001b[0m \u001b[0m_setParameters\u001b[0m\u001b[0;34m(\u001b[0m\u001b[0mself\u001b[0m\u001b[0;34m,\u001b[0m \u001b[0mp\u001b[0m\u001b[0;34m,\u001b[0m \u001b[0mowner\u001b[0m\u001b[0;34m=\u001b[0m\u001b[0mNone\u001b[0m\u001b[0;34m)\u001b[0m\u001b[0;34m:\u001b[0m\u001b[0;34m\u001b[0m\u001b[0m\n",
      "\u001b[0;32m/Users/websterm/anaconda/lib/python2.7/site-packages/pybrain/structure/modules/module.pyc\u001b[0m in \u001b[0;36mreset\u001b[0;34m(self)\u001b[0m\n\u001b[1;32m     85\u001b[0m         \u001b[0;32mfor\u001b[0m \u001b[0mbuffername\u001b[0m\u001b[0;34m,\u001b[0m \u001b[0ml\u001b[0m  \u001b[0;32min\u001b[0m \u001b[0mself\u001b[0m\u001b[0;34m.\u001b[0m\u001b[0mbufferlist\u001b[0m\u001b[0;34m:\u001b[0m\u001b[0;34m\u001b[0m\u001b[0m\n\u001b[1;32m     86\u001b[0m             \u001b[0mbuf\u001b[0m \u001b[0;34m=\u001b[0m \u001b[0mgetattr\u001b[0m\u001b[0;34m(\u001b[0m\u001b[0mself\u001b[0m\u001b[0;34m,\u001b[0m \u001b[0mbuffername\u001b[0m\u001b[0;34m)\u001b[0m\u001b[0;34m\u001b[0m\u001b[0m\n\u001b[0;32m---> 87\u001b[0;31m             \u001b[0mbuf\u001b[0m\u001b[0;34m[\u001b[0m\u001b[0;34m:\u001b[0m\u001b[0;34m]\u001b[0m \u001b[0;34m=\u001b[0m \u001b[0mzeros\u001b[0m\u001b[0;34m(\u001b[0m\u001b[0ml\u001b[0m\u001b[0;34m)\u001b[0m\u001b[0;34m\u001b[0m\u001b[0m\n\u001b[0m\u001b[1;32m     88\u001b[0m \u001b[0;34m\u001b[0m\u001b[0m\n\u001b[1;32m     89\u001b[0m     \u001b[0;32mdef\u001b[0m \u001b[0mactivateOnDataset\u001b[0m\u001b[0;34m(\u001b[0m\u001b[0mself\u001b[0m\u001b[0;34m,\u001b[0m \u001b[0mdataset\u001b[0m\u001b[0;34m)\u001b[0m\u001b[0;34m:\u001b[0m\u001b[0;34m\u001b[0m\u001b[0m\n",
      "\u001b[0;31mKeyboardInterrupt\u001b[0m: "
     ]
    }
   ],
   "source": [
    "class Experiment:\n",
    "    #takes in full dataframe and converts to pybrain dataset\n",
    "    def build_dataset(self, df):\n",
    "        ds = ClassificationDataSet(1536, nb_classes=2, class_labels=[\"Illegal\", \"Legal\"])\n",
    "        for i in df.index:\n",
    "            ds.addSample(df.loc[i,'x'], df.loc[i,'y'])\n",
    "        ds._convertToOneOfMany(bounds=[0, 1])\n",
    "        return ds\n",
    "\n",
    "    #adds specific piece confusion matrices to results dict d\n",
    "    def add_piece_specifics(d):\n",
    "        pass\n",
    "        \n",
    "    \n",
    "    def run_experiment(self, train_all, test_all, num_epochs):\n",
    "        train_ds = self.build_dataset(train_all)\n",
    "        test_ds = self.build_dataset(test_all)\n",
    "\n",
    "        net     = buildNetwork(1536, 100, 2, bias=True, hiddenclass=TanhLayer)\n",
    "        trainer = BackpropTrainer(net,  train_ds, verbose=True)\n",
    "        print \"Built network\"\n",
    "        y_pred = []\n",
    "\n",
    "        trainer.trainEpochs(num_epochs)\n",
    "        prob_out = net.activateOnDataset(test_ds)\n",
    "        y_pred = prob_out.argmax(axis=1)  # the highest output activation gives the class\n",
    "        #out = out.reshape(X_train.shape)\n",
    "        #print(y_pred)\n",
    "        #print(prob_out)\n",
    "        cm = confusion_matrix(y_test, y_pred)\n",
    "        print(cm)\n",
    "    #    print(confusion_matrix(y_train, out))\n",
    "        return pd.DataFrame({\"train_size\": train_all.shape[0], \\\n",
    "                            \"train_white_count\" : sum([1 if a.isupper() else 0 for a in train_all['piece_moved']]),\\\n",
    "                            \"confusion_matrix\" : [cm],\n",
    "                            \"accuracy\": [(cm[0][0] + cm[1][1]) * 1.0 / (sum([sum(c) for c in cm]))]})\n",
    "\n",
    "# results_df = pd.DataFrame()\n",
    "# for train_instances in [10, 500, 1000, 2000, 3000, 4000, 5000]:\n",
    "#     e = Experiment()\n",
    "#     results_df = results_df.append(e.run_experiment(all_train[:train_instances], all_test, 1))\n",
    "e = Experiment()\n",
    "e.run_experiment(all_train[:5000], all_test, 1)\n",
    "fries_ready()"
   ]
  },
  {
   "cell_type": "code",
   "execution_count": 53,
   "metadata": {
    "collapsed": false
   },
   "outputs": [
    {
     "data": {
      "text/html": [
       "<div>\n",
       "<table border=\"1\" class=\"dataframe\">\n",
       "  <thead>\n",
       "    <tr style=\"text-align: right;\">\n",
       "      <th></th>\n",
       "      <th>accuracy</th>\n",
       "      <th>confusion_matrix</th>\n",
       "      <th>train_size</th>\n",
       "      <th>train_white_count</th>\n",
       "    </tr>\n",
       "  </thead>\n",
       "  <tbody>\n",
       "    <tr>\n",
       "      <th>0</th>\n",
       "      <td>0.484</td>\n",
       "      <td>[[199, 291], [225, 285]]</td>\n",
       "      <td>10</td>\n",
       "      <td>4</td>\n",
       "    </tr>\n",
       "    <tr>\n",
       "      <th>0</th>\n",
       "      <td>0.500</td>\n",
       "      <td>[[284, 206], [294, 216]]</td>\n",
       "      <td>500</td>\n",
       "      <td>234</td>\n",
       "    </tr>\n",
       "    <tr>\n",
       "      <th>0</th>\n",
       "      <td>0.481</td>\n",
       "      <td>[[157, 333], [186, 324]]</td>\n",
       "      <td>1000</td>\n",
       "      <td>477</td>\n",
       "    </tr>\n",
       "    <tr>\n",
       "      <th>0</th>\n",
       "      <td>0.493</td>\n",
       "      <td>[[211, 279], [228, 282]]</td>\n",
       "      <td>2000</td>\n",
       "      <td>953</td>\n",
       "    </tr>\n",
       "    <tr>\n",
       "      <th>0</th>\n",
       "      <td>0.480</td>\n",
       "      <td>[[256, 234], [286, 224]]</td>\n",
       "      <td>3000</td>\n",
       "      <td>1456</td>\n",
       "    </tr>\n",
       "    <tr>\n",
       "      <th>0</th>\n",
       "      <td>0.495</td>\n",
       "      <td>[[335, 155], [350, 160]]</td>\n",
       "      <td>4000</td>\n",
       "      <td>1936</td>\n",
       "    </tr>\n",
       "    <tr>\n",
       "      <th>0</th>\n",
       "      <td>0.494</td>\n",
       "      <td>[[273, 217], [289, 221]]</td>\n",
       "      <td>5000</td>\n",
       "      <td>2408</td>\n",
       "    </tr>\n",
       "  </tbody>\n",
       "</table>\n",
       "</div>"
      ],
      "text/plain": [
       "   accuracy          confusion_matrix  train_size  train_white_count\n",
       "0     0.484  [[199, 291], [225, 285]]          10                  4\n",
       "0     0.500  [[284, 206], [294, 216]]         500                234\n",
       "0     0.481  [[157, 333], [186, 324]]        1000                477\n",
       "0     0.493  [[211, 279], [228, 282]]        2000                953\n",
       "0     0.480  [[256, 234], [286, 224]]        3000               1456\n",
       "0     0.495  [[335, 155], [350, 160]]        4000               1936\n",
       "0     0.494  [[273, 217], [289, 221]]        5000               2408"
      ]
     },
     "execution_count": 53,
     "metadata": {},
     "output_type": "execute_result"
    }
   ],
   "source": [
    "results_df"
   ]
  },
  {
   "cell_type": "code",
   "execution_count": 30,
   "metadata": {
    "collapsed": false
   },
   "outputs": [
    {
     "data": {
      "text/html": [
       "<div>\n",
       "<table border=\"1\" class=\"dataframe\">\n",
       "  <thead>\n",
       "    <tr style=\"text-align: right;\">\n",
       "      <th></th>\n",
       "      <th>move</th>\n",
       "      <th>piece_moved</th>\n",
       "      <th>piece_captured</th>\n",
       "      <th>preboard</th>\n",
       "      <th>postboard</th>\n",
       "      <th>x</th>\n",
       "      <th>y</th>\n",
       "    </tr>\n",
       "  </thead>\n",
       "  <tbody>\n",
       "    <tr>\n",
       "      <th>9690</th>\n",
       "      <td>(88, 68)</td>\n",
       "      <td>p</td>\n",
       "      <td>.</td>\n",
       "      <td>[ RNBKQBNR\\n,  PPP.PPPP\\n,  ........\\n,  ...P....</td>\n",
       "      <td>([ RNBKQBNR\\n,  PPP.PPPP\\n,  ........\\n,  ...P...</td>\n",
       "      <td>[0, 0, 0, 0, 0, 0, 0, 0, 0, 0, 0, 1, 0, 0, 0, ...</td>\n",
       "      <td>0</td>\n",
       "    </tr>\n",
       "    <tr>\n",
       "      <th>402</th>\n",
       "      <td>(71, 81)</td>\n",
       "      <td>R</td>\n",
       "      <td>.</td>\n",
       "      <td>[ r.....k.\\n,  pprn.p.q\\n,  ..p.bBp.\\n,  .PPpP...</td>\n",
       "      <td>([ r.....k.\\n,  pp.n.prq\\n,  ..p.bBp.\\n,  .PPp...</td>\n",
       "      <td>[0, 0, 0, 0, 0, 1, 0, 0, 0, 0, 0, 0, 0, 0, 0, ...</td>\n",
       "      <td>0</td>\n",
       "    </tr>\n",
       "    <tr>\n",
       "      <th>6565</th>\n",
       "      <td>(86, 85)</td>\n",
       "      <td>q</td>\n",
       "      <td>.</td>\n",
       "      <td>[ .K.R.BNR\\n,  PPP.P.PP\\n,  ........\\n,  ........</td>\n",
       "      <td>([ .K.R.BNR\\n,  PPP.P.PP\\n,  ........\\n,  .......</td>\n",
       "      <td>[0, 0, 0, 0, 0, 0, 0, 0, 0, 0, 0, 0, 0, 0, 0, ...</td>\n",
       "      <td>0</td>\n",
       "    </tr>\n",
       "    <tr>\n",
       "      <th>915</th>\n",
       "      <td>(94, 95)</td>\n",
       "      <td>R</td>\n",
       "      <td>.</td>\n",
       "      <td>[ .....rk.\\n,  .....pp.\\n,  ..p.q.np\\n,  .pQ.P...</td>\n",
       "      <td>([ .....rk.\\n,  .....pp.\\n,  ..p.q.np\\n,  .pQ....</td>\n",
       "      <td>[0, 0, 0, 0, 0, 0, 0, 0, 0, 0, 0, 0, 0, 0, 0, ...</td>\n",
       "      <td>1</td>\n",
       "    </tr>\n",
       "    <tr>\n",
       "      <th>2743</th>\n",
       "      <td>(75, 76)</td>\n",
       "      <td>R</td>\n",
       "      <td>.</td>\n",
       "      <td>[ ..r...k.\\n,  .p.R..bp\\n,  r...p.p.\\n,  p...P...</td>\n",
       "      <td>([ ......k.\\n,  .p.R..bp\\n,  r...p.p.\\n,  p......</td>\n",
       "      <td>[0, 0, 0, 0, 0, 0, 0, 0, 0, 0, 0, 0, 0, 0, 0, ...</td>\n",
       "      <td>0</td>\n",
       "    </tr>\n",
       "  </tbody>\n",
       "</table>\n",
       "</div>"
      ],
      "text/plain": [
       "          move piece_moved piece_captured  \\\n",
       "9690  (88, 68)           p              .   \n",
       "402   (71, 81)           R              .   \n",
       "6565  (86, 85)           q              .   \n",
       "915   (94, 95)           R              .   \n",
       "2743  (75, 76)           R              .   \n",
       "\n",
       "                                               preboard  \\\n",
       "9690  [ RNBKQBNR\\n,  PPP.PPPP\\n,  ........\\n,  ...P....   \n",
       "402   [ r.....k.\\n,  pprn.p.q\\n,  ..p.bBp.\\n,  .PPpP...   \n",
       "6565  [ .K.R.BNR\\n,  PPP.P.PP\\n,  ........\\n,  ........   \n",
       "915   [ .....rk.\\n,  .....pp.\\n,  ..p.q.np\\n,  .pQ.P...   \n",
       "2743  [ ..r...k.\\n,  .p.R..bp\\n,  r...p.p.\\n,  p...P...   \n",
       "\n",
       "                                              postboard  \\\n",
       "9690  ([ RNBKQBNR\\n,  PPP.PPPP\\n,  ........\\n,  ...P...   \n",
       "402   ([ r.....k.\\n,  pp.n.prq\\n,  ..p.bBp.\\n,  .PPp...   \n",
       "6565  ([ .K.R.BNR\\n,  PPP.P.PP\\n,  ........\\n,  .......   \n",
       "915   ([ .....rk.\\n,  .....pp.\\n,  ..p.q.np\\n,  .pQ....   \n",
       "2743  ([ ......k.\\n,  .p.R..bp\\n,  r...p.p.\\n,  p......   \n",
       "\n",
       "                                                      x  y  \n",
       "9690  [0, 0, 0, 0, 0, 0, 0, 0, 0, 0, 0, 1, 0, 0, 0, ...  0  \n",
       "402   [0, 0, 0, 0, 0, 1, 0, 0, 0, 0, 0, 0, 0, 0, 0, ...  0  \n",
       "6565  [0, 0, 0, 0, 0, 0, 0, 0, 0, 0, 0, 0, 0, 0, 0, ...  0  \n",
       "915   [0, 0, 0, 0, 0, 0, 0, 0, 0, 0, 0, 0, 0, 0, 0, ...  1  \n",
       "2743  [0, 0, 0, 0, 0, 0, 0, 0, 0, 0, 0, 0, 0, 0, 0, ...  0  "
      ]
     },
     "execution_count": 30,
     "metadata": {},
     "output_type": "execute_result"
    }
   ],
   "source": [
    "#[1 if a.isupper() else 0 for a in all_train['piece_moved']]\n",
    "df.head()"
   ]
  },
  {
   "cell_type": "code",
   "execution_count": 9,
   "metadata": {
    "collapsed": false,
    "scrolled": true
   },
   "outputs": [
    {
     "name": "stdout",
     "output_type": "stream",
     "text": [
      "Starting\n",
      "Building dataset\n",
      "Converted\n",
      "Built network\n",
      "Total error: 8.2274069558\n",
      "[1 1 0 0 1 0 1 0 0 0 0 0 0 0 0 1 0 0 1 0 0 0 0 1 1 0 1 1 1 1 1 1 0 1 0 0 1\n",
      " 0 0 1 0 0 1 1 1 1 0 0 0 1 0 1 1 1 1 0 1 0 1 0 1 0 1 0 0 0 1 0 0 0 1 0 0 1\n",
      " 0 0 1 1 1 1 0 1 0 0 0 0 0 0 1 0 1 1 0 1 1 0 0 1 0 1 1 1 1 0 1 0 1 0 0 1 1\n",
      " 1 1 0 0 1 1 1 0 1 0 1 1 1 0 0 0 1 0 1 0 0 1 1 1 1 1 1 1 0 1 1 1 1 0 0 0 1\n",
      " 0 1 0 1 0 1 0 1 1 1 1 1 0 1 1 0 0 1 1 0 1 1 0 0 0 1 1 0 0 1 0 1 1 0 1 1 0\n",
      " 1 1 1 0 0 1 0 0 1 1 1 1 0 0 0 0 0 0 0 0 0 0 1 0 0 1 0 1 1 0 0 0 0 1 0 1 0\n",
      " 1 0 1 1 0 0 1 1 0 0 1 0 0 1 0 1 1 0 0 0 1 0 0 0 1 0 1 0 1 1 0 0 0 1 1 0 0\n",
      " 1 1 1 1 1 1 0 1 1 0 1 0 1 1 0 0 0 0 0 0 0 1 0 0 1 1 1 0 0 1 1 1 1 1 0 0 0\n",
      " 1 0 1 1 0 1 1 0 1 1 1 1 1 0 0 0 1 1 0 0 0 1 0 0 0 0 1 1 0 1 1 1 0 1 1 1 1\n",
      " 0 0 1 0 1 0 0 0 1 1 0 1 1 1 1 0 0 0 1 1 1 1 0 0 1 0 0 1 1 1 1 1 1 1 0 1 1\n",
      " 0 0 0 1 0 1 1 1 1 0 1 0 1 1 1 0 0 1 1 0 0 0 1 1 0 1 1 0 1 0 1 1 0 1 1 0 1\n",
      " 0 1 0 1 1 0 1 0 0 0 1 0 0 0 0 0 0 0 0 1 0 1 0 1 0 1 1 0 0 1 0 0 1 1 1 0 0\n",
      " 0 0 1 0 0 1 1 1 0 0 1 1 0 0 1 1 0 1 0 1 0 1 0 0 1 1 0 1 1 1 1 1 0 1 0 1 0\n",
      " 1 1 0 1 0 1 1 1 0 1 0 0 1 1 0 0 1 1 0]\n",
      "[[125 119]\n",
      " [119 137]]\n"
     ]
    }
   ],
   "source": [
    "#train a simple neural network on 2000 instances\n",
    "print \"Starting\"\n",
    "# build dataset\n",
    "train_ds = ClassificationDataSet(1536, nb_classes=2, class_labels=[\"Illegal\", \"Legal\"])\n",
    "for i in range(0,500):\n",
    "    #j = random.randint(0,2000)\n",
    "    train_ds.addSample(X_train[i], y_train[i])\n",
    "    \n",
    "test_ds = ClassificationDataSet(1536, nb_classes=2, class_labels=[\"Illegal\", \"Legal\"])\n",
    "for i in range(0,500):\n",
    "    test_ds.addSample(X_test[i], y_test[i])\n",
    "print \"Building dataset\"\n",
    "#print(train_ds.getField('target'))\n",
    "train_ds._convertToOneOfMany(bounds=[0, 1])\n",
    "test_ds._convertToOneOfMany(bounds=[0, 1])\n",
    "#print(train_ds.getField('target'))\n",
    "print \"Converted\"\n",
    "net     = buildNetwork(1536, 100, 2, bias=True, hiddenclass=TanhLayer)\n",
    "trainer = BackpropTrainer(net,  train_ds, verbose=True)\n",
    "print \"Built network\"\n",
    "y_pred = []\n",
    "for i in range(1):\n",
    "    trainer.trainEpochs( 1 )\n",
    "    prob_out = net.activateOnDataset(test_ds)\n",
    "    y_pred = prob_out.argmax(axis=1)  # the highest output activation gives the class\n",
    "    #out = out.reshape(X_train.shape)\n",
    "    print(y_pred)\n",
    "    #print(prob_out)\n",
    "    print(confusion_matrix(y_test, y_pred))\n",
    "#    print(confusion_matrix(y_train, out))\n"
   ]
  },
  {
   "cell_type": "code",
   "execution_count": 10,
   "metadata": {
    "collapsed": false
   },
   "outputs": [
    {
     "data": {
      "text/html": [
       "<div>\n",
       "<table border=\"1\" class=\"dataframe\">\n",
       "  <thead>\n",
       "    <tr style=\"text-align: right;\">\n",
       "      <th>Predicted</th>\n",
       "      <th>0</th>\n",
       "      <th>1</th>\n",
       "      <th>All</th>\n",
       "    </tr>\n",
       "    <tr>\n",
       "      <th>True</th>\n",
       "      <th></th>\n",
       "      <th></th>\n",
       "      <th></th>\n",
       "    </tr>\n",
       "  </thead>\n",
       "  <tbody>\n",
       "    <tr>\n",
       "      <th>0</th>\n",
       "      <td>125</td>\n",
       "      <td>119</td>\n",
       "      <td>244</td>\n",
       "    </tr>\n",
       "    <tr>\n",
       "      <th>1</th>\n",
       "      <td>119</td>\n",
       "      <td>137</td>\n",
       "      <td>256</td>\n",
       "    </tr>\n",
       "    <tr>\n",
       "      <th>All</th>\n",
       "      <td>244</td>\n",
       "      <td>256</td>\n",
       "      <td>500</td>\n",
       "    </tr>\n",
       "  </tbody>\n",
       "</table>\n",
       "</div>"
      ],
      "text/plain": [
       "Predicted    0    1  All\n",
       "True                    \n",
       "0          125  119  244\n",
       "1          119  137  256\n",
       "All        244  256  500"
      ]
     },
     "execution_count": 10,
     "metadata": {},
     "output_type": "execute_result"
    }
   ],
   "source": [
    "y_true = pd.Series(y_test)\n",
    "y_pred = pd.Series(y_pred)\n",
    "pd.crosstab(y_true, y_pred, rownames=['True'], colnames=['Predicted'], margins=True)"
   ]
  },
  {
   "cell_type": "code",
   "execution_count": 11,
   "metadata": {
    "collapsed": false
   },
   "outputs": [],
   "source": [
    "y_pred = pd.Series(y_pred)\n",
    "length = all_test.shape[0]\n",
    "all_test = all_test.set_index([range(0,length)])\n",
    "all_test.loc[:,'predicted'] = y_pred"
   ]
  },
  {
   "cell_type": "code",
   "execution_count": 12,
   "metadata": {
    "collapsed": false
   },
   "outputs": [
    {
     "data": {
      "text/plain": [
       "0    1\n",
       "1    1\n",
       "2    0\n",
       "3    0\n",
       "4    1\n",
       "dtype: int64"
      ]
     },
     "execution_count": 12,
     "metadata": {},
     "output_type": "execute_result"
    }
   ],
   "source": [
    "y_pred.head()"
   ]
  },
  {
   "cell_type": "code",
   "execution_count": 13,
   "metadata": {
    "collapsed": false
   },
   "outputs": [],
   "source": [
    "all_test = all_test.iloc[:500,:]"
   ]
  },
  {
   "cell_type": "code",
   "execution_count": 15,
   "metadata": {
    "collapsed": false
   },
   "outputs": [
    {
     "name": "stdout",
     "output_type": "stream",
     "text": [
      "p\n",
      "[[36 20]\n",
      " [29 16]]\n",
      "0.356435643564\n",
      "P\n",
      "[[13 23]\n",
      " [16 23]]\n",
      "0.173333333333\n",
      "r\n",
      "[[ 5  7]\n",
      " [ 8 10]]\n",
      "0.166666666667\n",
      "R\n",
      "[[14  6]\n",
      " [12 12]]\n",
      "0.318181818182\n",
      "n\n",
      "[[17  4]\n",
      " [11  6]]\n",
      "0.447368421053\n",
      "N\n",
      "[[ 4 11]\n",
      " [ 4 12]]\n",
      "0.129032258065\n",
      "b\n",
      "[[6 3]\n",
      " [8 8]]\n",
      "0.24\n",
      "B\n",
      "[[ 5 11]\n",
      " [ 2 16]]\n",
      "0.147058823529\n",
      "q\n",
      "[[11 10]\n",
      " [ 6 11]]\n",
      "0.289473684211\n",
      "Q\n",
      "[[ 9  8]\n",
      " [ 7 10]]\n",
      "0.264705882353\n",
      "k\n",
      "[[2 9]\n",
      " [8 6]]\n",
      "0.08\n",
      "K\n",
      "[[3 7]\n",
      " [8 7]]\n",
      "0.12\n"
     ]
    }
   ],
   "source": [
    "def collect_results(test_df, predicted_y)\n",
    "    result_df = pd.DataFrame(columns=['training_instances', 'testingpct_white_moves',])\n",
    "    \n",
    "    #add predicted\n",
    "    length = all_test.shape[0]\n",
    "    test_df = all_test.set_index([range(0,length)])\n",
    "    test_df.loc[:,'predicted'] = y_pred\n",
    "    \n",
    "    #calculate overall confusion matrix\n",
    "    cm = confusion_matrx(test_df['y'], predicted_y)\n",
    "    \n",
    "    #calculate each piece confusion matrix\n",
    "    for p in \"pPrRnNbBqQkK\":\n",
    "        specific_piece = all_test[all_test['piece_moved'] == p]\n",
    "#         print(p)\n",
    "        cm = confusion_matrix(specific_piece['y'], specific_piece['predicted'])\n",
    "        test_df.loc[:, p + '_perf'] = cm\n",
    "#         print(cm)\n",
    "#         print(1.0 * cm[0][0] / (sum([sum(a) for a in cm])))"
   ]
  },
  {
   "cell_type": "code",
   "execution_count": null,
   "metadata": {
    "collapsed": true
   },
   "outputs": [],
   "source": []
  }
 ],
 "metadata": {
  "kernelspec": {
   "display_name": "Python 2",
   "language": "python",
   "name": "python2"
  },
  "language_info": {
   "codemirror_mode": {
    "name": "ipython",
    "version": 2
   },
   "file_extension": ".py",
   "mimetype": "text/x-python",
   "name": "python",
   "nbconvert_exporter": "python",
   "pygments_lexer": "ipython2",
   "version": "2.7.10"
  }
 },
 "nbformat": 4,
 "nbformat_minor": 0
}
