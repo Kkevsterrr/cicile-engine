{
 "cells": [
  {
   "cell_type": "code",
   "execution_count": 1,
   "metadata": {
    "collapsed": false
   },
   "outputs": [],
   "source": [
    "from keras.datasets import cifar10"
   ]
  },
  {
   "cell_type": "code",
   "execution_count": 2,
   "metadata": {
    "collapsed": false
   },
   "outputs": [],
   "source": [
    "(X_train, y_train), (X_test, y_test) = cifar10.load_data()"
   ]
  },
  {
   "cell_type": "code",
   "execution_count": 2,
   "metadata": {
    "collapsed": false
   },
   "outputs": [],
   "source": [
    "f = open('../data/clean_tactics', 'r')\n",
    "lines = f.readlines()\n",
    "f.close()"
   ]
  },
  {
   "cell_type": "code",
   "execution_count": 3,
   "metadata": {
    "collapsed": false
   },
   "outputs": [
    {
     "data": {
      "text/plain": [
       "([' ......k.\\n',\n",
       "  ' p....p..\\n',\n",
       "  ' .pp...pQ\\n',\n",
       "  ' ...P....\\n',\n",
       "  ' P..P..KP\\n',\n",
       "  ' .BP...P.\\n',\n",
       "  ' ........\\n',\n",
       "  ' .....q..\\n'],\n",
       " '         \\n         \\n ......k.\\n p....p..\\n .pp...pQ\\n ...P....\\n P..P..KP\\n .BP...P.\\n ........\\n .....q..\\n         \\n         ',\n",
       " 'b')"
      ]
     },
     "execution_count": 3,
     "metadata": {},
     "output_type": "execute_result"
    }
   ],
   "source": [
    "#param: line from tactics csv\n",
    "#output: tuple containing sunfish formatted string and to move as either w or b\n",
    "def csvline2sunfish(line):\n",
    "    (uglyFEN,toMove) = tuple(line.split(',')[2].split(' '))\n",
    "    #parse uglyFEN to sunfish format\n",
    "    board = [\" \" + uglyFEN[r:r+8].replace('x','.') + '\\n' for r in range(0,64,8)]\n",
    "    edge_buffer = \"         \\n\"\n",
    "    return (board, ''.join([edge_buffer, edge_buffer, \"\".join(board), edge_buffer, edge_buffer[:-1]]), toMove)\n",
    "csvline2sunfish(lines[0])"
   ]
  },
  {
   "cell_type": "code",
   "execution_count": null,
   "metadata": {
    "collapsed": false
   },
   "outputs": [],
   "source": []
  },
  {
   "cell_type": "code",
   "execution_count": 4,
   "metadata": {
    "collapsed": false
   },
   "outputs": [],
   "source": [
    "from sunfish import *"
   ]
  },
  {
   "cell_type": "code",
   "execution_count": 5,
   "metadata": {
    "collapsed": false
   },
   "outputs": [
    {
     "name": "stdout",
     "output_type": "stream",
     "text": [
      "Position(board='         \\n         \\n ......k.\\n p....p..\\n .pp...pQ\\n ...P....\\n P..P..KP\\n .BP...P.\\n ........\\n .....q..\\n         \\n         ', score=0, wc=(True, True), bc=(True, True), ep=0, kp=0)\n",
      "(48, 38)\n",
      "(48, 28)\n",
      "(48, 58)\n",
      "(48, 47)\n",
      "(48, 57)\n",
      "(48, 66)\n",
      "(48, 75)\n",
      "(48, 84)\n",
      "(48, 93)\n",
      "(48, 37)\n",
      "(48, 26)\n",
      "(54, 44)\n",
      "(54, 43)\n",
      "(61, 51)\n",
      "(67, 57)\n",
      "(67, 66)\n",
      "(67, 58)\n",
      "(67, 78)\n",
      "(67, 76)\n",
      "(67, 56)\n",
      "(68, 58)\n",
      "(72, 63)\n",
      "(72, 83)\n",
      "(72, 94)\n",
      "(72, 81)\n",
      "(73, 63)\n",
      "\n",
      "  8 · · · · · · ♔ ·\n",
      "  7 ♙ · · · · ♙ · ·\n",
      "  6 · ♙ ♙ · · · ♙ ♛\n",
      "  5 · · · ♟ · · · ·\n",
      "  4 ♟ · · ♟ · · ♚ ♟\n",
      "  3 · ♝ ♟ · · · ♟ ·\n",
      "  2 · · · · · · · ·\n",
      "  1 · · · · · ♕ · ·\n",
      "    a b c d e f g h \n",
      "\n",
      "\n",
      "Your move: \n",
      "Please enter a move like g8f6\n",
      "Your move: \n",
      "Please enter a move like g8f6\n",
      "Your move: \n",
      "Please enter a move like g8f6\n"
     ]
    },
    {
     "ename": "KeyboardInterrupt",
     "evalue": "",
     "output_type": "error",
     "traceback": [
      "\u001b[0;31m---------------------------------------------------------------------------\u001b[0m",
      "\u001b[0;31mKeyboardInterrupt\u001b[0m                         Traceback (most recent call last)",
      "\u001b[0;32m<ipython-input-5-fe719e391892>\u001b[0m in \u001b[0;36m<module>\u001b[0;34m()\u001b[0m\n\u001b[1;32m     14\u001b[0m     \u001b[0mmove\u001b[0m \u001b[0;34m=\u001b[0m \u001b[0mNone\u001b[0m\u001b[0;34m\u001b[0m\u001b[0m\n\u001b[1;32m     15\u001b[0m     \u001b[0;32mwhile\u001b[0m \u001b[0mmove\u001b[0m \u001b[0;32mnot\u001b[0m \u001b[0;32min\u001b[0m \u001b[0mpos\u001b[0m\u001b[0;34m.\u001b[0m\u001b[0mgen_moves\u001b[0m\u001b[0;34m(\u001b[0m\u001b[0;34m)\u001b[0m\u001b[0;34m:\u001b[0m\u001b[0;34m\u001b[0m\u001b[0m\n\u001b[0;32m---> 16\u001b[0;31m         \u001b[0mmatch\u001b[0m \u001b[0;34m=\u001b[0m \u001b[0mre\u001b[0m\u001b[0;34m.\u001b[0m\u001b[0mmatch\u001b[0m\u001b[0;34m(\u001b[0m\u001b[0;34m'([a-h][1-8])'\u001b[0m\u001b[0;34m*\u001b[0m\u001b[0;36m2\u001b[0m\u001b[0;34m,\u001b[0m \u001b[0minput\u001b[0m\u001b[0;34m(\u001b[0m\u001b[0;34m'Your move: '\u001b[0m\u001b[0;34m)\u001b[0m\u001b[0;34m)\u001b[0m\u001b[0;34m\u001b[0m\u001b[0m\n\u001b[0m\u001b[1;32m     17\u001b[0m         \u001b[0;32mif\u001b[0m \u001b[0mmatch\u001b[0m\u001b[0;34m:\u001b[0m\u001b[0;34m\u001b[0m\u001b[0m\n\u001b[1;32m     18\u001b[0m             \u001b[0mmove\u001b[0m \u001b[0;34m=\u001b[0m \u001b[0mparse\u001b[0m\u001b[0;34m(\u001b[0m\u001b[0mmatch\u001b[0m\u001b[0;34m.\u001b[0m\u001b[0mgroup\u001b[0m\u001b[0;34m(\u001b[0m\u001b[0;36m1\u001b[0m\u001b[0;34m)\u001b[0m\u001b[0;34m)\u001b[0m\u001b[0;34m,\u001b[0m \u001b[0mparse\u001b[0m\u001b[0;34m(\u001b[0m\u001b[0mmatch\u001b[0m\u001b[0;34m.\u001b[0m\u001b[0mgroup\u001b[0m\u001b[0;34m(\u001b[0m\u001b[0;36m2\u001b[0m\u001b[0;34m)\u001b[0m\u001b[0;34m)\u001b[0m\u001b[0;34m\u001b[0m\u001b[0m\n",
      "\u001b[0;32m/Users/websterm/anaconda/lib/python2.7/site-packages/ipykernel/kernelbase.pyc\u001b[0m in \u001b[0;36mraw_input\u001b[0;34m(self, prompt)\u001b[0m\n\u001b[1;32m    649\u001b[0m             \u001b[0mself\u001b[0m\u001b[0;34m.\u001b[0m\u001b[0m_parent_ident\u001b[0m\u001b[0;34m,\u001b[0m\u001b[0;34m\u001b[0m\u001b[0m\n\u001b[1;32m    650\u001b[0m             \u001b[0mself\u001b[0m\u001b[0;34m.\u001b[0m\u001b[0m_parent_header\u001b[0m\u001b[0;34m,\u001b[0m\u001b[0;34m\u001b[0m\u001b[0m\n\u001b[0;32m--> 651\u001b[0;31m             \u001b[0mpassword\u001b[0m\u001b[0;34m=\u001b[0m\u001b[0mFalse\u001b[0m\u001b[0;34m,\u001b[0m\u001b[0;34m\u001b[0m\u001b[0m\n\u001b[0m\u001b[1;32m    652\u001b[0m         )\n\u001b[1;32m    653\u001b[0m \u001b[0;34m\u001b[0m\u001b[0m\n",
      "\u001b[0;32m/Users/websterm/anaconda/lib/python2.7/site-packages/ipykernel/kernelbase.pyc\u001b[0m in \u001b[0;36m_input_request\u001b[0;34m(self, prompt, ident, parent, password)\u001b[0m\n\u001b[1;32m    679\u001b[0m             \u001b[0;32mexcept\u001b[0m \u001b[0mKeyboardInterrupt\u001b[0m\u001b[0;34m:\u001b[0m\u001b[0;34m\u001b[0m\u001b[0m\n\u001b[1;32m    680\u001b[0m                 \u001b[0;31m# re-raise KeyboardInterrupt, to truncate traceback\u001b[0m\u001b[0;34m\u001b[0m\u001b[0;34m\u001b[0m\u001b[0m\n\u001b[0;32m--> 681\u001b[0;31m                 \u001b[0;32mraise\u001b[0m \u001b[0mKeyboardInterrupt\u001b[0m\u001b[0;34m\u001b[0m\u001b[0m\n\u001b[0m\u001b[1;32m    682\u001b[0m             \u001b[0;32melse\u001b[0m\u001b[0;34m:\u001b[0m\u001b[0;34m\u001b[0m\u001b[0m\n\u001b[1;32m    683\u001b[0m                 \u001b[0;32mbreak\u001b[0m\u001b[0;34m\u001b[0m\u001b[0m\n",
      "\u001b[0;31mKeyboardInterrupt\u001b[0m: "
     ]
    }
   ],
   "source": [
    "board, test_pos, to_move = csvline2sunfish(lines[0]) \n",
    "pos = Position(test_pos, 0, (True,True), (True,True), 0, 0)\n",
    "#if to_move == 'b' : pos = pos.rotate()\n",
    "print(pos)\n",
    "\n",
    "for move in pos.gen_moves():\n",
    "    print(move)\n",
    "\n",
    "\n",
    "while True:\n",
    "    print_pos(pos)\n",
    "\n",
    "    # We query the user until she enters a legal move.\n",
    "    move = None\n",
    "    while move not in pos.gen_moves():\n",
    "        match = re.match('([a-h][1-8])'*2, input('Your move: ')) \n",
    "        if match:\n",
    "            move = parse(match.group(1)), parse(match.group(2))\n",
    "        else:\n",
    "            # Inform the user when invalid input (e.g. \"help\") is entered\n",
    "            print(\"Please enter a move like g8f6\")\n",
    "    pos = pos.move(move)\n",
    "\n",
    "    # After our move we rotate the board and print it again.\n",
    "    # This allows us to see the effect of our move.\n",
    "    print_pos(pos.rotate())\n",
    "\n",
    "    # Fire up the engine to look for a move.\n",
    "    move, score = search(pos)\n",
    "    if score <= -MATE_VALUE:\n",
    "        print(\"You won\")\n",
    "        break\n",
    "    if score >= MATE_VALUE:\n",
    "        print(\"You lost\")\n",
    "        break\n",
    "\n",
    "    # The black player moves from a rotated position, so we have to\n",
    "    # 'back rotate' the move before printing it.\n",
    "    print(\"My move:\", render(119-move[0]) + render(119-move[1]))\n",
    "    pos = pos.move(move)"
   ]
  },
  {
   "cell_type": "code",
   "execution_count": 6,
   "metadata": {
    "collapsed": false
   },
   "outputs": [
    {
     "data": {
      "text/plain": [
       "[' ......k.\\n',\n",
       " ' p....p..\\n',\n",
       " ' .pp...pQ\\n',\n",
       " ' ...P....\\n',\n",
       " ' P..P..KP\\n',\n",
       " ' .BP...P.\\n',\n",
       " ' ........\\n',\n",
       " ' .....q..\\n']"
      ]
     },
     "execution_count": 6,
     "metadata": {},
     "output_type": "execute_result"
    }
   ],
   "source": [
    "board"
   ]
  },
  {
   "cell_type": "code",
   "execution_count": 7,
   "metadata": {
    "collapsed": false
   },
   "outputs": [
    {
     "data": {
      "text/plain": [
       "[' ......k.\\n',\n",
       " ' p....p..\\n',\n",
       " ' .pp...p.\\n',\n",
       " ' ...P....\\n',\n",
       " ' P..P..KP\\n',\n",
       " ' .BP.Q.P.\\n',\n",
       " ' ........\\n',\n",
       " ' .....q..\\n']"
      ]
     },
     "execution_count": 7,
     "metadata": {},
     "output_type": "execute_result"
    }
   ],
   "source": [
    "#parameters\n",
    "\n",
    "def apply_move(board, (move_start, move_end)):\n",
    "    board_copy = [list(row) for row in board]\n",
    "    start_x, start_y = (move_start / 10 - 2, move_start - move_start / 10 * 10)\n",
    "    end_x, end_y = (move_end / 10 - 2, move_end - move_end / 10 * 10)\n",
    "    #print(start_x, start_y)\n",
    "    #print(end_x, end_y)\n",
    "    tmp = board[start_x][start_y] # '.'\n",
    "    #add . to original spot\n",
    "    board_copy[start_x][start_y] = '.'\n",
    "    #add piece to end\n",
    "    #have to do funky stuff because strings are immutable: change to row array the nback\n",
    "    board_copy[end_x][end_y] = tmp\n",
    "    return [\"\".join(row) for row in board_copy]\n",
    "\n",
    "#move queen h6e3\n",
    "apply_move(board, (48,75))"
   ]
  },
  {
   "cell_type": "code",
   "execution_count": 8,
   "metadata": {
    "collapsed": false
   },
   "outputs": [
    {
     "data": {
      "text/plain": [
       "[' ......k.\\n',\n",
       " ' p....p..\\n',\n",
       " ' .pp...pQ\\n',\n",
       " ' ...P....\\n',\n",
       " ' P..P..KP\\n',\n",
       " ' .BP...P.\\n',\n",
       " ' ........\\n',\n",
       " ' .....q..\\n']"
      ]
     },
     "execution_count": 8,
     "metadata": {},
     "output_type": "execute_result"
    }
   ],
   "source": [
    "board"
   ]
  },
  {
   "cell_type": "code",
   "execution_count": 26,
   "metadata": {
    "collapsed": false
   },
   "outputs": [],
   "source": [
    "\n",
    "#start move\n",
    "a = [1 if board[i][j] == p else 0 for i in range(0,8) for j in range (1,9) for p in \"PKQNBRpkqnbr\"]\n",
    "#b and c are valid moves from a\n",
    "b = [1 if apply_move(board, (48,75))[i][j] == p else 0 for i in range(0,8) for j in range (1,9) for p in \"PKQNBRpkqnbr\"]         \n",
    "c = [1 if apply_move(board, (48,38))[i][j] == p else 0 for i in range(0,8) for j in range (1,9) for p in \"PKQNBRpkqnbr\"]\n",
    "#d and e are not a valid move: it is a pawn moving sideways\n",
    "d = [1 if apply_move(board, (47,46))[i][j] == p else 0 for i in range(0,8) for j in range (1,9) for p in \"PKQNBRpkqnbr\"]\n",
    "e = [1 if apply_move(board, (47,45))[i][j] == p else 0 for i in range(0,8) for j in range (1,9) for p in \"PKQNBRpkqnbr\"]\n",
    "X_train = [a + b, a + d]\n",
    "y_train = [[1], [0]]\n",
    "X_test = [[a + c], [a + e]];\n",
    "y_test = [1, 0]"
   ]
  },
  {
   "cell_type": "code",
   "execution_count": 1,
   "metadata": {
    "collapsed": false
   },
   "outputs": [
    {
     "ename": "ImportError",
     "evalue": "No module named keras.models",
     "output_type": "error",
     "traceback": [
      "\u001b[0;31m---------------------------------------------------------------------------\u001b[0m",
      "\u001b[0;31mImportError\u001b[0m                               Traceback (most recent call last)",
      "\u001b[0;32m<ipython-input-1-ee2c080c30cc>\u001b[0m in \u001b[0;36m<module>\u001b[0;34m()\u001b[0m\n\u001b[0;32m----> 1\u001b[0;31m \u001b[0;32mfrom\u001b[0m \u001b[0mkeras\u001b[0m\u001b[0;34m.\u001b[0m\u001b[0mmodels\u001b[0m \u001b[0;32mimport\u001b[0m \u001b[0mSequential\u001b[0m\u001b[0;34m\u001b[0m\u001b[0m\n\u001b[0m\u001b[1;32m      2\u001b[0m \u001b[0;32mfrom\u001b[0m \u001b[0mkeras\u001b[0m\u001b[0;34m.\u001b[0m\u001b[0mlayers\u001b[0m\u001b[0;34m.\u001b[0m\u001b[0mcore\u001b[0m \u001b[0;32mimport\u001b[0m \u001b[0mDense\u001b[0m\u001b[0;34m,\u001b[0m \u001b[0mDropout\u001b[0m\u001b[0;34m,\u001b[0m \u001b[0mActivation\u001b[0m\u001b[0;34m\u001b[0m\u001b[0m\n\u001b[1;32m      3\u001b[0m \u001b[0;32mfrom\u001b[0m \u001b[0mkeras\u001b[0m\u001b[0;34m.\u001b[0m\u001b[0moptimizers\u001b[0m \u001b[0;32mimport\u001b[0m \u001b[0mSGD\u001b[0m\u001b[0;34m\u001b[0m\u001b[0m\n\u001b[1;32m      4\u001b[0m \u001b[0;34m\u001b[0m\u001b[0m\n\u001b[1;32m      5\u001b[0m \u001b[0mmodel\u001b[0m \u001b[0;34m=\u001b[0m \u001b[0mSequential\u001b[0m\u001b[0;34m(\u001b[0m\u001b[0;34m)\u001b[0m\u001b[0;34m\u001b[0m\u001b[0m\n",
      "\u001b[0;31mImportError\u001b[0m: No module named keras.models"
     ]
    }
   ],
   "source": [
    "from keras.models import Sequential\n",
    "from keras.layers.core import Dense, Dropout, Activation\n",
    "from keras.optimizers import SGD\n",
    "\n",
    "model = Sequential()\n",
    "model.add(Dense(1, input_dim=1536, init='uniform', activation='tanh'))\n",
    "# model.add(Dropout(0.5))\n",
    "# model.add(Dense(64, init='uniform', activation='tanh'))\n",
    "# model.add(Dropout(0.5))\n",
    "# model.add(Dense(2, init='uniform', activation='softmax'))\n",
    "\n",
    "sgd = SGD(lr=0.1, decay=1e-6, momentum=0.9, nesterov=True)\n",
    "model.compile(loss='mean_squared_error', optimizer=sgd)\n",
    "model.train_on_batch([X_train], y_train)\n",
    "classes = model.predict_classes([X_test], batch_size=1)\n",
    "print(\"classes: {}\".format(classes))\n",
    "proba = model.predict_proba([X_test], batch_size=1)\n",
    "print(\"probabilities: {}\".format(proba))"
   ]
  },
  {
   "cell_type": "code",
   "execution_count": 30,
   "metadata": {
    "collapsed": false
   },
   "outputs": [
    {
     "data": {
      "text/plain": [
       "array([[ 0.99961775],\n",
       "       [ 0.99945491]])"
      ]
     },
     "execution_count": 30,
     "metadata": {},
     "output_type": "execute_result"
    }
   ],
   "source": [
    "proba"
   ]
  },
  {
   "cell_type": "code",
   "execution_count": null,
   "metadata": {
    "collapsed": true
   },
   "outputs": [],
   "source": []
  }
 ],
 "metadata": {
  "kernelspec": {
   "display_name": "Python 2",
   "language": "python",
   "name": "python2"
  },
  "language_info": {
   "codemirror_mode": {
    "name": "ipython",
    "version": 2
   },
   "file_extension": ".py",
   "mimetype": "text/x-python",
   "name": "python",
   "nbconvert_exporter": "python",
   "pygments_lexer": "ipython2",
   "version": "2.7.10"
  }
 },
 "nbformat": 4,
 "nbformat_minor": 0
}
